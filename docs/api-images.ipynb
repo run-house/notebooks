{
 "cells": [
  {
   "cell_type": "markdown",
   "metadata": {},
   "source": [
    "# Images\n",
    "\n",
    "Runhouse clusters expose various functions that allow you to set up state, dependencies, and whatnot on all nodes of your cluster. These include:\n",
    "\n",
    "- `cluster.install_packages(...)`\n",
    "- `cluster.rsync(...)`\n",
    "- `cluster.set_env_vars(...)`\n",
    "- `cluster.run_bash(...)`\n",
    "\n",
    "A Runhouse \"Image\" is simply an abstraction that allows you to run several setup steps _before_ we install `runhouse` and bring up the Runhouse daemon and initial set up on your cluster's nodes. You can also specify a Docker `image_id` as the \"base image\" of your Runhouse image. \n",
    "\n",
    "Here's a simple example of using the Runhouse Image abstraction in your cluster setup:"
   ]
  },
  {
   "cell_type": "code",
   "execution_count": 4,
   "metadata": {},
   "outputs": [
    {
     "data": {
      "text/html": [
       "<pre style=\"white-space:pre;overflow-x:auto;line-height:normal;font-family:Menlo,'DejaVu Sans Mono',consolas,'Courier New',monospace\"><span style=\"color: #008000; text-decoration-color: #008000\">⠹</span> <span style=\"color: #008080; text-decoration-color: #008080; font-weight: bold\">Preparing SkyPilot runtime (3/3 - runtime)</span>\n",
       "</pre>\n"
      ],
      "text/plain": [
       "\u001b[32m⠹\u001b[0m \u001b[1;36mPreparing SkyPilot runtime (3/3 - runtime)\u001b[0m\n"
      ]
     },
     "metadata": {},
     "output_type": "display_data"
    },
    {
     "data": {
      "text/html": [
       "<pre style=\"white-space:pre;overflow-x:auto;line-height:normal;font-family:Menlo,'DejaVu Sans Mono',consolas,'Courier New',monospace\"></pre>\n"
      ],
      "text/plain": []
     },
     "metadata": {},
     "output_type": "display_data"
    },
    {
     "name": "stdout",
     "output_type": "stream",
     "text": [
      "I 12-17 12:04:55 provisioner.py:560] \u001b[32mSuccessfully provisioned cluster: ml_ready_cluster\u001b[0m\n",
      "I 12-17 12:04:57 cloud_vm_ray_backend.py:3402] Run commands not specified or empty.\n",
      "Clusters\n",
      "\u001b[2mAWS: Fetching availability zones mapping...\u001b[0mNAME              LAUNCHED        RESOURCES                                                                  STATUS  AUTOSTOP  COMMAND                       \n",
      "ml_ready_cluster  a few secs ago  1x AWS(m6i.large, image_id={'us-east-1': 'docker:python:3.12.8-bookwor...  UP      (down)    /Users/rohinbhasin/minico...  \n",
      "\n",
      "\u001b[?25h"
     ]
    },
    {
     "data": {
      "application/vnd.jupyter.widget-view+json": {
       "model_id": "",
       "version_major": 2,
       "version_minor": 0
      },
      "text/plain": [
       "Output()"
      ]
     },
     "metadata": {},
     "output_type": "display_data"
    },
    {
     "data": {
      "text/html": [
       "<pre style=\"white-space:pre;overflow-x:auto;line-height:normal;font-family:Menlo,'DejaVu Sans Mono',consolas,'Courier New',monospace\"></pre>\n"
      ],
      "text/plain": []
     },
     "metadata": {},
     "output_type": "display_data"
    },
    {
     "data": {
      "text/html": [
       "<pre style=\"white-space:pre;overflow-x:auto;line-height:normal;font-family:Menlo,'DejaVu Sans Mono',consolas,'Courier New',monospace\">\n",
       "</pre>\n"
      ],
      "text/plain": [
       "\n"
      ]
     },
     "metadata": {},
     "output_type": "display_data"
    }
   ],
   "source": [
    "import runhouse as rh\n",
    "\n",
    "image = rh.Image(name=\"sample_image\").from_docker(\"python:3.12.8-bookworm\").install_packages([\"numpy\" ,\"pandas\"]).sync_secrets([\"huggingface\"]).set_env_vars({\"RH_LOG_LEVEL\":\"debug\"})\n",
    "\n",
    "cluster = rh.cluster(name=\"ml_ready_cluster\", image=image, instance_type=\"CPU:2+\", provider=\"aws\").up_if_not()"
   ]
  },
  {
   "cell_type": "markdown",
   "metadata": {},
   "source": [
    "The growing listing of setup steps available for Runhouse images is available in the API reference."
   ]
  }
 ],
 "metadata": {
  "kernelspec": {
   "display_name": "Python 3 (ipykernel)",
   "language": "python",
   "name": "python3"
  },
  "language_info": {
   "codemirror_mode": {
    "name": "ipython",
    "version": 3
   },
   "file_extension": ".py",
   "mimetype": "text/x-python",
   "name": "python",
   "nbconvert_exporter": "python",
   "pygments_lexer": "ipython3",
   "version": "3.9.15"
  }
 },
 "nbformat": 4,
 "nbformat_minor": 4
}
