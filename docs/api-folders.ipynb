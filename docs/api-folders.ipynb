{
 "cells": [
  {
   "cell_type": "markdown",
   "id": "9a9c5e00-8d78-478c-9a65-a2053e5e085c",
   "metadata": {},
   "source": [
    "# Folders\n",
    "\n",
    "The Runhouse Folder makes it easy to send folders and files between your local environment, a cluster, or your cloud storage (using your own credentials), without needing to learn and provider-specific APIs."
   ]
  },
  {
   "cell_type": "markdown",
   "id": "60df2b41-8c44-40f9-a6d0-c4842b9be081",
   "metadata": {},
   "source": [
    "## Installation and Setup"
   ]
  },
  {
   "cell_type": "markdown",
   "id": "883e0794-c327-441a-b177-e94eb18056ec",
   "metadata": {},
   "source": [
    "To install base runhouse:"
   ]
  },
  {
   "cell_type": "code",
   "execution_count": null,
   "id": "b533d87b-edaa-4429-bbc9-a2201c9b84e2",
   "metadata": {},
   "outputs": [],
   "source": [
    "!pip install runhouse"
   ]
  },
  {
   "cell_type": "markdown",
   "id": "749b9702-7adb-4880-ac9a-48aba1e8b293",
   "metadata": {},
   "source": [
    "Runhouse supports sending folders to/from cloud storage such as s3, gcs, azure. To download provider-specific libraries that are used under the hood, you can install `\"runhouse[aws/gcp/azure]\"`. In this tutorial we demonstrate with s3 and gcs, and install `\"runhouse[aws, gcp]\"`."
   ]
  },
  {
   "cell_type": "code",
   "execution_count": null,
   "id": "39e733f4-23d4-461d-919a-52d8c710a5a9",
   "metadata": {},
   "outputs": [],
   "source": [
    "!pip install \"runhouse[aws, gcp]\""
   ]
  },
  {
   "cell_type": "markdown",
   "id": "0fac5f56-fde7-45a3-b132-46a8e553653a",
   "metadata": {},
   "source": [
    "If you would like to use `s3` or `gcs`, please make sure to also set up your credentials locally. You can see the instructions for this by running `sky check`."
   ]
  },
  {
   "cell_type": "code",
   "execution_count": 19,
   "id": "e8b6d881-095d-4a69-b654-070d13c2ef15",
   "metadata": {},
   "outputs": [],
   "source": [
    "import runhouse as rh"
   ]
  },
  {
   "cell_type": "markdown",
   "id": "7f4f18d0-8887-4676-9f99-5117d0b1f2fd",
   "metadata": {},
   "source": [
    "### Folder Setup\n",
    "\n",
    "Here we define a simple folder structure in our current directory, a simple `sample-folder` consisting of 5 files, `1-5.txt`."
   ]
  },
  {
   "cell_type": "code",
   "execution_count": 17,
   "id": "f9884305-4d09-436a-b74a-5c102e81a31c",
   "metadata": {},
   "outputs": [
    {
     "data": {
      "text/plain": [
       "'/Users/caroline/Documents/runhouse/notebooks/docs/sample-folder'"
      ]
     },
     "execution_count": 17,
     "metadata": {},
     "output_type": "execute_result"
    }
   ],
   "source": [
    "import os\n",
    "folder_name = \"sample-folder\"\n",
    "os.makedirs(folder_name, exist_ok=True)\n",
    "\n",
    "for i in range(5):\n",
    "  with open(f'{folder_name}/{i}.txt', 'w') as f:\n",
    "      f.write('i')\n",
    "\n",
    "local_path = f\"{os.getcwd()}/{folder_name}\"\n",
    "local_path"
   ]
  },
  {
   "cell_type": "markdown",
   "id": "34b8d7c3-03ef-4ccd-85a7-6ab61d8e8186",
   "metadata": {
    "tags": []
   },
   "source": [
    "### Cluster Setup\n",
    "\n",
    "Launch a basic cluster, as the tutorial will demonstrate sending the local folder to the cluster. You can learn more about clusters in the [Cluster tutorial](https://www.run.house/docs/tutorials/api-clusters)."
   ]
  },
  {
   "cell_type": "code",
   "execution_count": null,
   "id": "c858c8ed-dc20-4332-bed9-504f4da95eb2",
   "metadata": {},
   "outputs": [],
   "source": [
    "cluster = rh.cluster(\n",
    "    name=\"rh-cluster\",\n",
    "    instance_type=\"CPU:2+\",\n",
    "    provider=\"aws\",\n",
    ")\n",
    "cluster.up_if_not()"
   ]
  },
  {
   "cell_type": "markdown",
   "id": "f7b28f70-d8d3-4170-9e3a-06a6efde0242",
   "metadata": {},
   "source": [
    "## Runhouse Folder\n",
    "\n",
    "Construct a Runhouse folder object with `rh.folder`, passing in the path of the folder you'd like it to represent. Optionally pass in a `system=<cluster>/s3/gcs/azure` that the folder lives on.\n",
    "\n",
    "Here, we construct a Runhouse folder object that represents the `sample-folder` that we created earlier."
   ]
  },
  {
   "cell_type": "code",
   "execution_count": 20,
   "id": "9c289817-fd22-4176-85f4-e1ae4e1fea73",
   "metadata": {},
   "outputs": [],
   "source": [
    "local_folder = rh.folder(path=local_path)"
   ]
  },
  {
   "cell_type": "markdown",
   "id": "8169be54-a2f5-42ff-82eb-bd26556d2c78",
   "metadata": {},
   "source": [
    "To print the full paths, call `.ls()`, or for relative paths, call `.ls(full_paths=False)`."
   ]
  },
  {
   "cell_type": "code",
   "execution_count": 22,
   "id": "61f9e689-72f9-4f57-855a-ee929c4c76a3",
   "metadata": {},
   "outputs": [
    {
     "data": {
      "text/plain": [
       "['4.txt', '3.txt', '2.txt', '0.txt', '1.txt']"
      ]
     },
     "execution_count": 22,
     "metadata": {},
     "output_type": "execute_result"
    }
   ],
   "source": [
    "local_folder.ls(full_paths=False)"
   ]
  },
  {
   "cell_type": "markdown",
   "id": "cef38cd6-5567-4228-af0c-cd40a7398143",
   "metadata": {},
   "source": [
    "### To: Cluster\n",
    "\n",
    "To send it to a cluster, call `.to(system=cluster)`, and optionally pass in a path. If no path is provided, it will be automatically generated. The path can be retrieved by calling `.path` on the resulting object."
   ]
  },
  {
   "cell_type": "code",
   "execution_count": 30,
   "id": "026af69f-8ca3-44dc-98c5-52bb4c2d21af",
   "metadata": {},
   "outputs": [
    {
     "name": "stderr",
     "output_type": "stream",
     "text": [
      "INFO | 2024-03-06 04:35:08.517625 | Copying folder from file:///Users/caroline/Documents/runhouse/notebooks/docs/sample-folder to: rh-cluster, with path: sample-folder\n"
     ]
    }
   ],
   "source": [
    "cluster_folder = local_folder.to(system=cluster, path=folder_name)"
   ]
  },
  {
   "cell_type": "code",
   "execution_count": 29,
   "id": "dc47fd5b-07cc-41fa-94ea-5fd3a52a12b0",
   "metadata": {},
   "outputs": [
    {
     "data": {
      "text/plain": [
       "['sample-folder/3.txt',\n",
       " 'sample-folder/0.txt',\n",
       " 'sample-folder/4.txt',\n",
       " 'sample-folder/2.txt',\n",
       " 'sample-folder/1.txt']"
      ]
     },
     "execution_count": 29,
     "metadata": {},
     "output_type": "execute_result"
    }
   ],
   "source": [
    "cluster_folder.ls()"
   ]
  },
  {
   "cell_type": "code",
   "execution_count": 31,
   "id": "680963a7-629a-4bf7-a569-bcd92136727a",
   "metadata": {},
   "outputs": [
    {
     "data": {
      "text/plain": [
       "'sample-folder'"
      ]
     },
     "execution_count": 31,
     "metadata": {},
     "output_type": "execute_result"
    }
   ],
   "source": [
    "cluster_folder.path"
   ]
  },
  {
   "cell_type": "markdown",
   "id": "a7ee4a16-5bc4-460c-9b07-5bb88dfc37a2",
   "metadata": {},
   "source": [
    "### To: S3/GCS"
   ]
  },
  {
   "cell_type": "markdown",
   "id": "b2ba3f91-ad24-4cf3-b913-544ac0c2503c",
   "metadata": {},
   "source": [
    "Sending to S3/GCS is similar, call `.to(system=s3/gcs)`."
   ]
  },
  {
   "cell_type": "code",
   "execution_count": 33,
   "id": "9fa8758c-c3ae-4ffa-95dd-61ddf27cc4cb",
   "metadata": {},
   "outputs": [
    {
     "name": "stderr",
     "output_type": "stream",
     "text": [
      "INFO | 2024-03-06 04:35:38.607986 | Copying folder from file:///Users/caroline/Documents/runhouse/notebooks/docs/sample-folder to: gs, with path: /runhouse-folder/bd489bb276734f7f8c23e401e6bb2b51\n"
     ]
    }
   ],
   "source": [
    "gs_folder = local_folder.to(system=\"gs\")"
   ]
  },
  {
   "cell_type": "code",
   "execution_count": 34,
   "id": "7fd4a065-c680-484c-b6ca-b4927a1bb59e",
   "metadata": {},
   "outputs": [
    {
     "data": {
      "text/plain": [
       "['0.txt', '1.txt', '2.txt', '3.txt', '4.txt']"
      ]
     },
     "execution_count": 34,
     "metadata": {},
     "output_type": "execute_result"
    }
   ],
   "source": [
    "gs_folder.ls(full_paths=False)"
   ]
  },
  {
   "cell_type": "markdown",
   "id": "2537c644-9ee8-43b0-ad7b-e3782616e3cf",
   "metadata": {},
   "source": [
    "Similarly, for s3:"
   ]
  },
  {
   "cell_type": "code",
   "execution_count": 37,
   "id": "c5bb88fc-689f-4def-ba72-3e93d4ad758a",
   "metadata": {},
   "outputs": [
    {
     "name": "stderr",
     "output_type": "stream",
     "text": [
      "INFO | 2024-03-06 04:36:04.390441 | Copying folder from file:///Users/caroline/Documents/runhouse/notebooks/docs/sample-folder to: s3, with path: /runhouse-folder/dae8c16b71a744cb976da0dace7c4db2\n"
     ]
    }
   ],
   "source": [
    "s3_folder = local_folder.to(system=\"s3\")"
   ]
  },
  {
   "cell_type": "code",
   "execution_count": 38,
   "id": "045ab524-8343-47a5-bd8a-343ad0d03bbb",
   "metadata": {},
   "outputs": [
    {
     "data": {
      "text/plain": [
       "['0.txt', '1.txt', '2.txt', '3.txt', '4.txt']"
      ]
     },
     "execution_count": 39,
     "metadata": {},
     "output_type": "execute_result"
    }
   ],
   "source": [
    "s3_folder.ls(full_paths=False)"
   ]
  },
  {
   "cell_type": "markdown",
   "id": "dcc1481c-f7bd-48e1-bfec-1af969338ee5",
   "metadata": {},
   "source": [
    "### To: Here\n",
    "\n",
    "The keyword for sending to local is `.to(\"here\")`."
   ]
  },
  {
   "cell_type": "code",
   "execution_count": 44,
   "id": "8462c73d-0f96-4196-9f73-0764823f2f31",
   "metadata": {},
   "outputs": [
    {
     "name": "stderr",
     "output_type": "stream",
     "text": [
      "INFO | 2024-03-06 04:38:01.269441 | Copying folder from s3://runhouse-folder/dae8c16b71a744cb976da0dace7c4db2 to: file, with path: new-sample-folder\n"
     ]
    }
   ],
   "source": [
    "new_local_folder = s3_folder.to(\"here\", path=\"new-sample-folder\")"
   ]
  },
  {
   "cell_type": "code",
   "execution_count": 46,
   "id": "e0096b7e-39a1-4c71-a6a2-d4ae384ff534",
   "metadata": {},
   "outputs": [
    {
     "data": {
      "text/plain": [
       "['4.txt', '3.txt', '2.txt', '0.txt', '1.txt']"
      ]
     },
     "execution_count": 46,
     "metadata": {},
     "output_type": "execute_result"
    }
   ],
   "source": [
    "new_local_folder.ls(full_paths=False)"
   ]
  },
  {
   "cell_type": "markdown",
   "id": "e23af6e5-82a6-4a84-8942-19917b7d67f2",
   "metadata": {},
   "source": [
    "### And more..\n",
    "\n",
    "Folders can be sent between any pair of local, cluster, or cloud storage, including between different clusters, or within the same cloud storage but duplicating the folder to a second location in storage."
   ]
  },
  {
   "cell_type": "code",
   "execution_count": null,
   "id": "7dbf5f70-0c99-4a9d-a40d-b03c83d05f95",
   "metadata": {},
   "outputs": [],
   "source": []
  }
 ],
 "metadata": {
  "kernelspec": {
   "display_name": "Python 3 (ipykernel)",
   "language": "python",
   "name": "python3"
  },
  "language_info": {
   "codemirror_mode": {
    "name": "ipython",
    "version": 3
   },
   "file_extension": ".py",
   "mimetype": "text/x-python",
   "name": "python",
   "nbconvert_exporter": "python",
   "pygments_lexer": "ipython3",
   "version": "3.9.15"
  }
 },
 "nbformat": 4,
 "nbformat_minor": 5
}
