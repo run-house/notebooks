{
 "cells": [
  {
   "cell_type": "markdown",
   "id": "304a91e0-86b1-4498-ab75-1be1e59c7c3c",
   "metadata": {},
   "source": [
    "# Resource Management\n",
    "\n",
    "Runhouse provides a suite of accessibility features that makes it easy to keep track of and access your data, code, or secrets from anywhere. The Runhouse RNS (resource naming system) keeps track of lightweight metadata for your Resources, making it possible to save, reload, and reuse them.\n",
    "\n",
    "Anyone can take advantage of these accessibility features locally, and by creating a (free) Runhouse account, you can further access your resources and secrets from any environment or device you log into.\n",
    "\n",
    "\n",
    "This tutorial covers the following topics:\n",
    "1. Configs\n",
    "2. Local RNS\n",
    "3. Runhouse RNS"
   ]
  },
  {
   "cell_type": "code",
   "execution_count": 1,
   "id": "6c0f2a1e-3b3e-4127-b1e0-8c47bb703e9d",
   "metadata": {},
   "outputs": [],
   "source": [
    "import runhouse as rh"
   ]
  },
  {
   "cell_type": "markdown",
   "id": "75d2cbed-8241-480c-a459-963b90747fea",
   "metadata": {},
   "source": [
    "## Setting Config Options\n",
    "\n",
    "Runhouse stores user configs both locally in `~/.rh/config.yaml` and remotely in the Runhouse database, letting you preserve your same config across environments.\n",
    "\n",
    "Some configs to consider setting:\n",
    "* `rh.configs.set('use_spot', True)`: Whether to use spot instances, which are cheaper but can be reclaimed at any time. This is `False` by default, because you'll need to request spot quota from the cloud providers to use spot instances.\n",
    "\n",
    "* `rh.configs.set('default_autostop', 30)`: Default autostop time (or -1 for indefinitely) for the on-demand cluster, to dynamically stop the cluster after inactivity to save money. You can also call `cluster.keep_warm(autostop=60)` to control this for an existing cluster.\n",
    "\n",
    "* `rh.configs.set('default_provider', 'cheapest')`: Default cloud provider to use for your on-demand cluster, or `cheapest` selects the cheapest provider for the desired hardware."
   ]
  },
  {
   "cell_type": "markdown",
   "id": "5ba46822-c866-40b8-abda-61cf70269f0e",
   "metadata": {},
   "source": [
    "To save updated configs to Runhouse, to be accessed from elsewhere:"
   ]
  },
  {
   "cell_type": "code",
   "execution_count": null,
   "id": "3ba897df-6287-4c80-ab8e-8bf25b85c622",
   "metadata": {},
   "outputs": [],
   "source": [
    "rh.configs.upload_defaults()"
   ]
  },
  {
   "cell_type": "markdown",
   "id": "6fa152d6-0e75-492b-a295-6b1e4330e537",
   "metadata": {},
   "source": [
    "## Local RNS\n",
    "\n",
    "The Local RNS is a git-based approach that allows for local persistence and versioning, or sharing across OSS projects. It lets you publish the exact resource metadata in the same version tree as your code, and can be a highly visible way to publish distribute resources, such as cloud configurations and data artifacts, to OSS users."
   ]
  },
  {
   "cell_type": "markdown",
   "id": "22676292-59f5-4754-a16c-007995e79f35",
   "metadata": {},
   "source": [
    "Local Resources live in the current local folder; they are saved down into the `rh` folder of the current Git working directory.\n",
    "\n",
    "If you are not logged into a Runhouse account, calling `.save()` will save down resources locally by default. If you are logged into a Runhouse account however, Resources will be saved into Runhouse RNS by default, so if you would like to specify creating a local resource, you can do so by explicitly setting the resource name to begin with `~/` to signal that it lives in the current folder."
   ]
  },
  {
   "cell_type": "code",
   "execution_count": 3,
   "id": "142d69d7-55aa-4461-8416-c988dd85a07d",
   "metadata": {},
   "outputs": [
    {
     "name": "stdout",
     "output_type": "stream",
     "text": [
      "INFO | 2023-06-21 22:15:57,611 | Saving config for ~/aws_cluster to: /Users/caroline/Documents/runhouse/runhouse/rh/aws_cluster/config.json\n"
     ]
    },
    {
     "data": {
      "text/plain": [
       "<runhouse.resources.hardware.on_demand_cluster.OnDemandCluster at 0x1661c7040>"
      ]
     },
     "execution_count": 3,
     "metadata": {},
     "output_type": "execute_result"
    }
   ],
   "source": [
    "my_resource = rh.ondemand_cluster(name='~/aws_cluster', instance_type='V100:1', provider='aws')\n",
    "my_resource.save()"
   ]
  },
  {
   "cell_type": "code",
   "execution_count": 4,
   "id": "57d50eb2-1058-446e-8d13-888c0664c90f",
   "metadata": {},
   "outputs": [
    {
     "name": "stdout",
     "output_type": "stream",
     "text": [
      "{\n",
      "    \"name\": \"~/aws_cluster\",\n",
      "    \"resource_type\": \"cluster\",\n",
      "    \"resource_subtype\": \"OnDemandCluster\",\n",
      "    \"instance_type\": \"V100:1\",\n",
      "    \"num_instances\": null,\n",
      "    \"provider\": \"aws\",\n",
      "    \"autostop_mins\": 30,\n",
      "    \"use_spot\": false,\n",
      "    \"image_id\": null,\n",
      "    \"region\": null,\n",
      "    \"sky_state\": null\n",
      "}"
     ]
    }
   ],
   "source": [
    "!cat /Users/caroline/Documents/runhouse/runhouse/rh/aws_cluster/config.json"
   ]
  },
  {
   "cell_type": "markdown",
   "id": "297b7c9d-3c61-4ab0-91fe-e6c35dda6579",
   "metadata": {},
   "source": [
    "To load a resource, you can call `rh.load('resource_name')`, or use the resource factory method, passing in only the name."
   ]
  },
  {
   "cell_type": "code",
   "execution_count": 12,
   "id": "644c32fa-4c78-470d-810f-578f18cc08fc",
   "metadata": {},
   "outputs": [
    {
     "name": "stdout",
     "output_type": "stream",
     "text": [
      "INFO | 2023-06-21 22:20:03,710 | Loading config from local file /Users/caroline/Documents/runhouse/runhouse/rh/aws_cluster/config.json\n"
     ]
    },
    {
     "data": {
      "text/plain": [
       "<runhouse.resources.hardware.on_demand_cluster.OnDemandCluster at 0x1231023d0>"
      ]
     },
     "execution_count": 12,
     "metadata": {},
     "output_type": "execute_result"
    }
   ],
   "source": [
    "del my_resource\n",
    "\n",
    "rh.load(\"~/aws_cluster\")"
   ]
  },
  {
   "cell_type": "code",
   "execution_count": 14,
   "id": "5a2bd956-cdf3-4495-ad6f-ee108313bd14",
   "metadata": {},
   "outputs": [
    {
     "name": "stdout",
     "output_type": "stream",
     "text": [
      "INFO | 2023-06-21 22:20:20,156 | Loading config from local file /Users/caroline/Documents/runhouse/runhouse/rh/aws_cluster/config.json\n"
     ]
    },
    {
     "data": {
      "text/plain": [
       "<runhouse.resources.hardware.on_demand_cluster.OnDemandCluster at 0x12324b400>"
      ]
     },
     "execution_count": 14,
     "metadata": {},
     "output_type": "execute_result"
    }
   ],
   "source": [
    "rh.cluster(name=\"~/aws_cluster\")"
   ]
  },
  {
   "cell_type": "markdown",
   "id": "83c03ae1-cd8b-4f3b-ab57-bdd3304a87e3",
   "metadata": {},
   "source": [
    "## Runhouse RNS\n",
    "\n",
    "Runhouse RNS, or Den, is a key-value metadata store that allows resources to be shared across users or environments, and does not need to be backed by Git. It works anywhere with an internet connection and Python interpreter, making it more portable. The RNS is also backed by a management dashboard to view and manage all resources, including creation and update history.\n",
    "\n",
    "To use Den you will need a [Runhouse account](https://www.run.house/login).\n",
    "\n",
    "Simply call `.save()` on any Runhouse resource to save it to Den.\n",
    "\n",
    "Below is an example of how you connect to an existing cluster, run commands on the cluster remotely, and share the cluster for another user to connect to."
   ]
  },
  {
   "cell_type": "code",
   "execution_count": 34,
   "id": "b9ce4259",
   "metadata": {},
   "outputs": [
    {
     "name": "stderr",
     "output_type": "stream",
     "text": [
      "INFO | 2024-08-18 06:50:57.377788 | Running command on aws-cpu: echo \"hello\"\n"
     ]
    },
    {
     "data": {
      "application/vnd.jupyter.widget-view+json": {
       "model_id": "",
       "version_major": 2,
       "version_minor": 0
      },
      "text/plain": [
       "Output()"
      ]
     },
     "metadata": {},
     "output_type": "display_data"
    },
    {
     "data": {
      "text/html": [
       "<pre style=\"white-space:pre;overflow-x:auto;line-height:normal;font-family:Menlo,'DejaVu Sans Mono',consolas,'Courier New',monospace\"></pre>\n"
      ],
      "text/plain": []
     },
     "metadata": {},
     "output_type": "display_data"
    },
    {
     "data": {
      "text/html": [
       "<pre style=\"white-space:pre;overflow-x:auto;line-height:normal;font-family:Menlo,'DejaVu Sans Mono',consolas,'Courier New',monospace\">\n",
       "</pre>\n"
      ],
      "text/plain": [
       "\n"
      ]
     },
     "metadata": {},
     "output_type": "display_data"
    },
    {
     "name": "stderr",
     "output_type": "stream",
     "text": [
      "INFO | 2024-08-18 06:51:07.370306 | Running command on aws-cpu: echo \"hello\"\n"
     ]
    },
    {
     "name": "stdout",
     "output_type": "stream",
     "text": [
      "True\n"
     ]
    }
   ],
   "source": [
    "# Load a cluster which has already been launched and saved in Runhouse Den \n",
    "# rh.cluster(name=\"aws-cpu\", provider=\"aws\", instance_type=\"m6i.large\").save()\n",
    "\n",
    "cpu_cluster = rh.cluster(name=\"/jlewitt1/aws-cpu\")\n",
    "print(cpu_cluster.is_up())"
   ]
  },
  {
   "cell_type": "code",
   "execution_count": 32,
   "id": "2a218187",
   "metadata": {},
   "outputs": [
    {
     "name": "stderr",
     "output_type": "stream",
     "text": [
      "INFO | 2024-08-17 20:24:44.166333 | Running command on aws-cpu: echo \"hello\"\n",
      "INFO | 2024-08-17 20:24:48.699220 | Running forwarding command: ssh -T -L 32300:localhost:32300 -i ~/.ssh/sky-key -o Port=10022 -o StrictHostKeyChecking=no -o UserKnownHostsFile=/dev/null -o IdentitiesOnly=yes -o ExitOnForwardFailure=yes -o ServerAliveInterval=5 -o ServerAliveCountMax=3 -o ConnectTimeout=30s -o ForwardAgent=yes -o ProxyCommand='ssh -T -L 32300:localhost:32300 -i ~/.ssh/sky-key -o Port=22 -o StrictHostKeyChecking=no -o UserKnownHostsFile=/dev/null -o IdentitiesOnly=yes -o ExitOnForwardFailure=yes -o ServerAliveInterval=5 -o ServerAliveCountMax=3 -o ConnectTimeout=30s -o ForwardAgent=yes -W %h:%p ubuntu@3.14.144.103' root@localhost\n"
     ]
    },
    {
     "name": "stdout",
     "output_type": "stream",
     "text": [
      "v1\n"
     ]
    }
   ],
   "source": [
    "# Put an object into the cluster's object store and reload it\n",
    "cpu_cluster.put(\"k1\", \"v1\")\n",
    "print(cpu_cluster.get(\"k1\"))"
   ]
  },
  {
   "cell_type": "markdown",
   "id": "f3977228-4d9e-458f-994e-6213ffd56424",
   "metadata": {},
   "source": [
    "This resource can then be reloaded and reused not only from local, but also from any other environment, cluster, or device that you're logged into!"
   ]
  },
  {
   "cell_type": "markdown",
   "id": "8a1ce83e-eb69-4c25-83c4-ad8802e2c530",
   "metadata": {},
   "source": [
    "The portability is extended to any teammates or person you want to share your resource with. Simply call `.share()` on the resource, and pass in the emails (must be associated with a Runhouse account) of the people to share it with. Further customize their resource access, and whether to notify them."
   ]
  },
  {
   "cell_type": "code",
   "execution_count": 35,
   "id": "123bd62e-3c3b-4054-9685-fc2a3bd427cc",
   "metadata": {},
   "outputs": [
    {
     "name": "stderr",
     "output_type": "stream",
     "text": [
      "INFO | 2024-08-18 06:51:39.797150 | Saving config for aws-cpu-ssh-secret to Den\n",
      "INFO | 2024-08-18 06:51:39.972763 | Saving secrets for aws-cpu-ssh-secret to Vault\n",
      "INFO | 2024-08-18 06:51:40.190996 | Saving config to RNS: {'name': '/jlewitt1/aws-cpu_default_env', 'resource_type': 'env', 'resource_subtype': 'Env', 'provenance': None, 'visibility': 'private', 'env_vars': {}, 'env_name': 'aws-cpu_default_env', 'compute': {}, 'reqs': ['ray==2.30.0'], 'working_dir': None}\n",
      "INFO | 2024-08-18 06:51:40.368442 | Saving config to RNS: {'name': '/jlewitt1/aws-cpu', 'resource_type': 'cluster', 'resource_subtype': 'OnDemandCluster', 'provenance': None, 'visibility': 'private', 'ips': ['3.14.144.103'], 'server_port': 32300, 'server_connection_type': 'ssh', 'den_auth': False, 'ssh_port': 22, 'client_port': 32300, 'creds': '/jlewitt1/aws-cpu-ssh-secret', 'api_server_url': 'https://api.run.house', 'default_env': '/jlewitt1/aws-cpu_default_env', 'instance_type': 'CPU:2+', 'provider': 'aws', 'open_ports': [], 'use_spot': False, 'image_id': 'docker:nvcr.io/nvidia/pytorch:23.10-py3', 'region': 'us-east-2', 'stable_internal_external_ips': [('172.31.5.134', '3.14.144.103')], 'sky_kwargs': {'launch': {'retry_until_up': True}}, 'launched_properties': {'cloud': 'aws', 'instance_type': 'm6i.large', 'region': 'us-east-2', 'cost_per_hour': 0.096, 'docker_user': 'root'}, 'autostop_mins': -1}\n",
      "INFO | 2024-08-18 06:51:40.548233 | Sharing cluster credentials, which enables the recipient to SSH into the cluster.\n",
      "INFO | 2024-08-18 06:51:40.551277 | Saving config for aws-cpu-ssh-secret to Den\n",
      "INFO | 2024-08-18 06:51:40.728345 | Saving secrets for aws-cpu-ssh-secret to Vault\n",
      "INFO | 2024-08-18 06:51:41.150745 | Saving config to RNS: {'name': '/jlewitt1/aws-cpu_default_env', 'resource_type': 'env', 'resource_subtype': 'Env', 'provenance': None, 'visibility': 'private', 'env_vars': {}, 'env_name': 'aws-cpu_default_env', 'compute': {}, 'reqs': ['ray==2.30.0'], 'working_dir': None}\n",
      "INFO | 2024-08-18 06:51:42.006030 | Saving config for aws-cpu-ssh-secret to Den\n",
      "INFO | 2024-08-18 06:51:42.504070 | Saving secrets for aws-cpu-ssh-secret to Vault\n",
      "INFO | 2024-08-18 06:51:42.728653 | Saving config to RNS: {'name': '/jlewitt1/aws-cpu_default_env', 'resource_type': 'env', 'resource_subtype': 'Env', 'provenance': None, 'visibility': 'private', 'env_vars': {}, 'env_name': 'aws-cpu_default_env', 'compute': {}, 'reqs': ['ray==2.30.0'], 'working_dir': None}\n",
      "INFO | 2024-08-18 06:51:42.906615 | Saving config to RNS: {'name': '/jlewitt1/aws-cpu', 'resource_type': 'cluster', 'resource_subtype': 'OnDemandCluster', 'provenance': None, 'visibility': 'private', 'ips': ['3.14.144.103'], 'server_port': 32300, 'server_connection_type': 'ssh', 'den_auth': False, 'ssh_port': 22, 'client_port': 32300, 'creds': '/jlewitt1/aws-cpu-ssh-secret', 'api_server_url': 'https://api.run.house', 'default_env': '/jlewitt1/aws-cpu_default_env', 'instance_type': 'CPU:2+', 'provider': 'aws', 'open_ports': [], 'use_spot': False, 'image_id': 'docker:nvcr.io/nvidia/pytorch:23.10-py3', 'region': 'us-east-2', 'stable_internal_external_ips': [('172.31.5.134', '3.14.144.103')], 'sky_kwargs': {'launch': {'retry_until_up': True}}, 'launched_properties': {'cloud': 'aws', 'instance_type': 'm6i.large', 'region': 'us-east-2', 'cost_per_hour': 0.096, 'docker_user': 'root'}, 'autostop_mins': -1}\n"
     ]
    },
    {
     "data": {
      "text/plain": [
       "({}, {'teammate1@email.com': 'write'}, ['teammate1@email.com'])"
      ]
     },
     "execution_count": 35,
     "metadata": {},
     "output_type": "execute_result"
    }
   ],
   "source": [
    "cpu_cluster.share(\n",
    "    users=[\"teammate1@email.com\"],\n",
    "    access_level=\"write\",\n",
    ")"
   ]
  },
  {
   "cell_type": "code",
   "execution_count": null,
   "id": "efaf1ab0-7fe3-4681-86a8-13e671299d9b",
   "metadata": {},
   "outputs": [],
   "source": []
  }
 ],
 "metadata": {
  "kernelspec": {
   "display_name": "Python 3 (ipykernel)",
   "language": "python",
   "name": "python3"
  },
  "language_info": {
   "codemirror_mode": {
    "name": "ipython",
    "version": 3
   },
   "file_extension": ".py",
   "mimetype": "text/x-python",
   "name": "python",
   "nbconvert_exporter": "python",
   "pygments_lexer": "ipython3",
   "version": "3.9.18"
  }
 },
 "nbformat": 4,
 "nbformat_minor": 5
}
