{
 "cells": [
  {
   "cell_type": "markdown",
   "id": "304a91e0-86b1-4498-ab75-1be1e59c7c3c",
   "metadata": {},
   "source": [
    "# Resource Management\n",
    "\n",
    "Runhouse provides a suite of accessibility features that makes it easy to keep track of and access your data, code, or secrets from anywhere. The Runhouse RNS (resource naming system) keeps track of lightweight metadata for your Resources, making it possible to save, reload, and reuse them.\n",
    "\n",
    "Anyone can take advantage of these accessibility features locally, and by creating a (free) Runhouse account, you can further access your resources and secrets from any environment or device you log into.\n",
    "\n",
    "\n",
    "This tutorial covers the following topics:\n",
    "1. Configs\n",
    "2. Local RNS\n",
    "3. Runhouse RNS"
   ]
  },
  {
   "cell_type": "code",
   "execution_count": 1,
   "id": "6c0f2a1e-3b3e-4127-b1e0-8c47bb703e9d",
   "metadata": {},
   "outputs": [],
   "source": [
    "import runhouse as rh"
   ]
  },
  {
   "cell_type": "markdown",
   "id": "75d2cbed-8241-480c-a459-963b90747fea",
   "metadata": {},
   "source": [
    "## Setting Config Options\n",
    "\n",
    "Runhouse stores user configs both locally in `~/.rh/config.yaml` and remotely in the Runhouse database, letting you preserve your same config across environments.\n",
    "\n",
    "Some configs to consider setting:\n",
    "* `rh.configs.set('use_spot', True)`: Whether to use spot instances, which are cheaper but can be reclaimed at any time. This is `False` by default, because you'll need to request spot quota from the cloud providers to use spot instances.\n",
    "\n",
    "* `rh.configs.set('default_autostop', 30)`: Default autostop time (or -1 for indefinitely) for the on-demand cluster, to dynamically stop the cluster after inactivity to save money. You can also call `cluster.keep_warm(autostop=60)` to control this for an existing cluster.\n",
    "\n",
    "* `rh.configs.set('default_provider', 'cheapest')`: Default cloud provider to use for your on-demand cluster, or `cheapest` selects the cheapest provider for the desired hardware."
   ]
  },
  {
   "cell_type": "markdown",
   "id": "5ba46822-c866-40b8-abda-61cf70269f0e",
   "metadata": {},
   "source": [
    "To save updated configs to Runhouse, to be accessed from elsewhere:"
   ]
  },
  {
   "cell_type": "code",
   "execution_count": null,
   "id": "3ba897df-6287-4c80-ab8e-8bf25b85c622",
   "metadata": {},
   "outputs": [],
   "source": [
    "rh.configs.upload_defaults()"
   ]
  },
  {
   "cell_type": "markdown",
   "id": "6fa152d6-0e75-492b-a295-6b1e4330e537",
   "metadata": {},
   "source": [
    "## Local RNS\n",
    "\n",
    "The Local RNS is a git-based approach that allows for local persistence and versioning, or sharing across OSS projects. It lets you publish the exact resource metadata in the same version tree as your code, and can be a highly visible way to publish distribute resources, such as cloud configurations and data artifacts, to OSS users."
   ]
  },
  {
   "cell_type": "markdown",
   "id": "22676292-59f5-4754-a16c-007995e79f35",
   "metadata": {},
   "source": [
    "Local Resources live in the current local folder; they are saved down into the `rh` folder of the current Git working directory.\n",
    "\n",
    "If you are not logged into a Runhouse account, calling `.save()` will save down resources locally by default. If you are logged into a Runhouse account however, Resources will be saved into Runhouse RNS by default, so if you would like to specify creating a local resource, you can do so by explicitly setting the resource name to begin with `~/` to signal that it lives in the current folder."
   ]
  },
  {
   "cell_type": "code",
   "execution_count": 3,
   "id": "142d69d7-55aa-4461-8416-c988dd85a07d",
   "metadata": {},
   "outputs": [
    {
     "name": "stdout",
     "output_type": "stream",
     "text": [
      "INFO | 2023-06-21 22:15:57,611 | Saving config for ~/aws_cluster to: /Users/caroline/Documents/runhouse/runhouse/rh/aws_cluster/config.json\n"
     ]
    },
    {
     "data": {
      "text/plain": [
       "<runhouse.resources.hardware.on_demand_cluster.OnDemandCluster at 0x1661c7040>"
      ]
     },
     "execution_count": 3,
     "metadata": {},
     "output_type": "execute_result"
    }
   ],
   "source": [
    "my_resource = rh.ondemand_cluster(name='~/aws_cluster', instance_type='V100:1', provider='aws')\n",
    "my_resource.save()"
   ]
  },
  {
   "cell_type": "code",
   "execution_count": 4,
   "id": "57d50eb2-1058-446e-8d13-888c0664c90f",
   "metadata": {},
   "outputs": [
    {
     "name": "stdout",
     "output_type": "stream",
     "text": [
      "{\n",
      "    \"name\": \"~/aws_cluster\",\n",
      "    \"resource_type\": \"cluster\",\n",
      "    \"resource_subtype\": \"OnDemandCluster\",\n",
      "    \"instance_type\": \"V100:1\",\n",
      "    \"num_instances\": null,\n",
      "    \"provider\": \"aws\",\n",
      "    \"autostop_mins\": 30,\n",
      "    \"use_spot\": false,\n",
      "    \"image_id\": null,\n",
      "    \"region\": null,\n",
      "    \"sky_state\": null\n",
      "}"
     ]
    }
   ],
   "source": [
    "!cat /Users/caroline/Documents/runhouse/runhouse/rh/aws_cluster/config.json"
   ]
  },
  {
   "cell_type": "markdown",
   "id": "297b7c9d-3c61-4ab0-91fe-e6c35dda6579",
   "metadata": {},
   "source": [
    "To load a resource, you can call `rh.load('resource_name')`, or use the resource factory method, passing in only the name."
   ]
  },
  {
   "cell_type": "code",
   "execution_count": 12,
   "id": "644c32fa-4c78-470d-810f-578f18cc08fc",
   "metadata": {},
   "outputs": [
    {
     "name": "stdout",
     "output_type": "stream",
     "text": [
      "INFO | 2023-06-21 22:20:03,710 | Loading config from local file /Users/caroline/Documents/runhouse/runhouse/rh/aws_cluster/config.json\n"
     ]
    },
    {
     "data": {
      "text/plain": [
       "<runhouse.resources.hardware.on_demand_cluster.OnDemandCluster at 0x1231023d0>"
      ]
     },
     "execution_count": 12,
     "metadata": {},
     "output_type": "execute_result"
    }
   ],
   "source": [
    "del my_resource\n",
    "\n",
    "rh.load(\"~/aws_cluster\")"
   ]
  },
  {
   "cell_type": "code",
   "execution_count": 14,
   "id": "5a2bd956-cdf3-4495-ad6f-ee108313bd14",
   "metadata": {},
   "outputs": [
    {
     "name": "stdout",
     "output_type": "stream",
     "text": [
      "INFO | 2023-06-21 22:20:20,156 | Loading config from local file /Users/caroline/Documents/runhouse/runhouse/rh/aws_cluster/config.json\n"
     ]
    },
    {
     "data": {
      "text/plain": [
       "<runhouse.resources.hardware.on_demand_cluster.OnDemandCluster at 0x12324b400>"
      ]
     },
     "execution_count": 14,
     "metadata": {},
     "output_type": "execute_result"
    }
   ],
   "source": [
    "rh.cluster(name=\"~/aws_cluster\")"
   ]
  },
  {
   "cell_type": "markdown",
   "id": "83c03ae1-cd8b-4f3b-ab57-bdd3304a87e3",
   "metadata": {},
   "source": [
    "## Runhouse RNS \n",
    "\n",
    "The Runhouse RNS is a key-value metadata store that allows resources to be shared across users or environments, and does not need to be backed by Git. It works anywhere with an internet connection and Python interpreter, making it more portable. The RNS is also backed by a management dashboard to view and manage all resources, including creation and update history.\n",
    "\n",
    "To use the Runhouse RNS, you will need a [Runhouse account](https://www.run.house/login)."
   ]
  },
  {
   "cell_type": "markdown",
   "id": "55836b2d-c553-4314-9b76-b43423fcd774",
   "metadata": {},
   "source": [
    "The following resource, whose name `my_blob` does not begin with `~/`, will be saved into the Runhouse RNS."
   ]
  },
  {
   "cell_type": "code",
   "execution_count": 32,
   "id": "e0a97933-77e1-44d3-8010-9b1c3f0c3eec",
   "metadata": {},
   "outputs": [
    {
     "name": "stdout",
     "output_type": "stream",
     "text": [
      "INFO | 2023-06-21 22:38:05,351 | Creating new s3 folder if it does not already exist in path: /runhouse-blob/d57201aa760b4893800c7e3782117b3b/carolineechen\n",
      "INFO | 2023-06-21 22:38:05,368 | Found credentials in shared credentials file: ~/.aws/credentials\n",
      "INFO | 2023-06-21 22:38:06,305 | Creating new s3 folder if it does not already exist in path: /runhouse-blob/d57201aa760b4893800c7e3782117b3b/carolineechen\n",
      "INFO | 2023-06-21 22:38:06,462 | Saving config to RNS: {'name': '/carolineechen/my_blob', 'resource_type': 'blob', 'resource_subtype': 'Blob', 'path': '/runhouse-blob/d57201aa760b4893800c7e3782117b3b/carolineechen/my_blob', 'system': 's3'}\n",
      "INFO | 2023-06-21 22:38:07,078 | Config updated in RNS for Runhouse URI <resource/carolineechen:my_blob>\n"
     ]
    },
    {
     "data": {
      "text/plain": [
       "<runhouse.resources.blob.Blob at 0x16703ee80>"
      ]
     },
     "execution_count": 32,
     "metadata": {},
     "output_type": "execute_result"
    }
   ],
   "source": [
    "import pickle\n",
    "data = pickle.dumps(list(range(10)))\n",
    "\n",
    "my_resource = rh.blob(data, name=\"my_blob\", system=\"s3\").write()  # write data to linked s3\n",
    "my_resource.save()"
   ]
  },
  {
   "cell_type": "markdown",
   "id": "f3977228-4d9e-458f-994e-6213ffd56424",
   "metadata": {},
   "source": [
    "This resource can then be reloaded and reused not only from local, but also from any other environment, cluster, or device that you're logged into!"
   ]
  },
  {
   "cell_type": "code",
   "execution_count": 33,
   "id": "c388249f-37c3-4ed5-8789-abf5fd0f0078",
   "metadata": {},
   "outputs": [
    {
     "name": "stdout",
     "output_type": "stream",
     "text": [
      "INFO | 2023-06-21 22:38:10,598 | Attempting to load config for /carolineechen/my_blob from RNS.\n",
      "INFO | 2023-06-21 22:38:10,936 | Creating new s3 folder if it does not already exist in path: /runhouse-blob/d57201aa760b4893800c7e3782117b3b/carolineechen\n",
      "INFO | 2023-06-21 22:38:10,970 | Found credentials in shared credentials file: ~/.aws/credentials\n"
     ]
    },
    {
     "data": {
      "text/plain": [
       "[0, 1, 2, 3, 4, 5, 6, 7, 8, 9]"
      ]
     },
     "execution_count": 33,
     "metadata": {},
     "output_type": "execute_result"
    }
   ],
   "source": [
    "del my_resource\n",
    "\n",
    "loaded = rh.load(\"my_blob\")\n",
    "pickle.loads(loaded.data)"
   ]
  },
  {
   "cell_type": "markdown",
   "id": "8a1ce83e-eb69-4c25-83c4-ad8802e2c530",
   "metadata": {},
   "source": [
    "The portability is extended to any teammates or person you want to share your resource with. Simply call `.share()` on the resource, and pass in the emails (must be associated with a Runhouse account) of the people to share it with. Further customize their resource access, and whether to notify them."
   ]
  },
  {
   "cell_type": "code",
   "execution_count": 34,
   "id": "123bd62e-3c3b-4054-9685-fc2a3bd427cc",
   "metadata": {},
   "outputs": [
    {
     "name": "stdout",
     "output_type": "stream",
     "text": [
      "INFO | 2023-06-21 22:38:14,252 | Attempting to load config for /carolineechen/my_blob from RNS.\n"
     ]
    },
    {
     "data": {
      "text/plain": [
       "({}, {'teammate1@email.com': 'write'})"
      ]
     },
     "execution_count": 34,
     "metadata": {},
     "output_type": "execute_result"
    }
   ],
   "source": [
    "loaded.share(\n",
    "    users=[\"teammate1@email.com\"],\n",
    "    access_level=\"write\",\n",
    ")"
   ]
  },
  {
   "cell_type": "code",
   "execution_count": null,
   "id": "efaf1ab0-7fe3-4681-86a8-13e671299d9b",
   "metadata": {},
   "outputs": [],
   "source": []
  }
 ],
 "metadata": {
  "kernelspec": {
   "display_name": "Python 3 (ipykernel)",
   "language": "python",
   "name": "python3"
  },
  "language_info": {
   "codemirror_mode": {
    "name": "ipython",
    "version": 3
   },
   "file_extension": ".py",
   "mimetype": "text/x-python",
   "name": "python",
   "nbconvert_exporter": "python",
   "pygments_lexer": "ipython3",
   "version": "3.9.15"
  }
 },
 "nbformat": 4,
 "nbformat_minor": 5
}
