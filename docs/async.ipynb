{
 "cells": [
  {
   "cell_type": "markdown",
   "id": "712e5894-a8ff-4663-8f25-35b7a7988b9c",
   "metadata": {},
   "source": [
    "# Asynchronous Programming\n",
    "\n",
    "## Background\n",
    "*Note that this tutorial assumes basic understanding of Runhouse Functions & Modules; it is recommended that you check out [our functions and modules tutorial](https://www.run.house/docs/tutorials/api-modules) before diving into this one.* \n",
    "\n",
    "As we've discussed before, once you take a Python function or module and send it to a Runhouse cluster, the cluster holds your resource in memory, and each time that function or module is called by a client, it simply accesses it in memory and calls it. Under the hood, we have a fully asynchronous server running (FastAPI), and a separate process for each environment where your Runhouse resources live. These processes all have their own async event loops, and if you run synchronous functions on Runhouse, they are ran in a separate thread to allow for many concurrent calls to the cluster. **Note that if you are unfamiliar with asynchronous programming in Python, you should just continue using standard, Python sync functions and leave the performance to us**.\n",
    "\n",
    "## Native Async Functions\n",
    "\n",
    "But, what if you're writing code that leverages Python's powerful asynchronous functionality? Luckily, we provide rich async support in a variety of ways. First off, any function that is labeled with Python's async keyword, when sent to a Runhouse cluster, will be *executed within the environment processes's async event loop*, and not in a separate thread. **This means that you should be very careful that you are not running any costly, synchronous code within an async function, to avoid blocking up your the event loop within your environment on the server. Poorly written async functions will not block the entire Runhouse daemon, but will block other functions within the same environment as the user code.** \n",
    "\n",
    "Client side, you also need to `await` a call to this function the same way you would if the function was running locally. Let's check out an example. First, we'll start a local Runhouse daemon to mess with:"
   ]
  },
  {
   "cell_type": "code",
   "execution_count": null,
   "id": "54289eb2-12cb-425a-b009-43ab4e292ad2",
   "metadata": {},
   "outputs": [],
   "source": [
    "! runhouse restart"
   ]
  },
  {
   "cell_type": "markdown",
   "id": "c45f31e7-145d-42c1-a355-27b5a80c75b9",
   "metadata": {},
   "source": [
    "Then, we'll define a simple `async` function to send to Runhouse:"
   ]
  },
  {
   "cell_type": "code",
   "execution_count": 9,
   "id": "93449632-8cf8-47ce-9620-98479db8cfb6",
   "metadata": {},
   "outputs": [],
   "source": [
    "async def async_test(time_to_sleep: int):\n",
    "    import asyncio\n",
    "    \n",
    "    await asyncio.sleep(time_to_sleep)\n",
    "    return time_to_sleep"
   ]
  },
  {
   "cell_type": "markdown",
   "id": "eaa6f147-ad6c-4dba-9009-fd040c3e6a5c",
   "metadata": {},
   "source": [
    "We can send this to Runhouse the same way we would any other Runhouse function:"
   ]
  },
  {
   "cell_type": "code",
   "execution_count": 10,
   "id": "79944438-2c1f-425c-af52-6b36b8aaf1fb",
   "metadata": {},
   "outputs": [
    {
     "name": "stderr",
     "output_type": "stream",
     "text": [
      "INFO | 2024-04-30 18:50:35.023995 | Writing out function to /Users/rohinbhasin/work/notebooks/docs/async_test_fn.py. Please make sure the function does not rely on any local variables, including imports (which should be moved inside the function body).\n",
      "INFO | 2024-04-30 18:50:35.060478 | Sending module async_test of type <class 'runhouse.resources.functions.function.Function'> to local Runhouse daemon\n"
     ]
    }
   ],
   "source": [
    "import runhouse as rh\n",
    "\n",
    "async_test_fn_remote = rh.function(async_test).to(rh.here)"
   ]
  },
  {
   "cell_type": "markdown",
   "id": "fbe68b29-c2ad-4137-83bc-474936a0a941",
   "metadata": {},
   "source": [
    "Then, we can call this function as we would if it were a local async function. The network call to the remote cluster will execute asynchronously within our local event loop (our code backed by `httpx.AsyncClient`) and the async function itself will execute within the async event loop on the remote server."
   ]
  },
  {
   "cell_type": "code",
   "execution_count": 11,
   "id": "cffcbc16-21ef-4048-bef8-c8c16fec7279",
   "metadata": {},
   "outputs": [
    {
     "data": {
      "text/plain": [
       "2"
      ]
     },
     "execution_count": 11,
     "metadata": {},
     "output_type": "execute_result"
    }
   ],
   "source": [
    "await async_test_fn_remote(2)"
   ]
  },
  {
   "cell_type": "markdown",
   "id": "d8ef16ab-dc62-4f26-96db-4fd07cca7f8d",
   "metadata": {},
   "source": [
    "Voila! Async functions are supported the way you'd expect them to be. There are a few other advanced cases, too:\n",
    "\n",
    "## Advanced: Running Sync Functions as Async Locally\n",
    "\n",
    "There's another important case that we support. Let's say that your standard, synchronous functions are running on a remote Runhouse machine. When you call them from your local machine, there is inevitably network I/O involved in communicating with the cluster. You may want to not have your code block on this network call (for example if the function takes a long time to execute), so that you can avoid blocking your local Python code. You can choose to run this function asynchronously, locally, and this allows you to get back a coroutine from Runhouse, that you can then use to check if  Note that this means your local code will have to use async primitives, even though it is calling what you defined as a sync function. Let's check out an example of this:"
   ]
  },
  {
   "cell_type": "code",
   "execution_count": 14,
   "id": "4c5d66fc-dfb2-43f8-b2c4-5eb08e1785e6",
   "metadata": {},
   "outputs": [
    {
     "name": "stderr",
     "output_type": "stream",
     "text": [
      "INFO | 2024-04-30 18:57:00.533012 | Writing out function to /Users/rohinbhasin/work/notebooks/docs/synchronous_sleep_fn.py. Please make sure the function does not rely on any local variables, including imports (which should be moved inside the function body).\n",
      "INFO | 2024-04-30 18:57:00.577673 | Sending module synchronous_sleep of type <class 'runhouse.resources.functions.function.Function'> to local Runhouse daemon\n"
     ]
    }
   ],
   "source": [
    "def synchronous_sleep(time_to_sleep: int):\n",
    "    import time\n",
    "\n",
    "    time.sleep(time_to_sleep)\n",
    "    return time_to_sleep\n",
    "\n",
    "sync_sleep_fn_remote = rh.function(synchronous_sleep).to(rh.here)"
   ]
  },
  {
   "cell_type": "markdown",
   "id": "f2900244-13fc-44ea-b1a3-9d80b5dbd349",
   "metadata": {},
   "source": [
    "We can now call this function with the `run_async` argument set to to `True`. This makes it not actually run locally immediately, and instead returns a coroutine that you'd await, as if this function were asynchronous. Note that, in your environment on your Runhouse cluster, the functions runs in a thread, but the call to it locally is asynchronous, and uses `httpx.AsyncClient`."
   ]
  },
  {
   "cell_type": "code",
   "execution_count": 15,
   "id": "513158a4-e2f9-4092-8df3-9ce14f36762e",
   "metadata": {},
   "outputs": [
    {
     "data": {
      "text/plain": [
       "2"
      ]
     },
     "execution_count": 15,
     "metadata": {},
     "output_type": "execute_result"
    }
   ],
   "source": [
    "await sync_sleep_fn_remote(2, run_async=True)"
   ]
  },
  {
   "cell_type": "markdown",
   "id": "036de6bc-7b53-4321-a4ae-47d41f69622e",
   "metadata": {},
   "source": [
    "You could also use `asyncio.create_task()` to not block your code on the execution and then `await` it when you want the result. When using a function defined as async or a sync function with `run_async=True`, you always get back a coroutine, which you can do with what you please.\n",
    "\n",
    "If I wanted, I could still call this function as a fully synchronous function:"
   ]
  },
  {
   "cell_type": "code",
   "execution_count": 16,
   "id": "f40d145b-a7bf-4a11-82e3-36baf6167f40",
   "metadata": {},
   "outputs": [
    {
     "data": {
      "text/plain": [
       "2"
      ]
     },
     "execution_count": 16,
     "metadata": {},
     "output_type": "execute_result"
    }
   ],
   "source": [
    "sync_sleep_fn_remote(2)"
   ]
  },
  {
   "cell_type": "markdown",
   "id": "727a7072-670e-4268-82b0-3c44602017cc",
   "metadata": {},
   "source": [
    "## Advanced: Running Async Functions as Sync Locally\n",
    "\n",
    "The third critical case that we support is mostly applicable when you're writing async code for the purpose of running it on the Runhouse cluster, but want to make synchronous calls to the server. The reason for you writing async code to run on the server is because our Runhouse server uses ASGI and runs everything asynchronously, so you can take advantage of the performance gains that come along with async code, but call it locally as you would a normal client calling a normal server, unaware of the backend implementation of the server. We can take the same async function I defined earlier and call it synchronously:"
   ]
  },
  {
   "cell_type": "code",
   "execution_count": 17,
   "id": "16b1eb21-509e-4443-a48c-864832b8e298",
   "metadata": {},
   "outputs": [
    {
     "data": {
      "text/plain": [
       "2"
      ]
     },
     "execution_count": 17,
     "metadata": {},
     "output_type": "execute_result"
    }
   ],
   "source": [
    "async_test_fn_remote(2, run_async=False)"
   ]
  },
  {
   "cell_type": "markdown",
   "id": "9227faf1-34dc-46b9-aa09-022ef6d872b4",
   "metadata": {},
   "source": [
    "That's all there is to it! We've tried our hardest to make working with async code seamless from a user's perspective. There are other edge cases we've put time into supporting and we're happy to discuss architecture anytime -- feel free to [file an issue on Github](https://github.com/run-house/runhouse/issues) or [join us on Discord](https://discord.com/invite/RnhB6589Hs) to discuss more!"
   ]
  }
 ],
 "metadata": {
  "kernelspec": {
   "display_name": "Python 3 (ipykernel)",
   "language": "python",
   "name": "python3"
  },
  "language_info": {
   "codemirror_mode": {
    "name": "ipython",
    "version": 3
   },
   "file_extension": ".py",
   "mimetype": "text/x-python",
   "name": "python",
   "nbconvert_exporter": "python",
   "pygments_lexer": "ipython3",
   "version": "3.9.15"
  }
 },
 "nbformat": 4,
 "nbformat_minor": 5
}
