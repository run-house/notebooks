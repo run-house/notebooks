{
 "cells": [
  {
   "attachments": {},
   "cell_type": "markdown",
   "id": "8e09277a",
   "metadata": {},
   "source": [
    "# Cloud Quick Start"
   ]
  },
  {
   "attachments": {},
   "cell_type": "markdown",
   "id": "48525da3",
   "metadata": {},
   "source": [
    "Runhouse lets you quickly and easily deploy your Python code as production-grade applications on your own infra.\n",
    "\n",
    "This tutorial demonstrates how to\n",
    "\n",
    "* Start a cloud VM with the Runhouse API server running on it\n",
    "* Send a locally defined function onto the VM to serve it as a service."
   ]
  },
  {
   "attachments": {},
   "cell_type": "markdown",
   "id": "ae2b3486",
   "metadata": {},
   "source": [
    "## Installing Runhouse"
   ]
  },
  {
   "cell_type": "markdown",
   "id": "440bb664-9529-4bd8-b981-ba8be4e24b3f",
   "metadata": {},
   "source": [
    "The Runhouse base package can be installed with:"
   ]
  },
  {
   "cell_type": "code",
   "execution_count": null,
   "id": "5e2ec851",
   "metadata": {},
   "outputs": [],
   "source": [
    "!pip install runhouse"
   ]
  },
  {
   "attachments": {},
   "cell_type": "markdown",
   "id": "cfb8f127-9e9c-4c1e-9539-5de9e8eacc1c",
   "metadata": {},
   "source": [
    "To use Runhouse to launch on-demand clusters, please instead run the following command. This additionally installs [SkyPilot](https://github.com/skypilot-org/skypilot), which is used for launching fresh VMs through your cloud provider."
   ]
  },
  {
   "cell_type": "code",
   "execution_count": null,
   "id": "905831ce-61de-417e-9c92-3f12235f4e8d",
   "metadata": {},
   "outputs": [],
   "source": [
    "!pip install \"runhouse[sky]\""
   ]
  },
  {
   "cell_type": "markdown",
   "id": "7df491a5-23b3-4a7d-ad27-be59a4fd6243",
   "metadata": {},
   "source": [
    "## Local Python Function\n",
    "\n",
    "First, let's define the function that we want to be run on our remote compute. This is just a regular Python function; no decorators, wrappers, or configs are necessary."
   ]
  },
  {
   "cell_type": "code",
   "execution_count": 3,
   "id": "f00120d9-6f4d-4c76-9cae-70dcb1113eef",
   "metadata": {},
   "outputs": [],
   "source": [
    "def get_pid(a = 0):\n",
    "    import os\n",
    "    return os.getpid()"
   ]
  },
  {
   "attachments": {},
   "cell_type": "markdown",
   "id": "c94cf84f",
   "metadata": {},
   "source": [
    "## Runhouse Cluster\n",
    "\n",
    "In Runhouse, a “cluster” is a unit of compute, somewhere you can send code, data, or requests to execute. We define a Runhouse cluster using the `rh.cluster` factory function.\n",
    "\n",
    "This requires having access to a cluster or a cloud provider account. If you do not have access to a cluster, you can try the [local version](https://www.run.house/docs/tutorials/quick-start-local) of this tutorial, which sets up and deploys the Python function to a local server, rather than a remote cluster."
   ]
  },
  {
   "cell_type": "markdown",
   "id": "4e40a019-137d-4220-8caa-07b025379133",
   "metadata": {},
   "source": [
    "To use a cluster that's already running:"
   ]
  },
  {
   "cell_type": "code",
   "execution_count": null,
   "id": "7d46009b-92b0-41f1-8125-fc26b8b8cda2",
   "metadata": {},
   "outputs": [],
   "source": [
    "cluster = rh.cluster(\n",
    "    name=\"rh-cluster\",\n",
    "    host=\"example-cluster\",  # hostname or ip address,\n",
    "    ssh_creds={\"ssh_user\": \"ubuntu\", \"ssh_private_key\": \"~/.ssh/id_rsa\"},  # credentials for ssh-ing into the cluster\n",
    ")"
   ]
  },
  {
   "cell_type": "markdown",
   "id": "7d3c81ab-dd9e-4e2a-ba5b-651972681ceb",
   "metadata": {},
   "source": [
    "If you do not have a cluster up, but have cloud credentials (e.g. aws, gcp, azure) for launching clusters, you can set up and launch an on-demand cluster with `rh.ondemand_cluster`. This uses SkyPilot under the hood, so run `sky check` on CLI first to set up the cloud credentials locally."
   ]
  },
  {
   "cell_type": "code",
   "execution_count": null,
   "id": "f21aef58-76e6-42c2-845d-92fa267fff73",
   "metadata": {
    "scrolled": true
   },
   "outputs": [],
   "source": [
    "cluster = rh.ondemand_cluster(\n",
    "    name=\"rh-cluster\",\n",
    "    instance_type=\"CPU:2+\",\n",
    "    provider=\"aws\"\n",
    ")\n",
    "cluster.up_if_not()\n",
    "\n",
    "# terminate this cluster with `cluster.teardown()` in Python, or `sky down rh-cluster` in CLI"
   ]
  },
  {
   "attachments": {},
   "cell_type": "markdown",
   "id": "f96c7c8a",
   "metadata": {},
   "source": [
    "## Deployment"
   ]
  },
  {
   "attachments": {},
   "cell_type": "markdown",
   "id": "5846e3de",
   "metadata": {},
   "source": [
    "For the function, simply wrap it in ``rh.function``, then send it to the cluster with ``.to``. This sets up the function on the cluster as a proper service, by syncing over the code and setting up and specified dependencies.  Furthermore, it runs through SSH, and no additional auth, port, or manual setup is necessary.\n",
    "\n",
    "Modules, or classes, are also supported. For finer control of where the function/module runs, you will also be able to specify the environment (a list of package requirements, a Conda env, or Runhouse env) where it runs. These are covered in more detail in the API tutorials."
   ]
  },
  {
   "cell_type": "code",
   "execution_count": 15,
   "id": "4625cbb0",
   "metadata": {},
   "outputs": [
    {
     "name": "stderr",
     "output_type": "stream",
     "text": [
      "INFO | 2024-02-26 21:01:50.579156 | Writing out function to /Users/caroline/Documents/runhouse/notebooks/docs/get_pid_fn.py. Please make sure the function does not rely on any local variables, including imports (which should be moved inside the function body).\n",
      "INFO | 2024-02-26 21:01:50.584346 | Copying package from file:///Users/caroline/Documents/runhouse/notebooks to: rh-cluster\n"
     ]
    },
    {
     "name": "stderr",
     "output_type": "stream",
     "text": [
      "INFO | 2024-02-26 21:01:54.745264 | Calling base_env.install\n"
     ]
    },
    {
     "name": "stdout",
     "output_type": "stream",
     "text": [
      "\u001b[36mInstalling Package: notebooks with method reqs.\n",
      "\u001b[0m\u001b[36mreqs path: notebooks/requirements.txt\n",
      "\u001b[0m\u001b[36mnotebooks/requirements.txt not found, skipping\n",
      "\u001b[0m"
     ]
    },
    {
     "name": "stderr",
     "output_type": "stream",
     "text": [
      "INFO | 2024-02-26 21:01:56.116714 | Time to call base_env.install: 1.37 seconds\n"
     ]
    },
    {
     "name": "stderr",
     "output_type": "stream",
     "text": [
      "INFO | 2024-02-26 21:02:04.892297 | Sending module get_pid to rh-cluster\n"
     ]
    },
    {
     "data": {
      "text/html": [
       "<pre style=\"white-space:pre;overflow-x:auto;line-height:normal;font-family:Menlo,'DejaVu Sans Mono',consolas,'Courier New',monospace\">\n",
       "</pre>\n"
      ],
      "text/plain": [
       "\n"
      ]
     },
     "metadata": {},
     "output_type": "display_data"
    }
   ],
   "source": [
    "remote_fn = rh.function(get_pid).to(cluster)"
   ]
  },
  {
   "cell_type": "markdown",
   "id": "df441c99-427e-4434-acf0-a43ee2d5902b",
   "metadata": {},
   "source": [
    "The function we defined above, `get_pid`, now exists remotely on the cluster, and can be called remotely using `remote_fn`. You can call this remote function just as you would any other Python function, with `remote_fn()`, and it runs on the cluster and returns the result to our local environment.\n",
    "\n",
    "Below, we run both the local and remote versions of this function, which give different results and confirms that the functions are indeed being run on different processes."
   ]
  },
  {
   "cell_type": "code",
   "execution_count": 16,
   "id": "39fbc61c",
   "metadata": {},
   "outputs": [
    {
     "name": "stderr",
     "output_type": "stream",
     "text": [
      "INFO | 2024-02-26 21:02:43.117612 | Calling get_pid.call\n",
      "INFO | 2024-02-26 21:02:44.228964 | Time to call get_pid.call: 1.11 seconds\n"
     ]
    },
    {
     "data": {
      "text/plain": [
       "Local PID 27818\n",
       "Remote PID 33366\n"
      ]
     },
     "execution_count": 16,
     "metadata": {},
     "output_type": "execute_result"
    }
   ],
   "source": [
    "print(f\"Local PID {get_pid()}\")\n",
    "print(f\"Remote PID {remote_fn()}\")"
   ]
  },
  {
   "cell_type": "markdown",
   "id": "bafe8c46-6482-40be-a49f-2ae6004e55e9",
   "metadata": {},
   "source": [
    "If you launched an on-demand cluster, you can terminate it by calling `cluster.teardown()`."
   ]
  },
  {
   "cell_type": "code",
   "execution_count": null,
   "id": "730da425-d79d-4518-9dc7-ca1713aca259",
   "metadata": {},
   "outputs": [],
   "source": [
    "cluster.teardown()"
   ]
  },
  {
   "attachments": {},
   "cell_type": "markdown",
   "id": "ff52b833",
   "metadata": {},
   "source": [
    "## Dive Deeper"
   ]
  },
  {
   "attachments": {},
   "cell_type": "markdown",
   "id": "bc80a4ba",
   "metadata": {},
   "source": [
    "What we just did, running a locally defined function on remote compute, is just the tip of the iceberg of what's possible with Runhouse. With a large suite of even more abstractions and features, Runhouse lets you quickly and seamlessly integrate between local and remote environments.\n",
    "\n",
    "To learn more, please take a look at our other tutorials, or at the [API reference](https://www.run.house/docs/api/python)"
   ]
  },
  {
   "cell_type": "code",
   "execution_count": null,
   "id": "067cec6c-2521-4254-9e92-e51673e5257a",
   "metadata": {},
   "outputs": [],
   "source": []
  }
 ],
 "metadata": {
  "kernelspec": {
   "display_name": "Python 3 (ipykernel)",
   "language": "python",
   "name": "python3"
  },
  "language_info": {
   "codemirror_mode": {
    "name": "ipython",
    "version": 3
   },
   "file_extension": ".py",
   "mimetype": "text/x-python",
   "name": "python",
   "nbconvert_exporter": "python",
   "pygments_lexer": "ipython3",
   "version": "3.9.18"
  }
 },
 "nbformat": 4,
 "nbformat_minor": 5
}
