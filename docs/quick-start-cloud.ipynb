{
 "cells": [
  {
   "attachments": {},
   "cell_type": "markdown",
   "id": "8e09277a",
   "metadata": {},
   "source": [
    "# Quick Start"
   ]
  },
  {
   "attachments": {},
   "cell_type": "markdown",
   "id": "48525da3",
   "metadata": {},
   "source": [
    "Runhouse lets you serverlessly dispatch and execute regular Python on your existing cloud infrastructure. You can quickly develop, test, and iterate on your ML programs, from your local IDE while executing on powerful remote compute. Then, identically execute your code in production simply by scheduling the dispatch while keeping the underlying program code exactly the same.\n",
    "\n",
    "This tutorial demonstrates how to\n",
    "\n",
    "-  Connect to an existing remote IP, fresh cloud VM, or fresh Kubernetes pod in Python as a Runhouse cluster\n",
    "-  Send a locally defined function onto the remote compute and call it as a service"
   ]
  },
  {
   "attachments": {},
   "cell_type": "markdown",
   "id": "ae2b3486",
   "metadata": {},
   "source": [
    "## Installing Runhouse"
   ]
  },
  {
   "cell_type": "markdown",
   "id": "440bb664-9529-4bd8-b981-ba8be4e24b3f",
   "metadata": {},
   "source": [
    "The Runhouse base package can be installed with:"
   ]
  },
  {
   "cell_type": "code",
   "execution_count": null,
   "id": "5e2ec851",
   "metadata": {},
   "outputs": [],
   "source": [
    "!pip install runhouse"
   ]
  },
  {
   "attachments": {},
   "cell_type": "markdown",
   "id": "cfb8f127-9e9c-4c1e-9539-5de9e8eacc1c",
   "metadata": {},
   "source": [
    "To use Runhouse to launch on-demand clusters, please instead run the following command."
   ]
  },
  {
   "cell_type": "code",
   "execution_count": null,
   "id": "905831ce-61de-417e-9c92-3f12235f4e8d",
   "metadata": {},
   "outputs": [],
   "source": [
    "!pip install \"runhouse[sky]\""
   ]
  },
  {
   "cell_type": "code",
   "execution_count": 1,
   "id": "8d145003-ee49-42f3-8374-cab835ba4d19",
   "metadata": {},
   "outputs": [],
   "source": [
    "import runhouse as rh"
   ]
  },
  {
   "cell_type": "markdown",
   "id": "7df491a5-23b3-4a7d-ad27-be59a4fd6243",
   "metadata": {},
   "source": [
    "## Local Python Function\n",
    "\n",
    "First, let's define the function that we want to be run on our remote compute. This is just a regular Python function; no decorators, wrappers, or configs are necessary."
   ]
  },
  {
   "cell_type": "code",
   "execution_count": 2,
   "id": "f00120d9-6f4d-4c76-9cae-70dcb1113eef",
   "metadata": {},
   "outputs": [],
   "source": [
    "def get_platform(a = 0):\n",
    "    import platform\n",
    "    return platform.platform()"
   ]
  },
  {
   "attachments": {},
   "cell_type": "markdown",
   "id": "c94cf84f",
   "metadata": {},
   "source": [
    "## Runhouse Cluster\n",
    "\n",
    "In Runhouse, a “cluster” is a unit of compute, somewhere you can send code, data, or requests to execute. We define a Runhouse cluster using the `rh.cluster` factory function.\n",
    "\n",
    "This requires having access to an existing VM (via SSH), a cloud provider account to launch elastic compute, or a Kubernetes cluster\n",
    "(~/.kube/config). If you do not have access to a cluster, you can try the [local version](https://www.run.house/docs/tutorials/quick-start-local) of this tutorial, which sets up and deploys the Python function to a local server."
   ]
  },
  {
   "cell_type": "markdown",
   "id": "4e40a019-137d-4220-8caa-07b025379133",
   "metadata": {},
   "source": [
    "To use a cluster that's already running:"
   ]
  },
  {
   "cell_type": "code",
   "execution_count": null,
   "id": "7d46009b-92b0-41f1-8125-fc26b8b8cda2",
   "metadata": {},
   "outputs": [],
   "source": [
    "cluster = rh.cluster(\n",
    "    name=\"rh-cluster\",\n",
    "    host=\"example-cluster\",  # hostname or ip address,\n",
    "    ssh_creds={\"ssh_user\": \"ubuntu\", \"ssh_private_key\": \"~/.ssh/id_rsa\"},  # credentials for ssh-ing into the cluster\n",
    ")"
   ]
  },
  {
   "cell_type": "markdown",
   "id": "7d3c81ab-dd9e-4e2a-ba5b-651972681ceb",
   "metadata": {},
   "source": [
    "If you do not have a cluster up, but have cloud credentials (e.g. AWS, Google Cloud, Azure) for launching clusters or a kubeconfig for an existing Kubernetes cluster, you can set up and launch an on-demand cluster with `rh.ondemand_cluster`. This uses SkyPilot under\n",
    "the hood, so run `sky check` in a CLI first to make sure credentials are set up properly."
   ]
  },
  {
   "cell_type": "code",
   "execution_count": null,
   "id": "f21aef58-76e6-42c2-845d-92fa267fff73",
   "metadata": {
    "scrolled": true
   },
   "outputs": [],
   "source": [
    "cluster = rh.ondemand_cluster(\n",
    "    name=\"rh-cluster\",\n",
    "    instance_type=\"CPU:2+\",\n",
    "    provider=\"aws\"\n",
    ")\n",
    "cluster.up_if_not()"
   ]
  },
  {
   "cell_type": "markdown",
   "id": "5c031c78-6724-4dd3-b249-3833fda720e2",
   "metadata": {},
   "source": [
    "There are a number of options to specify the resources more finely, such as GPUs (``instance_type=\"A10G:4\"``),\n",
    "cloud provider names (`instance_type=\"m5.xlarge\"`), `num_instances=n` for multiple instances,\n",
    "`memory`, `disk_size`, `region`, `image_id`, `open_ports`, `spot`, and more. See the\n",
    "[on_demand_cluster docs](https://www.run.house/docs/api/python/cluster#runhouse.ondemand_cluster).\n",
    "You can also omit the provider argument to allocate from the cheapest available source for which you\n",
    "have credentials."
   ]
  },
  {
   "attachments": {},
   "cell_type": "markdown",
   "id": "f96c7c8a",
   "metadata": {},
   "source": [
    "## Deploy Code to the Cluster"
   ]
  },
  {
   "attachments": {},
   "cell_type": "markdown",
   "id": "5846e3de",
   "metadata": {},
   "source": [
    "Simply wrap the function in `rh.function` and send it to the\n",
    "cluster with `.to`. This deploys the function to the cluster as a service by syncing over the code, setting up any specified\n",
    "Runhouse environment (see [Envs](https://www.run.house/docs/tutorials/api-envs) or dependencies, environment variables, secrets, conda environments), importing the synced code, and serving it in the Runhouse API server.\n",
    "\n",
    "Classes, or `Modules` are also supported. Remote instances of a remote class have persisted state, enabling powerful usage patterns. "
   ]
  },
  {
   "cell_type": "code",
   "execution_count": 4,
   "id": "4625cbb0",
   "metadata": {},
   "outputs": [
    {
     "name": "stderr",
     "output_type": "stream",
     "text": [
      "INFO | 2024-05-16 03:20:53.066103 | Because this function is defined in a notebook, writing it out to /Users/donny/code/notebooks/docs/get_platform_fn.py to make it importable. Please make sure the function does not rely on any local variables, including imports (which should be moved inside the function body). This restriction does not apply to functions defined in normal Python files.\n",
      "INFO | 2024-05-16 03:20:53.079931 | Port 32300 is already in use. Trying next port.\n",
      "INFO | 2024-05-16 03:20:53.081995 | Forwarding port 32301 to port 32300 on localhost.\n",
      "INFO | 2024-05-16 03:20:54.215570 | Server rh-cluster is up.\n",
      "INFO | 2024-05-16 03:20:54.224806 | Copying package from file:///Users/donny/code/notebooks to: rh-cluster\n",
      "INFO | 2024-05-16 03:20:55.395007 | Calling _cluster_default_env.install\n",
      "INFO | 2024-05-16 03:20:55.948421 | Time to call _cluster_default_env.install: 0.55 seconds\n",
      "INFO | 2024-05-16 03:20:55.960756 | Sending module get_platform of type <class 'runhouse.resources.functions.function.Function'> to rh-cluster\n"
     ]
    }
   ],
   "source": [
    "remote_get_platform = rh.function(get_platform).to(cluster)"
   ]
  },
  {
   "cell_type": "markdown",
   "id": "df441c99-427e-4434-acf0-a43ee2d5902b",
   "metadata": {},
   "source": [
    "Deploying the function to the cluster took ~2 seconds, and the function we defined above, `get_platform`, now exists remotely on the cluster, and can be called remotely using `remote_fn`. You can call this remote function normally from local, with `remote_fn()`, and it runs on the cluster and returns the result to our local environment.\n",
    "\n",
    "When we run the local and remote versions of this function, you see different results based on where it executes."
   ]
  },
  {
   "cell_type": "code",
   "execution_count": 5,
   "id": "39fbc61c",
   "metadata": {},
   "outputs": [
    {
     "name": "stderr",
     "output_type": "stream",
     "text": [
      "INFO | 2024-05-16 03:21:03.941205 | Calling get_platform.call\n"
     ]
    },
    {
     "name": "stdout",
     "output_type": "stream",
     "text": [
      "Local Platform: macOS-14.4.1-arm64-arm-64bit\n"
     ]
    },
    {
     "name": "stderr",
     "output_type": "stream",
     "text": [
      "INFO | 2024-05-16 03:21:04.513689 | Time to call get_platform.call: 0.57 seconds\n"
     ]
    },
    {
     "name": "stdout",
     "output_type": "stream",
     "text": [
      "Remote Platform: Linux-5.15.0-1049-aws-x86_64-with-glibc2.31\n"
     ]
    }
   ],
   "source": [
    "print(f\"Local Platform: {get_platform()}\")\n",
    "print(f\"Remote Platform: {remote_get_platform()}\")"
   ]
  },
  {
   "cell_type": "markdown",
   "id": "bafe8c46-6482-40be-a49f-2ae6004e55e9",
   "metadata": {},
   "source": [
    "If you launched an on-demand cluster, you can terminate it by calling `cluster.teardown()`."
   ]
  },
  {
   "cell_type": "code",
   "execution_count": null,
   "id": "730da425-d79d-4518-9dc7-ca1713aca259",
   "metadata": {},
   "outputs": [],
   "source": [
    "cluster.teardown()"
   ]
  },
  {
   "attachments": {},
   "cell_type": "markdown",
   "id": "ff52b833",
   "metadata": {},
   "source": [
    "## Dive Deeper"
   ]
  },
  {
   "attachments": {},
   "cell_type": "markdown",
   "id": "bc80a4ba",
   "metadata": {},
   "source": [
    "What we just did, running a locally defined function on remote compute, is just the tip of the iceberg of what's possible with Runhouse. With a large suite of even more abstractions and features, Runhouse lets you quickly and seamlessly integrate between local and remote environments.\n",
    "\n",
    "We recommend you now review the [extended guide on getting started](https://www.run.house/docs/tutorials/quick-start-cloud) with Runhouse. You can also take a look at our [examples](https://www.run.house/examples) or at the [API reference](https://www.run.house/docs/api/python)"
   ]
  }
 ],
 "metadata": {
  "kernelspec": {
   "display_name": "Python 3 (ipykernel)",
   "language": "python",
   "name": "python3"
  },
  "language_info": {
   "codemirror_mode": {
    "name": "ipython",
    "version": 3
   },
   "file_extension": ".py",
   "mimetype": "text/x-python",
   "name": "python",
   "nbconvert_exporter": "python",
   "pygments_lexer": "ipython3",
   "version": "3.10.13"
  }
 },
 "nbformat": 4,
 "nbformat_minor": 5
}
