{
 "cells": [
  {
   "cell_type": "markdown",
   "metadata": {
    "id": "8hjfzpOtNWu6"
   },
   "source": [
    "# Data: Folders & Blobs\n",
    "\n",
    "Runhouse has several abstractions to provide a simple interface for storing, recalling, and moving data between the user’s laptop, remote compute, cloud storage, and specialized storage (e.g. data warehouses). \n",
    "\n",
    "The Folder and Blob APIs provide least-common-denominator APIs across providers, allowing users to easily specify the actions they want to take on the data without needed to dig into provider-specific APIs."
   ]
  },
  {
   "cell_type": "markdown",
   "metadata": {
    "id": "4LZrV9xLyvM7"
   },
   "source": [
    "## Install Runhouse and Setup Cluster"
   ]
  },
  {
   "cell_type": "code",
   "execution_count": null,
   "metadata": {
    "id": "PbOzhZrRyu1f"
   },
   "outputs": [],
   "source": [
    "!pip install runhouse[aws]"
   ]
  },
  {
   "cell_type": "code",
   "execution_count": 1,
   "metadata": {
    "colab": {
     "base_uri": "https://localhost:8080/"
    },
    "id": "c4dBSfwHyyDu",
    "outputId": "803e4bbf-13e8-4c43-eabf-9e8ec9e519ae"
   },
   "outputs": [],
   "source": [
    "import runhouse as rh"
   ]
  },
  {
   "cell_type": "markdown",
   "metadata": {
    "id": "syFeJZsBy0Dg"
   },
   "source": [
    "Optionally, login to Runhouse to sync credentials."
   ]
  },
  {
   "cell_type": "code",
   "execution_count": null,
   "metadata": {
    "id": "R0CdXUbCyyZB"
   },
   "outputs": [],
   "source": [
    "!runhouse login"
   ]
  },
  {
   "cell_type": "markdown",
   "metadata": {
    "id": "ij5fCxkZ8213"
   },
   "source": [
    "We also construct a Runhouse cluster object that we will use throughout the tutorial. We won't go in depth about clusters in this tutorial, but you can refer to Getting Started for setup instructions, or the Compute API tutorial for a more in-depth walkthrough of clusters."
   ]
  },
  {
   "cell_type": "code",
   "execution_count": null,
   "metadata": {
    "id": "tJz_ouO58zob"
   },
   "outputs": [],
   "source": [
    "cluster = rh.ondemand_cluster(\n",
    "              name=\"cpu-cluster\",\n",
    "              instance_type=\"CPU:8\",\n",
    "              provider=\"cheapest\",       # \"AWS\", \"GCP\", \"Azure\", \"Lambda\", or \"cheapest\" (default)\n",
    "              autostop_mins=60,          # Optional, defaults to default_autostop_mins; -1 suspends autostop\n",
    "          )\n",
    "cluster.up()"
   ]
  },
  {
   "cell_type": "markdown",
   "metadata": {
    "id": "IYyhMRnUyjKe"
   },
   "source": [
    "## Folders\n",
    "\n",
    "The Runhouse Folder API allows for creating references to folders, and syncing them between local, remote clusters, or file storage (S3, GS, Azure)."
   ]
  },
  {
   "cell_type": "markdown",
   "metadata": {
    "id": "M4mGLaYY9g14"
   },
   "source": [
    "Let's construct a sample dummy folder locally, that we'll use to demonstrate."
   ]
  },
  {
   "cell_type": "code",
   "execution_count": 2,
   "metadata": {
    "id": "91Qnj2g_9f1X"
   },
   "outputs": [],
   "source": [
    "import os\n",
    "folder_name = \"sample_folder\"\n",
    "os.makedirs(folder_name, exist_ok=True)\n",
    "\n",
    "for i in range(5):\n",
    "  with open(f'{folder_name}/{i}.txt', 'w') as f:\n",
    "      f.write('i')\n",
    "\n",
    "local_path = f\"{os.getcwd()}/{folder_name}\""
   ]
  },
  {
   "cell_type": "markdown",
   "metadata": {
    "id": "FcOrBx3O8trk"
   },
   "source": [
    "To create a folder object, use the `rh.folder()` factory function, and use `.to()` to send the folder to a remote cluster."
   ]
  },
  {
   "cell_type": "code",
   "execution_count": 5,
   "metadata": {
    "colab": {
     "base_uri": "https://localhost:8080/"
    },
    "id": "_nRqA7xHzBPF",
    "outputId": "8dcb3c6f-a00d-41e5-99e6-a21e093861dd"
   },
   "outputs": [
    {
     "name": "stderr",
     "output_type": "stream",
     "text": [
      "INFO | 2023-08-29 19:45:52.597164 | Copying folder from file:///Users/caroline/Documents/runhouse/runhouse/docs/notebooks/basics/sample_folder to: cpu-cluster, with path: sample_folder\n",
      "INFO | 2023-08-29 19:45:54.633598 | Running command on cpu-cluster: ls sample_folder\n"
     ]
    },
    {
     "name": "stdout",
     "output_type": "stream",
     "text": [
      "0.txt\n",
      "1.txt\n",
      "2.txt\n",
      "3.txt\n",
      "4.txt\n"
     ]
    },
    {
     "data": {
      "text/plain": [
       "[(0, '0.txt\\n1.txt\\n2.txt\\n3.txt\\n4.txt\\n', '')]"
      ]
     },
     "execution_count": 5,
     "metadata": {},
     "output_type": "execute_result"
    }
   ],
   "source": [
    "local_folder = rh.folder(path=f\"{os.getcwd()}/{folder_name}\")\n",
    "cluster_folder = local_folder.to(system=cluster, path=folder_name)\n",
    "\n",
    "cluster.run([f\"ls {folder_name}\"])"
   ]
  },
  {
   "cell_type": "markdown",
   "metadata": {
    "id": "SeRZ-PD9DC5h"
   },
   "source": [
    "You can also send the folder to file storage, such as S3, GS, and Azure."
   ]
  },
  {
   "cell_type": "code",
   "execution_count": 7,
   "metadata": {
    "colab": {
     "base_uri": "https://localhost:8080/"
    },
    "id": "O78jStem-f8T",
    "outputId": "9420142b-b911-456e-b1b2-163ac742882e"
   },
   "outputs": [
    {
     "name": "stderr",
     "output_type": "stream",
     "text": [
      "INFO | 2023-08-29 19:47:47.618511 | Copying folder from file:///Users/caroline/Documents/runhouse/runhouse/docs/notebooks/basics/sample_folder to: s3, with path: /runhouse-folder/a6f195296945409da432b2981f984ae7\n",
      "INFO | 2023-08-29 19:47:47.721743 | Found credentials in shared credentials file: ~/.aws/credentials\n",
      "INFO | 2023-08-29 19:47:48.796181 | Found credentials in shared credentials file: ~/.aws/credentials\n"
     ]
    },
    {
     "data": {
      "text/plain": [
       "['0.txt', '1.txt', '2.txt', '3.txt', '4.txt']"
      ]
     },
     "execution_count": 7,
     "metadata": {},
     "output_type": "execute_result"
    }
   ],
   "source": [
    "s3_folder = local_folder.to(system=\"s3\")\n",
    "s3_folder.ls(full_paths=False)"
   ]
  },
  {
   "cell_type": "markdown",
   "metadata": {
    "id": "-V1lAbB2FKZt"
   },
   "source": [
    "Similarly, you can send folders from a cluster to file storage, cluster to cluster, or file storage to file storage. These are all done without bouncing the folder off local."
   ]
  },
  {
   "cell_type": "code",
   "execution_count": null,
   "metadata": {
    "id": "hWRVktaeFI2z"
   },
   "outputs": [],
   "source": [
    "cluster_folder.to(system=another_cluster)  # cluster to cluster\n",
    "cluster_folder.to(system=\"s3\")             # cluster to fs\n",
    "s3_folder.to(system=cluster)               # fs to cluster\n",
    "s3_folder.to(system=\"gs\")                  # fs to fs"
   ]
  },
  {
   "cell_type": "markdown",
   "metadata": {
    "id": "41BK2zw8yk7H"
   },
   "source": [
    "## Blobs\n",
    "\n",
    "The Runhouse Blob API represents an entity for storing arbitrary data. Blobs are associated with a system (local, remote, or file storage), and can be written down or synced to systems."
   ]
  },
  {
   "cell_type": "code",
   "execution_count": 15,
   "metadata": {
    "id": "iLAaOVXPbbFY"
   },
   "outputs": [],
   "source": [
    "import json\n",
    "import pickle\n",
    "\n",
    "blob_data = list(range(50))"
   ]
  },
  {
   "cell_type": "code",
   "execution_count": 16,
   "metadata": {},
   "outputs": [
    {
     "name": "stderr",
     "output_type": "stream",
     "text": [
      "INFO | 2023-08-29 20:57:10.570715 | Creating new file folder if it does not already exist in path: /Users/caroline/Documents/runhouse/runhouse\n"
     ]
    }
   ],
   "source": [
    "# create and save local blob\n",
    "local_blob = rh.blob(\n",
    "        name=\"local_blob\",\n",
    "        data=blob_data,\n",
    "        system=\"file\",\n",
    "        path=\"local_blob.pickle\"\n",
    "    ).save()"
   ]
  },
  {
   "cell_type": "code",
   "execution_count": null,
   "metadata": {
    "colab": {
     "base_uri": "https://localhost:8080/"
    },
    "id": "kWz_TF69StEa",
    "outputId": "7cca8d85-0478-4d55-bcda-e3f58e439f9f"
   },
   "outputs": [],
   "source": [
    "# to sync the blob to remote or fs\n",
    "local_blob.to(system=cluster)\n",
    "local_blob.to(system=\"s3\")"
   ]
  },
  {
   "cell_type": "code",
   "execution_count": null,
   "metadata": {
    "colab": {
     "base_uri": "https://localhost:8080/"
    },
    "id": "gzAEykn7TLGP",
    "outputId": "9c61b1bf-16f1-48a3-978a-7fc8bb43c506"
   },
   "outputs": [],
   "source": [
    "# create blob on s3\n",
    "rh.blob(\n",
    "    data=blob_data,\n",
    "    system=\"s3\",\n",
    "    path=f\"/runhouse-blob/sample_blob.pickle\",\n",
    ")\n",
    "\n",
    "# create blob on cluster\n",
    "rh.blob(\n",
    "    data=blob_data,\n",
    "    system=cluster,\n",
    ")"
   ]
  },
  {
   "cell_type": "markdown",
   "metadata": {
    "id": "X4DA7y3_76l3"
   },
   "source": [
    "To get the contents from a blob, use `.fetch()`: "
   ]
  },
  {
   "cell_type": "code",
   "execution_count": 18,
   "metadata": {
    "colab": {
     "base_uri": "https://localhost:8080/",
     "height": 52
    },
    "id": "FltjM0Qm70cz",
    "outputId": "f867a940-7f6c-4691-d3a7-7c1548fe5f45"
   },
   "outputs": [
    {
     "data": {
      "application/vnd.google.colaboratory.intrinsic+json": {
       "type": "string"
      },
      "text/plain": [
       "'[0, 1, 2, 3, 4, 5, 6, 7, 8, 9, 10, 11, 12, 13, 14, 15, 16, 17, 18, 19, 20, 21, 22, 23, 24, 25, 26, 27, 28, 29, 30, 31, 32, 33, 34, 35, 36, 37, 38, 39, 40, 41, 42, 43, 44, 45, 46, 47, 48, 49]'"
      ]
     },
     "execution_count": 18,
     "metadata": {},
     "output_type": "execute_result"
    }
   ],
   "source": [
    "print(local_blob.fetch())"
   ]
  },
  {
   "cell_type": "markdown",
   "metadata": {
    "id": "-UaQpzxo9FA1"
   },
   "source": [
    "Now that you understand the basics, feel free to play around with more complicated scenarios! You can also check out our additional API and example usage tutorials on our [docs site](https://www.run.house/docs)."
   ]
  },
  {
   "cell_type": "markdown",
   "metadata": {
    "id": "Rz8GsCvwGnnk"
   },
   "source": [
    "## Cluster Termination"
   ]
  },
  {
   "cell_type": "code",
   "execution_count": 19,
   "metadata": {
    "colab": {
     "base_uri": "https://localhost:8080/",
     "height": 34
    },
    "id": "BQjLvOUBWS21",
    "outputId": "049eea20-12ea-4bac-f9be-3c29bb35cf55"
   },
   "outputs": [
    {
     "data": {
      "text/html": [
       "<pre style=\"white-space:pre;overflow-x:auto;line-height:normal;font-family:Menlo,'DejaVu Sans Mono',consolas,'Courier New',monospace\"><span style=\"color: #008000; text-decoration-color: #008000\">⠹</span> <span style=\"color: #008080; text-decoration-color: #008080; font-weight: bold\">Terminating </span><span style=\"color: #008000; text-decoration-color: #008000; font-weight: bold\">cpu-cluster</span>\n",
       "</pre>\n"
      ],
      "text/plain": [
       "\u001b[32m⠹\u001b[0m \u001b[1;36mTerminating \u001b[0m\u001b[1;32mcpu-cluster\u001b[0m\n"
      ]
     },
     "metadata": {},
     "output_type": "display_data"
    },
    {
     "data": {
      "text/html": [
       "<pre style=\"white-space:pre;overflow-x:auto;line-height:normal;font-family:Menlo,'DejaVu Sans Mono',consolas,'Courier New',monospace\"></pre>\n"
      ],
      "text/plain": []
     },
     "metadata": {},
     "output_type": "display_data"
    }
   ],
   "source": [
    "!sky down cpu-cluster\n",
    "# or\n",
    "cluster.teardown()"
   ]
  },
  {
   "cell_type": "code",
   "execution_count": null,
   "metadata": {
    "id": "3Ocos3Ko9WB0"
   },
   "outputs": [],
   "source": []
  }
 ],
 "metadata": {
  "colab": {
   "provenance": []
  },
  "kernelspec": {
   "display_name": "Python 3 (ipykernel)",
   "language": "python",
   "name": "python3"
  },
  "language_info": {
   "codemirror_mode": {
    "name": "ipython",
    "version": 3
   },
   "file_extension": ".py",
   "mimetype": "text/x-python",
   "name": "python",
   "nbconvert_exporter": "python",
   "pygments_lexer": "ipython3",
   "version": "3.9.18"
  }
 },
 "nbformat": 4,
 "nbformat_minor": 4
}
