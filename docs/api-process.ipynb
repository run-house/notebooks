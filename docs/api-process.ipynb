{
 "cells": [
  {
   "cell_type": "markdown",
   "id": "621329e0-8c5a-44ab-9e1e-5ebdefc80576",
   "metadata": {},
   "source": [
    "# Processes\n",
    "\n",
    "On your Runhouse cluster, whether you have one node or multiple nodes, you may want to run things in different processes on the cluster. \n",
    "\n",
    "There are a few key use cases for separating your logic into different processes:\n",
    "\n",
    "1. Creating processes that require certain amounts of resources.\n",
    "2. Creating processes on specific nodes.\n",
    "3. Creating processes with specific environment variables.\n",
    "4. General OS process isolation -- allowing you to kill things on the cluster without touching other running logic.\n",
    "\n",
    "You can put your Runhouse Functions/Modules into specific processes, or even run bash commands in specific processes.\n",
    "\n",
    "Let's set up a basic cluster and some easy logic to send to it.\n"
   ]
  },
  {
   "cell_type": "code",
   "execution_count": 2,
   "id": "3d5536f2-134a-4c79-a1b0-94279a20d517",
   "metadata": {},
   "outputs": [],
   "source": [
    "def see_process_attributes():\n",
    "    import os\n",
    "    import time\n",
    "    import socket\n",
    "    \n",
    "    log_level = os.environ.get(\"LOG_LEVEL\")\n",
    "\n",
    "    if log_level == \"DEBUG\":\n",
    "        print(\"Debugging...\")\n",
    "    else:\n",
    "        print(\"No log level set.\")\n",
    "\n",
    "    # Return the IP that this is scheduled on\n",
    "    return socket.gethostbyname(socket.gethostname())\n",
    "    "
   ]
  },
  {
   "cell_type": "code",
   "execution_count": 6,
   "id": "9d68c835-4a61-450c-ae79-e7300c39a0ed",
   "metadata": {},
   "outputs": [
    {
     "name": "stdout",
     "output_type": "stream",
     "text": [
      "I 12-17 13:12:17 provisioner.py:560] \u001b[32mSuccessfully provisioned cluster: multi-gpu-cluster\u001b[0m\n",
      "I 12-17 13:12:18 cloud_vm_ray_backend.py:3402] Run commands not specified or empty.\n",
      "Clusters\n",
      "\u001b[2mAWS: Fetching availability zones mapping...\u001b[0mNAME               LAUNCHED        RESOURCES                                                                  STATUS  AUTOSTOP  COMMAND                       \n",
      "multi-gpu-cluster  a few secs ago  2x AWS(g5.xlarge, {'A10G': 1})                                             UP      (down)    /Users/rohinbhasin/minico...  \n",
      "ml_ready_cluster   1 hr ago        1x AWS(m6i.large, image_id={'us-east-1': 'docker:python:3.12.8-bookwor...  UP      (down)    /Users/rohinbhasin/minico...  \n",
      "\n",
      "\u001b[?25h"
     ]
    }
   ],
   "source": [
    "import runhouse as rh\n",
    "\n",
    "cluster = rh.cluster(name=\"multi-gpu-cluster\", accelerators=\"A10G:1\", num_nodes=2, provider=\"aws\").up_if_not()"
   ]
  },
  {
   "cell_type": "markdown",
   "id": "fc7c9114-c63a-4fa6-aec0-4c8fd6d6f970",
   "metadata": {},
   "source": [
    "We can now create processes based on whatever requirements we want. Covering all the examples above:"
   ]
  },
  {
   "cell_type": "code",
   "execution_count": 24,
   "id": "6badfc02-5b1c-4bd6-9759-5941b62c8749",
   "metadata": {},
   "outputs": [
    {
     "data": {
      "text/plain": [
       "{'default_process': {'name': 'default_process',\n",
       "  'compute': {},\n",
       "  'runtime_env': None,\n",
       "  'env_vars': {}},\n",
       " 'p1': {'name': 'p1',\n",
       "  'compute': {'GPU': 1},\n",
       "  'runtime_env': {},\n",
       "  'env_vars': None},\n",
       " 'p2': {'name': 'p2',\n",
       "  'compute': {'GPU': 1},\n",
       "  'runtime_env': {},\n",
       "  'env_vars': {'LOG_LEVEL': 'DEBUG'}},\n",
       " 'p3': {'name': 'p3',\n",
       "  'compute': {'node_idx': 1},\n",
       "  'runtime_env': {},\n",
       "  'env_vars': None}}"
      ]
     },
     "execution_count": 24,
     "metadata": {},
     "output_type": "execute_result"
    }
   ],
   "source": [
    "# Create some processes with GPU requirements. These will be on different nodes since each node only has one GPU, and we'll check that\n",
    "p1 = cluster.ensure_process_created(\"p1\", compute={\"GPU\": 1})\n",
    "# This second process will also have an env var set.\n",
    "p2 = cluster.ensure_process_created(\"p2\", compute={\"GPU\": 1}, env_vars={\"LOG_LEVEL\": \"DEBUG\"})\n",
    "\n",
    "# We can also send processes to specific nodes if we want\n",
    "p3 = cluster.ensure_process_created(\"p3\", compute={\"node_idx\": 1})\n",
    "\n",
    "cluster.list_processes()"
   ]
  },
  {
   "cell_type": "markdown",
   "id": "2c437da2-6cda-499e-9070-e8fd63ee3eed",
   "metadata": {},
   "source": [
    "Note that we always create a `default_process`, which is where all Runhouse Functions/Modules end up if you don't specify processes when sending them to the cluster. This `default_process` always lives on the head node of your cluster.\n",
    "\n",
    "Now, let's see where these processes ended up using our utility method set up above."
   ]
  },
  {
   "cell_type": "code",
   "execution_count": 11,
   "id": "ae450028-5c4c-4455-9c6d-89f0c539c935",
   "metadata": {},
   "outputs": [
    {
     "name": "stdout",
     "output_type": "stream",
     "text": [
      "INFO | 2024-12-17 13:23:01 | runhouse.resources.functions.function:236 | Because this function is defined in a notebook, writing it out to /Users/rohinbhasin/work/notebooks/see_process_attributes_fn.py to make it importable. Please make sure the function does not rely on any local variables, including imports (which should be moved inside the function body). This restriction does not apply to functions defined in normal Python files.\n",
      "INFO | 2024-12-17 13:23:04 | runhouse.resources.module:507 | Sending module see_process_attributes of type <class 'runhouse.resources.functions.function.Function'> to multi-gpu-cluster\n",
      "INFO | 2024-12-17 13:23:04 | runhouse.servers.http.http_client:439 | Calling see_process_attributes.call\n",
      "\u001b[36mNo log level set.\n",
      "\u001b[0mINFO | 2024-12-17 13:23:04 | runhouse.servers.http.http_client:504 | Time to call see_process_attributes.call: 0.71 seconds\n",
      "172.31.89.87\n"
     ]
    }
   ],
   "source": [
    "remote_f1 = rh.function(see_process_attributes).to(cluster, process=p1)\n",
    "print(remote_f1())"
   ]
  },
  {
   "cell_type": "code",
   "execution_count": 12,
   "id": "4d9abbbc-e606-4003-a289-8f2702549da4",
   "metadata": {},
   "outputs": [
    {
     "name": "stdout",
     "output_type": "stream",
     "text": [
      "INFO | 2024-12-17 13:23:32 | runhouse.resources.functions.function:236 | Because this function is defined in a notebook, writing it out to /Users/rohinbhasin/work/notebooks/see_process_attributes_fn.py to make it importable. Please make sure the function does not rely on any local variables, including imports (which should be moved inside the function body). This restriction does not apply to functions defined in normal Python files.\n",
      "INFO | 2024-12-17 13:23:34 | runhouse.resources.module:507 | Sending module see_process_attributes of type <class 'runhouse.resources.functions.function.Function'> to multi-gpu-cluster\n",
      "INFO | 2024-12-17 13:23:34 | runhouse.servers.http.http_client:439 | Calling see_process_attributes.call\n",
      "\u001b[36mDebugging...\n",
      "\u001b[0mINFO | 2024-12-17 13:23:35 | runhouse.servers.http.http_client:504 | Time to call see_process_attributes.call: 0.53 seconds\n",
      "172.31.94.40\n"
     ]
    }
   ],
   "source": [
    "remote_f2 = rh.function(see_process_attributes).to(cluster, process=p2)\n",
    "print(remote_f2())"
   ]
  },
  {
   "cell_type": "markdown",
   "id": "a4a32353-644c-48e7-a7d9-a625629d31c9",
   "metadata": {},
   "source": [
    "We can see that, since each process required one GPU, they were scheduled on different machines. You can also see that the environment variable we set in the second process was propagated, as our logging output is different. Let's check now that the 3rd process we explicitly sent to the second node is on the second node.\""
   ]
  },
  {
   "cell_type": "code",
   "execution_count": 13,
   "id": "985c084f-f79c-4e41-8a30-8e0463589381",
   "metadata": {},
   "outputs": [
    {
     "name": "stdout",
     "output_type": "stream",
     "text": [
      "INFO | 2024-12-17 13:27:05 | runhouse.resources.functions.function:236 | Because this function is defined in a notebook, writing it out to /Users/rohinbhasin/work/notebooks/see_process_attributes_fn.py to make it importable. Please make sure the function does not rely on any local variables, including imports (which should be moved inside the function body). This restriction does not apply to functions defined in normal Python files.\n",
      "INFO | 2024-12-17 13:27:08 | runhouse.resources.module:507 | Sending module see_process_attributes of type <class 'runhouse.resources.functions.function.Function'> to multi-gpu-cluster\n",
      "INFO | 2024-12-17 13:27:08 | runhouse.servers.http.http_client:439 | Calling see_process_attributes.call\n",
      "\u001b[36mNo log level set.\n",
      "\u001b[0mINFO | 2024-12-17 13:27:08 | runhouse.servers.http.http_client:504 | Time to call see_process_attributes.call: 0.54 seconds\n",
      "172.31.94.40\n"
     ]
    }
   ],
   "source": [
    "remote_f3 = rh.function(see_process_attributes).to(cluster, process=p3)\n",
    "print(remote_f3())"
   ]
  },
  {
   "cell_type": "markdown",
   "id": "0d1c796c-2cb9-4d80-9fdb-5e8750ca36ff",
   "metadata": {},
   "source": [
    "Success! We can also `run_bash` within a specific process, if we want to make sure our bash command runs on the same node as a function we're running."
   ]
  },
  {
   "cell_type": "code",
   "execution_count": 23,
   "id": "86f76d73-4fef-48ec-afdd-f76198f1b55e",
   "metadata": {},
   "outputs": [
    {
     "data": {
      "text/plain": [
       "[[0,\n",
       "  '1: lo: <LOOPBACK,UP,LOWER_UP> mtu 65536 qdisc noqueue state UNKNOWN group default qlen 1000\\n    link/loopback 00:00:00:00:00:00 brd 00:00:00:00:00:00\\n    inet 127.0.0.1/8 scope host lo\\n       valid_lft forever preferred_lft forever\\n    inet6 ::1/128 scope host \\n       valid_lft forever preferred_lft forever\\n2: ens5: <BROADCAST,MULTICAST,UP,LOWER_UP> mtu 9001 qdisc mq state UP group default qlen 1000\\n    link/ether 12:4c:76:66:e8:bb brd ff:ff:ff:ff:ff:ff\\n    altname enp0s5\\n    inet 172.31.94.40/20 brd 172.31.95.255 scope global dynamic ens5\\n       valid_lft 3500sec preferred_lft 3500sec\\n    inet6 fe80::104c:76ff:fe66:e8bb/64 scope link \\n       valid_lft forever preferred_lft forever\\n3: docker0: <NO-CARRIER,BROADCAST,MULTICAST,UP> mtu 1500 qdisc noqueue state DOWN group default \\n    link/ether 02:42:ac:9e:2b:8f brd ff:ff:ff:ff:ff:ff\\n    inet 172.17.0.1/16 brd 172.17.255.255 scope global docker0\\n       valid_lft forever preferred_lft forever\\n',\n",
       "  ''],\n",
       " [...]]"
      ]
     },
     "execution_count": 23,
     "metadata": {},
     "output_type": "execute_result"
    }
   ],
   "source": [
    "cluster.run_bash(\"ip addr\", process=p2)"
   ]
  },
  {
   "cell_type": "markdown",
   "id": "b5cd9756-79db-4707-8211-f1d766e37456",
   "metadata": {},
   "source": [
    "You can see that this ran on the second node. Finally, you can also kill processes, which you may want to do if you use asyncio to run long running functions in a process."
   ]
  },
  {
   "cell_type": "code",
   "execution_count": 25,
   "id": "e3600da1-16a2-4a60-b1f6-b8dd2eb655f2",
   "metadata": {},
   "outputs": [
    {
     "data": {
      "text/plain": [
       "{'default_process': {'name': 'default_process',\n",
       "  'compute': {},\n",
       "  'runtime_env': None,\n",
       "  'env_vars': {}},\n",
       " 'p1': {'name': 'p1',\n",
       "  'compute': {'GPU': 1},\n",
       "  'runtime_env': {},\n",
       "  'env_vars': None},\n",
       " 'p2': {'name': 'p2',\n",
       "  'compute': {'GPU': 1},\n",
       "  'runtime_env': {},\n",
       "  'env_vars': {'LOG_LEVEL': 'DEBUG'}}}"
      ]
     },
     "execution_count": 25,
     "metadata": {},
     "output_type": "execute_result"
    }
   ],
   "source": [
    "cluster.kill_process(p3)\n",
    "cluster.list_processes()"
   ]
  },
  {
   "cell_type": "code",
   "execution_count": null,
   "id": "cd0633fe-7150-4e27-8f2c-0bba3e6519de",
   "metadata": {},
   "outputs": [],
   "source": []
  }
 ],
 "metadata": {
  "kernelspec": {
   "display_name": "Python 3 (ipykernel)",
   "language": "python",
   "name": "python3"
  },
  "language_info": {
   "codemirror_mode": {
    "name": "ipython",
    "version": 3
   },
   "file_extension": ".py",
   "mimetype": "text/x-python",
   "name": "python",
   "nbconvert_exporter": "python",
   "pygments_lexer": "ipython3",
   "version": "3.9.15"
  }
 },
 "nbformat": 4,
 "nbformat_minor": 5
}
