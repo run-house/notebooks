{
 "cells": [
  {
   "cell_type": "markdown",
   "id": "905867ca-f784-481d-bf63-f3ded59c0a8f",
   "metadata": {},
   "source": [
    "# Local Quick Start"
   ]
  },
  {
   "cell_type": "markdown",
   "id": "8d11d2a2-4bab-44b7-9dc5-95a75f519b74",
   "metadata": {},
   "source": [
    "In [Cloud Quick Start](https://www.run.house/docs/tutorials/quick-start-cloud), we demonstrate how to deploy a local function to a remote cluster using Runhouse. In this local-only version, we show how to use Runhouse to set up a local web server, and deploy an arbitrary Python function to it."
   ]
  },
  {
   "cell_type": "markdown",
   "id": "2dd4f13c-4ed7-4d8e-8a1a-4ae3ae45d382",
   "metadata": {},
   "source": [
    "## Runhouse Server Setup"
   ]
  },
  {
   "cell_type": "code",
   "execution_count": null,
   "id": "47610c19-d550-46c9-8c7c-038ebd1c8cb2",
   "metadata": {},
   "outputs": [],
   "source": [
    "!pip install runhouse"
   ]
  },
  {
   "cell_type": "markdown",
   "id": "c7c9fa89-036e-4a56-b55b-df4c89b95e9c",
   "metadata": {},
   "source": [
    "First install Runhouse with `pip install runhouse`"
   ]
  },
  {
   "cell_type": "markdown",
   "id": "3c0f915a-4e57-4aa8-943b-6a7035bacc55",
   "metadata": {},
   "source": [
    "Next, start the Runhouse server locally on CLI with `runhouse restart`, and use `runhouse status` to print the status and details of the server."
   ]
  },
  {
   "cell_type": "code",
   "execution_count": null,
   "id": "ab886393-62d1-4b61-9844-7819acabdc41",
   "metadata": {},
   "outputs": [],
   "source": [
    "!runhouse restart"
   ]
  },
  {
   "cell_type": "code",
   "execution_count": 3,
   "id": "23951cdf-636a-4eb0-8c3e-96710daef8a9",
   "metadata": {},
   "outputs": [
    {
     "name": "stdout",
     "output_type": "stream",
     "text": [
      "sagemaker.config INFO - Not applying SDK defaults from location: /Library/Application Support/sagemaker/config.yaml\n",
      "sagemaker.config INFO - Not applying SDK defaults from location: /Users/sashabelousovrh/Library/Application Support/sagemaker/config.yaml\n",
      "\u001b[1;94m😈 Runhouse Daemon is running 🏃\u001b[0m\n",
      "Runhouse v0.0.28\n",
      "server pid: \u001b[1;36m8371\u001b[0m\n",
      "• server port: \u001b[1;36m32300\u001b[0m\n",
      "• den auth: \u001b[3;91mFalse\u001b[0m\n",
      "• server connection type: none\n",
      "• backend config:\n",
      "  • resource subtype: Cluster\n",
      "  • use local telemetry: \u001b[3;91mFalse\u001b[0m\n",
      "  • domain: \u001b[3;35mNone\u001b[0m\n",
      "  • server host: \u001b[1;92m0.0.0.0\u001b[0m\n",
      "  • ips: \u001b[1m[\u001b[0m\u001b[32m'0.0.0.0'\u001b[0m\u001b[1m]\u001b[0m\n",
      "  • resource subtype: Cluster\n",
      "\u001b[1mServing 🍦 :\u001b[0m\n",
      "\u001b[1;3m• _cluster_default_env \u001b[0m\u001b[1;3m(\u001b[0m\u001b[1;3mrunhouse.Env\u001b[0m\u001b[1;3m)\u001b[0m\n",
      "  This environment has only python packages installed, if such provided. No \n",
      "resources were found.\n",
      "\u001b[0m"
     ]
    }
   ],
   "source": [
    "!runhouse status"
   ]
  },
  {
   "cell_type": "markdown",
   "id": "a4d45e3c-c274-456f-8874-0a4deaada124",
   "metadata": {},
   "source": [
    "## Local Python Function"
   ]
  },
  {
   "cell_type": "markdown",
   "id": "b8833b0f-2a5b-41c3-bfd2-80f5c98da590",
   "metadata": {},
   "source": [
    "Let's first define a simple Python function that we want to send to the server. This function returns the process ID it runs on, and optionally takes in a parameter, which it adds to the process ID prior to returning it."
   ]
  },
  {
   "cell_type": "code",
   "execution_count": 5,
   "id": "bf76ce85-8ccb-4905-bd45-a6413c72b22a",
   "metadata": {},
   "outputs": [],
   "source": [
    "def get_pid(a=0):\n",
    "    import os\n",
    "    return os.getpid() + int(a)"
   ]
  },
  {
   "cell_type": "markdown",
   "id": "0ae27f64-6ac5-4ec4-868a-9dd9f2ee6a61",
   "metadata": {},
   "source": [
    "## Deployment\n",
    "\n",
    "Standing up your Python code on the server is simple with the Runhouse API. Wrap the function with `rh.function`, and then use `.to(rh.here)` to sync it to the server."
   ]
  },
  {
   "cell_type": "code",
   "execution_count": null,
   "id": "8985af62-28a2-4d34-8cb5-7fa651a15948",
   "metadata": {},
   "outputs": [],
   "source": [
    "import runhouse as rh"
   ]
  },
  {
   "cell_type": "code",
   "execution_count": 9,
   "id": "cbca1aa1-eb95-4ac5-90c8-645c677c352f",
   "metadata": {},
   "outputs": [
    {
     "name": "stderr",
     "output_type": "stream",
     "text": [
      "INFO | 2024-02-26 22:14:53.460361 | Writing out function to /Users/caroline/Documents/runhouse/notebooks/docs/get_pid_fn.py. Please make sure the function does not rely on any local variables, including imports (which should be moved inside the function body).\n",
      "INFO | 2024-02-26 22:14:53.523591 | Sending module get_pid to local Runhouse daemon\n"
     ]
    }
   ],
   "source": [
    "server_fn = rh.function(get_pid).to(rh.here)"
   ]
  },
  {
   "cell_type": "markdown",
   "id": "d09195e8-fbc6-40e9-b7f3-d1cd26a489b5",
   "metadata": {},
   "source": [
    "The `get_pid` function we defined above now exists on the server."
   ]
  },
  {
   "cell_type": "markdown",
   "id": "0389dbde-b036-43c3-b855-1761afa19832",
   "metadata": {},
   "source": [
    "### Remote Function Call\n",
    "\n",
    "You can call the server function just as you would any other Python function, with `server_fn()`, and it runs on the server and returns the result to our local environment.\n",
    "\n",
    "Below, we run both the local and server versions of this function, which give different results and confirms that the functions are indeed being run on different processes."
   ]
  },
  {
   "cell_type": "code",
   "execution_count": 11,
   "id": "19d0749e-e2a2-453e-a12f-fb52a9be6573",
   "metadata": {},
   "outputs": [
    {
     "name": "stdout",
     "output_type": "stream",
     "text": [
      "Local PID 27818\n",
      "Server PID 19846\n"
     ]
    }
   ],
   "source": [
    "print(f\"Local PID {get_pid()}\")\n",
    "print(f\"Server PID {server_fn()}\")"
   ]
  },
  {
   "cell_type": "markdown",
   "id": "b74ecd55-0acb-4585-8ec3-a9c06c5a45e2",
   "metadata": {},
   "source": [
    "### HTTP Endpoint and Curl\n",
    "\n",
    "In addition to calling the function directly in Python, we can also access it with a curl call or open it up in a browser."
   ]
  },
  {
   "cell_type": "code",
   "execution_count": 12,
   "id": "979639e3-66cf-4679-877b-b0b871810977",
   "metadata": {},
   "outputs": [
    {
     "data": {
      "text/plain": [
       "'http://0.0.0.0:32300/get_pid'"
      ]
     },
     "execution_count": 12,
     "metadata": {},
     "output_type": "execute_result"
    }
   ],
   "source": [
    "server_fn.endpoint()"
   ]
  },
  {
   "cell_type": "code",
   "execution_count": 13,
   "id": "55ab8a22-01ef-49b7-be65-08ab1e227af7",
   "metadata": {},
   "outputs": [
    {
     "name": "stdout",
     "output_type": "stream",
     "text": [
      "{\"data\":\"19846\",\"error\":null,\"traceback\":null,\"output_type\":\"result_serialized\",\"serialization\":\"json\"}"
     ]
    }
   ],
   "source": [
    "!curl \"http://0.0.0.0:32300/get_pid/call\""
   ]
  },
  {
   "cell_type": "markdown",
   "id": "176c7c77-59f9-40b8-b6ff-6d9b83b98592",
   "metadata": {},
   "source": [
    "To pass in the optional function parameter:"
   ]
  },
  {
   "cell_type": "code",
   "execution_count": 14,
   "id": "5ee5d75b-5dc7-4f30-817d-ffcbe559fa5a",
   "metadata": {},
   "outputs": [
    {
     "name": "stdout",
     "output_type": "stream",
     "text": [
      "{\"data\":\"19847\",\"error\":null,\"traceback\":null,\"output_type\":\"result_serialized\",\"serialization\":\"json\"}"
     ]
    }
   ],
   "source": [
    "!curl \"http://0.0.0.0:32300/get_pid/call?a=1\""
   ]
  }
 ],
 "metadata": {
  "kernelspec": {
   "display_name": "Python 3 (ipykernel)",
   "language": "python",
   "name": "python3"
  },
  "language_info": {
   "codemirror_mode": {
    "name": "ipython",
    "version": 3
   },
   "file_extension": ".py",
   "mimetype": "text/x-python",
   "name": "python",
   "nbconvert_exporter": "python",
   "pygments_lexer": "ipython3",
   "version": "3.12.4"
  }
 },
 "nbformat": 4,
 "nbformat_minor": 5
}
