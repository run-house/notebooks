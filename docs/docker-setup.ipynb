{
 "cells": [
  {
   "cell_type": "markdown",
   "id": "d7714581-7039-4d0a-98eb-d43a20d4d9e5",
   "metadata": {},
   "source": [
    "# Docker: Cluster Setup"
   ]
  },
  {
   "cell_type": "markdown",
   "id": "7e46a23a-e442-493f-a36d-477569a50400",
   "metadata": {},
   "source": [
    "Runhouse integrates with [SkyPilot](https://skypilot.readthedocs.io/en/latest/docs/index.html) to enable automatic setup of an existing Docker container when you launch your [on-demand cluster](https://www.run.house/docs/api/python/cluster#ondemandcluster-class). When you specify a Docker image for an on-demand cluster, the container is automatically built and set up remotely on the cluster. The Runhouse server will start directly inside the remote container. \n",
    "\n",
    "**NOTE:** This guide details the setup and usage for on-demand clusters only. Docker container is also supported for Sagemaker clusters, and it is not yet supported for static clusters."
   ]
  },
  {
   "cell_type": "markdown",
   "id": "7826b6d2",
   "metadata": {},
   "source": []
  },
  {
   "cell_type": "markdown",
   "id": "c581f9a5-ec5a-41f0-bc7f-56bc4b712996",
   "metadata": {},
   "source": [
    "## Cluster & Docker Setup"
   ]
  },
  {
   "cell_type": "markdown",
   "id": "b43d1517-ab28-490c-bef7-39f5560e495a",
   "metadata": {},
   "source": [
    "### Public Docker Image\n",
    "\n",
    "One can specify a Docker Image through the Runhouse Image class, which is passed into the cluster factory. Call ``.from_docker(image_id)`` on the image, passing in the Docker container in the format ``<registry>/<image>:<tag>``."
   ]
  },
  {
   "cell_type": "code",
   "execution_count": null,
   "id": "4e9d3e64-69dc-4ae1-980a-605ac7a71580",
   "metadata": {},
   "outputs": [],
   "source": [
    "base_image = rh.Image(\"base_image\").from_docker(\"nvcr.io/nvidia/pytorch:23.10-py3\")\n",
    "\n",
    "docker_cluster = rh.ondemand_cluster(\n",
    "    name=\"pytorch_cluster\",\n",
    "    image=base_image,\n",
    "    instance_type=\"CPU:2+\",\n",
    "    provider=\"aws\",\n",
    ")"
   ]
  },
  {
   "cell_type": "markdown",
   "id": "dff290e6-696f-45e0-896f-db9ff66e094c",
   "metadata": {},
   "source": [
    "### Private Docker Image\n",
    "\n",
    "To use a Docker image hosted on a private registry, such as ECR, you need to additionally provide the ``user``, ``password``, and ``registry server`` values, as used in ``docker login -u <user> -p <password> <registry server>``.\n",
    "\n",
    "These values are propagated to SkyPilot at launch time, which will be used for setting up the base container on the cluster.\n",
    "\n",
    "There are two approaches to providing this information:\n",
    "\n",
    "1. Creating a runhouse Secret as follows, and pass it to the Image along with the\n",
    "   Docker image above."
   ]
  },
  {
   "cell_type": "code",
   "execution_count": null,
   "id": "cfb2935d",
   "metadata": {},
   "outputs": [],
   "source": [
    "values = {\n",
    "    \"username\": <user>,\n",
    "    \"password\": <password>,\n",
    "    \"server\": <server>,\n",
    "}\n",
    "docker_secret = rh.provider_secret(\"docker\", values=values)"
   ]
  },
  {
   "cell_type": "code",
   "execution_count": null,
   "id": "98ccc7e6",
   "metadata": {},
   "outputs": [],
   "source": [
    "base_image = rh.Image(\"base_image\").from_docker(\n",
    "    \"pytorch-training:2.2.0-cpu-py310-ubuntu20.04-ec2\", docker_secret=docker_secret\n",
    ")"
   ]
  },
  {
   "cell_type": "markdown",
   "id": "64174005-57db-4441-8e3b-27fbd93d51fa",
   "metadata": {},
   "source": [
    "2. Directly set your local environment variables, as expected by and extracted by\n",
    "   Skypilot during launch time. In this case, you do not need to specify the secret\n",
    "   during the runhouse Image construction.\n",
    "\n",
    "   * ``SKYPILOT_DOCKER_USERNAME``: ``<user>``\n",
    "\n",
    "   * ``SKYPILOT_DOCKER_PASSWORD``: ``<password>``\n",
    "\n",
    "   * ``SKYPILOT_DOCKER_SERVER``: ``<registry server>``\n",
    "\n",
    "For instance, to use the PyTorch2.2 ECR Framework provided [here](https://github.com/aws/deep-learning-containers/blob/master/available_images.md#ec2-framework-containers-tested-on-ec2-ecs-and-eks-only), you can set your environment variables as follows:  "
   ]
  },
  {
   "cell_type": "code",
   "execution_count": 3,
   "id": "9c740594-a768-4abe-a905-e229f429a02d",
   "metadata": {},
   "outputs": [],
   "source": [
    "! export SKYPILOT_DOCKER_USERNAME=AWS\n",
    "! export SKYPILOT_DOCKER_PASSWORD=$(aws ecr get-login-password --region us-east-1)\n",
    "! export SKYPILOT_DOCKER_SERVER=763104351884.dkr.ecr.us-east-1.amazonaws.com"
   ]
  },
  {
   "cell_type": "code",
   "execution_count": null,
   "id": "2ca7b85d",
   "metadata": {},
   "outputs": [],
   "source": [
    "base_image = rh.Image(\"base_image\").from_docker(\"pytorch-training:2.2.0-cpu-py310-ubuntu20.04-ec2\")"
   ]
  },
  {
   "cell_type": "markdown",
   "id": "3fac34c0-5340-42c8-a255-5a1d55b05efa",
   "metadata": {},
   "source": [
    "Then, instantiate the on-demand cluster and fill in the `image_id` field, remembering to pass in `skypilot` to the default env if it is not already part of the Docker container."
   ]
  },
  {
   "cell_type": "code",
   "execution_count": null,
   "id": "744b65c2-7848-4e3d-82d8-79fbff60aeff",
   "metadata": {},
   "outputs": [],
   "source": [
    "ecr_cluster = rh.ondemand_cluster(\n",
    "    name=\"ecr_pytorch_cluster\",\n",
    "    image_id=base_image,\n",
    "    instance_type=\"CPU:2+\",\n",
    "    provider=\"aws\",\n",
    ")"
   ]
  },
  {
   "cell_type": "markdown",
   "id": "dbbebb82",
   "metadata": {},
   "source": [
    "#### Launching the Cluster\n",
    "\n",
    "You can then launch the docker cluster with ``ecr_cluster.up()``. If for any reason the docker pull fails on the cluster (for instance, due to incorrect credentials or permission error), you must first teardown the cluster with ``ecr_cluster.teardown()`` or ``sky stop ecr_pytorch_cluster`` in CLI before re-launching the cluster with new credentials in order for them to propagate through."
   ]
  },
  {
   "cell_type": "markdown",
   "id": "e1b8397b-0aa3-4c31-a314-db011777de46",
   "metadata": {},
   "source": [
    "### SSH\n",
    "\n",
    "To SSH directly onto the container, where the Runhouse server is\n",
    "started, you can use ``runhouse cluster ssh <cluster_name>``."
   ]
  },
  {
   "cell_type": "markdown",
   "id": "df797ff6-3c6e-4362-b4e4-4b7b54376bf0",
   "metadata": {},
   "source": [
    "### User and Container Name\n",
    "\n",
    "By default, the remote Docker container, which is set up through Skypilot, will be named `sky_container`, and the user will be `root`."
   ]
  }
 ],
 "metadata": {
  "kernelspec": {
   "display_name": "Python 3 (ipykernel)",
   "language": "python",
   "name": "python3"
  },
  "language_info": {
   "codemirror_mode": {
    "name": "ipython",
    "version": 3
   },
   "file_extension": ".py",
   "mimetype": "text/x-python",
   "name": "python",
   "nbconvert_exporter": "python",
   "pygments_lexer": "ipython3",
   "version": "3.10.13"
  }
 },
 "nbformat": 4,
 "nbformat_minor": 5
}
