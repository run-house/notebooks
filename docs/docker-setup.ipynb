{
 "cells": [
  {
   "cell_type": "markdown",
   "id": "d7714581-7039-4d0a-98eb-d43a20d4d9e5",
   "metadata": {},
   "source": [
    "# Docker: Cluster Setup"
   ]
  },
  {
   "cell_type": "markdown",
   "id": "7e46a23a-e442-493f-a36d-477569a50400",
   "metadata": {},
   "source": [
    "Runhouse integrates with [SkyPilot](https://skypilot.readthedocs.io/en/latest/docs/index.html) to enable automatic setup of an existing Docker container when you launch your [on-demand cluster](https://www.run.house/docs/api/python/cluster#ondemandcluster-class). When you specify a Docker image for an on-demand cluster, the container is automatically built and set up remotely on the cluster. The Runhouse server will start directly inside the remote container. \n",
    "\n",
    "**NOTE:** This guide details the setup and usage for on-demand clusters only. Docker container is also supported for Sagemaker clusters, and it is not yet supported for static clusters."
   ]
  },
  {
   "cell_type": "markdown",
   "id": "c581f9a5-ec5a-41f0-bc7f-56bc4b712996",
   "metadata": {},
   "source": [
    "## Cluster & Docker Setup\n",
    "\n",
    "**NOTE:** Docker support for on-demand clusters is currently an Alpha feature. The syntax and setup is subject to change, and this page will be updated with any changes."
   ]
  },
  {
   "cell_type": "markdown",
   "id": "b43d1517-ab28-490c-bef7-39f5560e495a",
   "metadata": {},
   "source": [
    "### Public Docker Image\n",
    "\n",
    "To specify the Docker container, pass it to the `image_id` field of the ondemand_cluster factory, in the following format: `docker:<registry>/<image>:<tag>`. Note that to enable autostop on the launched cluster, we must also separately specify `skypilot` as a requirement for the cluster. This can be done by either including `skypilot` in the docker build itself, or by including it as a req in the cluster's default env."
   ]
  },
  {
   "cell_type": "code",
   "execution_count": null,
   "id": "4e9d3e64-69dc-4ae1-980a-605ac7a71580",
   "metadata": {},
   "outputs": [],
   "source": [
    "docker_cluster = rh.ondemand_cluster(\n",
    "    name=\"pytorch_cluster\",\n",
    "    image_id=\"docker:nvcr.io/nvidia/pytorch:23.10-py3\",\n",
    "    instance_type=\"CPU:2+\",\n",
    "    default_env=rh.env(reqs=[\"skypilot\"]),\n",
    "    provider=\"aws\",\n",
    ")"
   ]
  },
  {
   "cell_type": "markdown",
   "id": "dff290e6-696f-45e0-896f-db9ff66e094c",
   "metadata": {},
   "source": [
    "### Private Docker Image\n",
    "\n",
    "To use a Docker image hosted on a private registry, such as ECR, you need to pass in the following environment variables. These environment variables will propogate through to SkyPilot, which will use them while launching and setting up the cluster and base container.\n",
    "\n",
    "Values used in: `docker login -u <user> -p <password> <registry server>`:\n",
    "* SKYPILOT_DOCKER_USERNAME: `<user>`\n",
    "* SKYPILOT_DOCKER_PASSWORD: `<password>`\n",
    "* SKYPILOT_DOCKER_SERVER: `<registry server>`"
   ]
  },
  {
   "cell_type": "markdown",
   "id": "64174005-57db-4441-8e3b-27fbd93d51fa",
   "metadata": {},
   "source": [
    "For instance, to use the PyTorch2.2 ECR Framework provided [here](https://github.com/aws/deep-learning-containers/blob/master/available_images.md#ec2-framework-containers-tested-on-ec2-ecs-and-eks-only), you can set your environment variables as follows:  "
   ]
  },
  {
   "cell_type": "code",
   "execution_count": 3,
   "id": "9c740594-a768-4abe-a905-e229f429a02d",
   "metadata": {},
   "outputs": [],
   "source": [
    "! export SKYPILOT_DOCKER_USERNAME=AWS\n",
    "! export SKYPILOT_DOCKER_PASSWORD=$(aws ecr get-login-password --region us-east-1)\n",
    "! export SKYPILOT_DOCKER_SERVER=763104351884.dkr.ecr.us-east-1.amazonaws.com"
   ]
  },
  {
   "cell_type": "markdown",
   "id": "3fac34c0-5340-42c8-a255-5a1d55b05efa",
   "metadata": {},
   "source": [
    "Then, instantiate the on-demand cluster and fill in the `image_id` field, remembering to pass in `skypilot` to the default env if it is not already part of the Docker container."
   ]
  },
  {
   "cell_type": "code",
   "execution_count": null,
   "id": "744b65c2-7848-4e3d-82d8-79fbff60aeff",
   "metadata": {},
   "outputs": [],
   "source": [
    "ecr_cluster = rh.ondemand_cluster(\n",
    "    name=\"ecr_pytorch_cluster\",\n",
    "    image_id=\"docker:pytorch-training:2.2.0-cpu-py310-ubuntu20.04-ec2\",\n",
    "    instance_type=\"CPU:2+\",\n",
    "    default_env=rh.env(reqs=[\"skypilot\"]),\n",
    "    provider=\"aws\",\n",
    ")"
   ]
  },
  {
   "cell_type": "markdown",
   "id": "e4584c4d-440b-4fba-beaa-7fb1dac07740",
   "metadata": {},
   "source": [
    "## Advanced Usage and Details"
   ]
  },
  {
   "cell_type": "markdown",
   "id": "6f8f26c7-8d58-405b-9e33-65a4920136e2",
   "metadata": {},
   "source": [
    "When the cluster is launched, the Docker container is set up on the cluster. SkyPilot will be set up in it's own separate base Conda environment, while Runhouse will be installed and the server set up directly on the Docker container. This way, any commands or functions/classes run through Runhouse will be run directly on the container, with access to any of its dependencies and setup."
   ]
  },
  {
   "cell_type": "markdown",
   "id": "e1b8397b-0aa3-4c31-a314-db011777de46",
   "metadata": {},
   "source": [
    "### SSH\n",
    "\n",
    "To SSH directly onto the container, where the Runhouse server is started, you can use `runhouse ssh <cluster_name>`.\n",
    "\n",
    "If you simply use `ssh <cluster_name>`, the base environment set up by SkyPilot will be activated by default. In this case, you would need to additionally call `conda deactivate` to land in the base Docker container."
   ]
  },
  {
   "cell_type": "markdown",
   "id": "df797ff6-3c6e-4362-b4e4-4b7b54376bf0",
   "metadata": {},
   "source": [
    "### User and Container Name\n",
    "\n",
    "By default, the remote Docker container, which is set up through Skypilot, will be named `sky_container`, and the user will be `root`."
   ]
  }
 ],
 "metadata": {
  "kernelspec": {
   "display_name": "Python 3 (ipykernel)",
   "language": "python",
   "name": "python3"
  },
  "language_info": {
   "codemirror_mode": {
    "name": "ipython",
    "version": 3
   },
   "file_extension": ".py",
   "mimetype": "text/x-python",
   "name": "python",
   "nbconvert_exporter": "python",
   "pygments_lexer": "ipython3",
   "version": "3.10.13"
  }
 },
 "nbformat": 4,
 "nbformat_minor": 5
}
