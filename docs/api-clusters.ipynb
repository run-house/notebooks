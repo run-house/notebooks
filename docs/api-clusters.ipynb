{
 "cells": [
  {
   "cell_type": "markdown",
   "id": "c3aa5bf1-c65c-454a-af40-8b6b9264cd97",
   "metadata": {},
   "source": [
    "# Clusters\n",
    "\n",
    "A cluster is the most basic form of compute in Runhouse, largely representing a group of instances or VMs connected with Ray. They largely fall in two categories:\n",
    "\n",
    "1. *Static Clusters*: Any machine you have SSH access to, set up with IP addresses and SSH credentials.\n",
    "2. *On-Demand Clusters*: Any cloud instance spun up automatically for you with your cloud credentials.\n",
    "\n",
    "Runhouse provides various APIs for interacting with remote clusters, such as terminating an on-demand cloud cluster or running remote CLI or Python commands from your local dev environment."
   ]
  },
  {
   "cell_type": "markdown",
   "id": "8d01dd1c-8309-4fa6-91d3-9ca6efa6aa79",
   "metadata": {},
   "source": [
    "Let's start with a simple example using AWS. First, install `runhouse` with AWS dependencies:"
   ]
  },
  {
   "cell_type": "code",
   "execution_count": null,
   "id": "353a310c-9d05-4b49-af29-2ae372e03e9b",
   "metadata": {},
   "outputs": [],
   "source": [
    "! pip install \"runhouse[aws]\""
   ]
  },
  {
   "cell_type": "markdown",
   "id": "cc2995fc-32f7-47dc-98a3-89611110c5fb",
   "metadata": {},
   "source": [
    "Make sure your AWS credentials are set up:"
   ]
  },
  {
   "cell_type": "code",
   "execution_count": null,
   "id": "66c74724-9baa-4c15-9936-8d17c84221d2",
   "metadata": {},
   "outputs": [],
   "source": [
    "! aws configure\n",
    "! sky check"
   ]
  },
  {
   "cell_type": "markdown",
   "id": "779febff-c940-4a55-bdf4-e94909777f05",
   "metadata": {},
   "source": [
    "## On-Demand Clusters\n",
    "\n",
    "We can start by using the `rh.cluster` factory function to create our cluster. By specifying an `instance_type`, Runhouse sets up an On-Demand Cluster in AWS EC2 for us.\n",
    "\n",
    "Each cluster must be provided with a unique `name` identifier during construction. This `name` parameter is used for saving down or loading previous saved clusters, and also used for various CLI commands for the cluster.\n",
    "\n",
    "Our `instance_type` here is defined as `CPU:2`, which is the accelerator type and count that we need (another example would be `A10G:2`). We could alternatively specify a specific specific instance type, such as `p3.2xlarge` or `g4dn.xlarge` (these are instance types on AWS)."
   ]
  },
  {
   "cell_type": "code",
   "execution_count": 16,
   "id": "4778210a-1a30-4928-ac1d-ba81222d2668",
   "metadata": {},
   "outputs": [],
   "source": [
    "import runhouse as rh\n",
    "\n",
    "aws_cluster = rh.cluster(name=\"test-cluster\", instance_type=\"CPU:2\")\n",
    "aws_cluster.up_if_not()"
   ]
  },
  {
   "cell_type": "markdown",
   "id": "2a45c01b-fdbc-40af-a4d2-fd35c7450bc2",
   "metadata": {},
   "source": [
    "Next, we set up a basic function to throw up on our cluster. For more information about Functions & Modules that you can put up on a cluster, see [Functions & Modules](https://www.run.house/docs/tutorials/api-modules). "
   ]
  },
  {
   "cell_type": "code",
   "execution_count": null,
   "id": "29bc7bc3-bbe2-4d6e-9605-0f71c274bea6",
   "metadata": {},
   "outputs": [],
   "source": [
    "def run_home(name: str):\n",
    "    return f\"Run home {name}!\"\n",
    "\n",
    "remote_function = rh.function(run_home).to(aws_cluster)"
   ]
  },
  {
   "cell_type": "markdown",
   "id": "d2024df9-5735-4fa6-a56e-5d858be9dd90",
   "metadata": {},
   "source": [
    "After running `.to`, your function is set up on the cluster to be called from anywhere. When you call `remote_function`, it executes remotely on your AWS instance."
   ]
  },
  {
   "cell_type": "code",
   "execution_count": 18,
   "id": "bd0f621c-b7b8-4d96-b468-fb7604dfc58f",
   "metadata": {},
   "outputs": [
    {
     "name": "stderr",
     "output_type": "stream",
     "text": [
      "INFO | 2024-03-06 15:18:58.439252 | Calling run_home.call\n",
      "INFO | 2024-03-06 15:18:59.490122 | Time to call run_home.call: 1.05 seconds\n"
     ]
    },
    {
     "data": {
      "text/plain": [
       "'Run home in cluster!!'"
      ]
     },
     "execution_count": 18,
     "metadata": {},
     "output_type": "execute_result"
    }
   ],
   "source": [
    "remote_function(\"in cluster!\")"
   ]
  },
  {
   "cell_type": "markdown",
   "id": "32cb4246-a772-4a35-a885-e066084e549a",
   "metadata": {},
   "source": [
    "### On-Demand Clusters with TLS exposed\n",
    "\n",
    "In the previous example, the cluster that was brought up in EC2 is only accessible to the original user that has SSH credentials to the machine. However, you can set up a cluster with ports exposed to open Internet, and access objects and functions via `curl`."
   ]
  },
  {
   "cell_type": "code",
   "execution_count": 19,
   "id": "fefb3c7b-2922-4700-b9a9-658e8f79274f",
   "metadata": {},
   "outputs": [
    {
     "name": "stderr",
     "output_type": "stream",
     "text": [
      "WARNING | 2024-03-06 15:19:05.297411 | /Users/rohinbhasin/work/runhouse/runhouse/resources/hardware/on_demand_cluster.py:317: UserWarning: Server is insecure and must be inside a VPC or have `den_auth` enabled to secure it.\n",
      "  warnings.warn(\n",
      "\n"
     ]
    }
   ],
   "source": [
    "tls_cluster = rh.cluster(name=\"tls-cluster\",\n",
    "                         instance_type=\"CPU:2\",\n",
    "                         open_ports=[443], # expose HTTPS port to public\n",
    "                         server_connection_type=\"tls\", # specify how runhouse communicates with this cluster\n",
    "                         den_auth=False, # no authentication required to hit this cluster (NOT recommended)\n",
    ").up_if_not()"
   ]
  },
  {
   "cell_type": "code",
   "execution_count": null,
   "id": "59ac071b-875e-418e-86a1-12ccaa781580",
   "metadata": {},
   "outputs": [],
   "source": [
    "remote_tls_function = rh.function(run_home).to(tls_cluster)"
   ]
  },
  {
   "cell_type": "code",
   "execution_count": 21,
   "id": "bbc35b27-38ed-42ec-92a8-6d3ecf6accb8",
   "metadata": {},
   "outputs": [
    {
     "name": "stderr",
     "output_type": "stream",
     "text": [
      "INFO | 2024-03-06 15:26:05.482586 | Calling run_home.call\n",
      "INFO | 2024-03-06 15:26:06.550625 | Time to call run_home.call: 1.07 seconds\n"
     ]
    },
    {
     "data": {
      "text/plain": [
       "'Run home Marvin!'"
      ]
     },
     "execution_count": 21,
     "metadata": {},
     "output_type": "execute_result"
    }
   ],
   "source": [
    "remote_tls_function(\"Marvin\")"
   ]
  },
  {
   "cell_type": "code",
   "execution_count": 22,
   "id": "80cd254f-d29c-4d0f-b40d-779265404c34",
   "metadata": {},
   "outputs": [
    {
     "data": {
      "text/plain": [
       "'54.172.178.196'"
      ]
     },
     "execution_count": 22,
     "metadata": {},
     "output_type": "execute_result"
    }
   ],
   "source": [
    "tls_cluster.address"
   ]
  },
  {
   "cell_type": "code",
   "execution_count": 23,
   "id": "fa9f3d90-d1e2-4630-9418-c788bff0606d",
   "metadata": {},
   "outputs": [
    {
     "name": "stdout",
     "output_type": "stream",
     "text": [
      "{\"data\":\"\\\"Run home Marvin!\\\"\",\"error\":null,\"traceback\":null,\"output_type\":\"result_serialized\",\"serialization\":\"json\"}"
     ]
    }
   ],
   "source": [
    "! curl \"https://54.172.178.196/run_home/call?name=Marvin\" -k"
   ]
  },
  {
   "cell_type": "markdown",
   "id": "6e26b572-8b4f-4c6e-b6ec-da9d33eafb1c",
   "metadata": {},
   "source": [
    "This cluster is exposed to the open Internet, so anyone can hit it. If you do want to share functions and apps publically, it's recommended you set `den_auth=True` when setting up your cluster, which requires a user to run `runhouse login` in order to hit the cluster. We'll enable it now:"
   ]
  },
  {
   "cell_type": "code",
   "execution_count": null,
   "id": "9f743d57-1223-4ce6-b250-6768c494275b",
   "metadata": {},
   "outputs": [],
   "source": [
    "tls_cluster.enable_den_auth()"
   ]
  },
  {
   "cell_type": "code",
   "execution_count": 25,
   "id": "ae3d1af3-4019-4b2d-acf6-19059f892ccd",
   "metadata": {},
   "outputs": [
    {
     "name": "stdout",
     "output_type": "stream",
     "text": [
      "{\"data\":null,\"error\":raise PermissionError(\\\\nPermissionError: No Runhouse token provided. Try running `$ runhouse login` or visiting https://run.house/login to retrieve a token. If calling via HTTP, please provide a valid token in the Authorization header.\\\\n\\\"\",\"output_type\":\"exception\",\"serialization\":null}"
     ]
    }
   ],
   "source": [
    "! curl \"https://54.172.178.196/run_home/call?name=Marvin\" -k"
   ]
  },
  {
   "cell_type": "markdown",
   "id": "e6d6e3bb-1f63-4c3e-8f8f-5966fb0c9712",
   "metadata": {},
   "source": [
    "If we send our Runhouse Den token as a header, then the request is valid:"
   ]
  },
  {
   "cell_type": "code",
   "execution_count": 26,
   "id": "c129bf71-983e-4020-9728-e80be352d22e",
   "metadata": {},
   "outputs": [
    {
     "name": "stdout",
     "output_type": "stream",
     "text": [
      "{\"data\":\"\\\"Run home Marvin!\\\"\",\"error\":null,\"traceback\":null,\"output_type\":\"result_serialized\",\"serialization\":\"json\"}"
     ]
    }
   ],
   "source": [
    "! curl \"https://54.172.178.196/run_home/call?name=Marvin\" -k -H \"Authorization: Bearer <YOUR TOKEN HERE>\""
   ]
  },
  {
   "cell_type": "markdown",
   "id": "cfe9ff82-066c-4211-bbab-40c9d3b85196",
   "metadata": {},
   "source": [
    "## Static Clusters\n",
    "\n",
    "If you have existing machines within a VPC that you want to connect to, you can simply provide the IP addresses and path to SSH credentials to the machine."
   ]
  },
  {
   "cell_type": "code",
   "execution_count": 16,
   "id": "19d353a2-42c2-4c9d-b424-ae7f740d50e0",
   "metadata": {},
   "outputs": [],
   "source": [
    "cluster = rh.cluster(  # using private key\n",
    "              name=\"cpu-cluster-existing\",\n",
    "              ips=['<ip of the cluster>'],\n",
    "              ssh_creds={'ssh_user': '<user>', 'ssh_private_key':'<path_to_key>'},\n",
    "          )"
   ]
  },
  {
   "cell_type": "markdown",
   "id": "d26b4fa5-620e-45ae-879e-30673968c124",
   "metadata": {},
   "source": [
    "## Useful Cluster Functions "
   ]
  },
  {
   "cell_type": "code",
   "execution_count": 27,
   "id": "d74f7f57-72c4-48d7-9479-e8dd63d4489b",
   "metadata": {},
   "outputs": [
    {
     "name": "stderr",
     "output_type": "stream",
     "text": [
      "Warning: Permanently added '54.172.178.196' (ED25519) to the list of known hosts.\n"
     ]
    },
    {
     "name": "stdout",
     "output_type": "stream",
     "text": [
      "Requirement already satisfied: numpy in /opt/conda/lib/python3.10/site-packages (1.26.4)\n",
      "numpy==1.26.4\n"
     ]
    },
    {
     "data": {
      "text/plain": [
       "[(0,\n",
       "  'Requirement already satisfied: numpy in /opt/conda/lib/python3.10/site-packages (1.26.4)\\nnumpy==1.26.4\\n',\n",
       "  \"Warning: Permanently added '54.172.178.196' (ED25519) to the list of known hosts.\\r\\n\")]"
      ]
     },
     "execution_count": 27,
     "metadata": {},
     "output_type": "execute_result"
    }
   ],
   "source": [
    "tls_cluster.run(['pip install numpy && pip freeze | grep numpy'])"
   ]
  },
  {
   "cell_type": "code",
   "execution_count": 28,
   "id": "fa116b7c-9489-4d8f-b089-5ddcd10a7dc8",
   "metadata": {},
   "outputs": [
    {
     "name": "stdout",
     "output_type": "stream",
     "text": [
      "1.26.4\n"
     ]
    },
    {
     "data": {
      "text/plain": [
       "[(0, '1.26.4\\n', '')]"
      ]
     },
     "execution_count": 28,
     "metadata": {},
     "output_type": "execute_result"
    }
   ],
   "source": [
    "tls_cluster.run_python(['import numpy', 'print(numpy.__version__)'])"
   ]
  },
  {
   "cell_type": "code",
   "execution_count": null,
   "id": "62b274a6-73e3-4411-9fc6-f8e0ea08f1aa",
   "metadata": {},
   "outputs": [],
   "source": []
  }
 ],
 "metadata": {
  "kernelspec": {
   "display_name": "Python 3 (ipykernel)",
   "language": "python",
   "name": "python3"
  },
  "language_info": {
   "codemirror_mode": {
    "name": "ipython",
    "version": 3
   },
   "file_extension": ".py",
   "mimetype": "text/x-python",
   "name": "python",
   "nbconvert_exporter": "python",
   "pygments_lexer": "ipython3",
   "version": "3.9.15"
  }
 },
 "nbformat": 4,
 "nbformat_minor": 5
}
