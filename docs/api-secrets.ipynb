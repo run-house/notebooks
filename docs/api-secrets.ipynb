{
 "cells": [
  {
   "cell_type": "markdown",
   "id": "f2c8863b-5988-4795-8927-703f92a183a0",
   "metadata": {},
   "source": [
    "# Secrets\n",
    "\n",
    "Secrets are a Runhouse resource that provides a simple interface for handling your secrets, such as provider credentials and API keys, across environments. With Runhouse APIs, easily\n",
    "\n",
    "* construct a secret object, based on local variables, files, or environment variables\n",
    "* save new secrets and reload existing ones\n",
    "* set secrets across clusters, environments, and functions\n",
    "\n",
    "For a more detailed API documentation, you can refer to our [Runhouse docs](https://www.run.house/docs/api/python/secrets)."
   ]
  },
  {
   "cell_type": "markdown",
   "id": "45d1e29f-06a0-46ca-8752-faa4dd561046",
   "metadata": {},
   "source": [
    "## Constructing Secrets\n",
    "\n",
    "Secrets are constructed using the `rh.secret` or `rh.provider_secret` factory functions. "
   ]
  },
  {
   "cell_type": "code",
   "execution_count": 1,
   "id": "655c3d9f-c4f0-4f02-aaac-e0b756c9f935",
   "metadata": {},
   "outputs": [],
   "source": [
    "import runhouse as rh"
   ]
  },
  {
   "cell_type": "markdown",
   "id": "64640db5-e863-4259-ae6f-92c5acc3e6c8",
   "metadata": {},
   "source": [
    "### Base Secret\n",
    "\n",
    "Base secrets are constructed with `rh.secret`, and consist of a values dictionary mapping secret keys to values."
   ]
  },
  {
   "cell_type": "code",
   "execution_count": 14,
   "id": "da29a960-3f94-439d-a346-e3d58a49594a",
   "metadata": {},
   "outputs": [
    {
     "name": "stderr",
     "output_type": "stream",
     "text": [
      "INFO | 2023-12-20 05:59:57.445868 | Saving config for ~/my_secret to: /Users/caroline/.rh/secrets/my_secret.json\n"
     ]
    }
   ],
   "source": [
    "my_secret = rh.secret(name=\"my_secret\", values={\"key\": \"secret_val\"})\n",
    "my_secret.save()\n",
    "del my_secret"
   ]
  },
  {
   "cell_type": "code",
   "execution_count": 15,
   "id": "ef3dda27-0172-4c11-9b1e-64f926a4f161",
   "metadata": {},
   "outputs": [
    {
     "name": "stderr",
     "output_type": "stream",
     "text": [
      "INFO | 2023-12-20 05:59:57.772553 | Loading config from local file /Users/caroline/.rh/secrets/my_secret.json\n"
     ]
    },
    {
     "data": {
      "text/plain": [
       "{'key': 'secret_val'}"
      ]
     },
     "execution_count": 15,
     "metadata": {},
     "output_type": "execute_result"
    }
   ],
   "source": [
    "my_secret = rh.secret(\"my_secret\")\n",
    "my_secret.values"
   ]
  },
  {
   "cell_type": "markdown",
   "id": "88fe76ab-7e10-4915-a64f-b14dd54102c2",
   "metadata": {},
   "source": [
    "### Provider Secret\n",
    "\n",
    "Provider secrets are constructed with `rh.provider_secret` and are associated with a provider type. These can be constructed by passing in a `values` key-pair mapping, or by providing the local file, or local environment variables associated with the keys, and as a result, have additional functionality such as being able to write to a file or environment variables. There are various supported builtin provider types, such as cluster providers (aws, azure, ...), api key based providers (openai, anthropic, ...), and ssh keys. These secret classes have default locations (file path or environment variables) that Runhouse will use to extract the secret values from out-of-the-box, if the `values` are not explicitly provided."
   ]
  },
  {
   "cell_type": "code",
   "execution_count": 16,
   "id": "e47df351-0644-4765-8ed8-a6b76dee57e9",
   "metadata": {},
   "outputs": [
    {
     "data": {
      "text/plain": [
       "['aws',\n",
       " 'azure',\n",
       " 'gcp',\n",
       " 'github',\n",
       " 'huggingface',\n",
       " 'lambda',\n",
       " 'ssh',\n",
       " 'sky',\n",
       " 'anthropic',\n",
       " 'cohere',\n",
       " 'langchain',\n",
       " 'openai',\n",
       " 'pinecone',\n",
       " 'wandb']"
      ]
     },
     "execution_count": 16,
     "metadata": {},
     "output_type": "execute_result"
    }
   ],
   "source": [
    "rh.Secret.builtin_providers(as_str=True)"
   ]
  },
  {
   "cell_type": "markdown",
   "id": "3016ca6d-73ba-4ab4-9a85-2395d76b926b",
   "metadata": {},
   "source": [
    "#### Compute Providers"
   ]
  },
  {
   "cell_type": "markdown",
   "id": "0eb45f19-4d84-4a67-b836-2ffedb36774f",
   "metadata": {},
   "source": [
    "Here, we construct a default AWS provider secret. We locally have dummy variables stored in the default path ~/.aws/credentials, and we see that this is automatically set."
   ]
  },
  {
   "cell_type": "code",
   "execution_count": 5,
   "id": "5caaec5f-007e-4a00-880c-650ba4f828ce",
   "metadata": {},
   "outputs": [
    {
     "name": "stdout",
     "output_type": "stream",
     "text": [
      "[default]\n",
      "aws_access_key_id = ABCD_KEY\n",
      "aws_secret_access_key = 1234_KEY\n"
     ]
    }
   ],
   "source": [
    "!cat ~/.aws/credentials"
   ]
  },
  {
   "cell_type": "code",
   "execution_count": 6,
   "id": "76322130-394f-43f2-9284-67d78f349cb3",
   "metadata": {},
   "outputs": [
    {
     "name": "stdout",
     "output_type": "stream",
     "text": [
      "extracted path: ~/.aws/credentials\n",
      "extracted values: {'access_key': 'ABCD_KEY', 'secret_key': '1234_KEY'}\n"
     ]
    }
   ],
   "source": [
    "# default provider secret for AWS. Will pull in values from expected default configuration when used.\n",
    "aws_secret = rh.provider_secret(\"aws\")\n",
    "\n",
    "print(f\"extracted path: {aws_secret.path}\")\n",
    "print(f\"extracted values: {aws_secret.values}\")"
   ]
  },
  {
   "cell_type": "markdown",
   "id": "ab767d59-8dce-456f-a5bd-313af8c42cdb",
   "metadata": {},
   "source": [
    "You can also instantiate secrets by directly passing in their secret values (if it isn't locally set up yet), and optionally save it down locally."
   ]
  },
  {
   "cell_type": "code",
   "execution_count": 2,
   "id": "3509fa2a-622e-46ea-b8ea-d7a1d075ad75",
   "metadata": {},
   "outputs": [
    {
     "name": "stderr",
     "output_type": "stream",
     "text": [
      "INFO | 2023-12-20 17:37:57.775584 | Secrets already exist in ~/.lambda_cloud/lambda_keys.\n"
     ]
    },
    {
     "name": "stdout",
     "output_type": "stream",
     "text": [
      "values: {'api_key': 'lambda_key'}\n",
      "path: ~/.lambda_cloud/lambda_keys\n"
     ]
    }
   ],
   "source": [
    "# provider secret constructed from values dictionary, for LambdaLabs. \n",
    "lambda_secret = rh.provider_secret(\"lambda\", values={\"api_key\": \"lambda_key\"})\n",
    "\n",
    "print(f\"values: {lambda_secret.values}\")\n",
    "\n",
    "lambda_secret = lambda_secret.write()\n",
    "print(f\"path: {lambda_secret.path}\")"
   ]
  },
  {
   "cell_type": "markdown",
   "id": "91192b82-dc11-4fb4-bc21-f00b53ffe2cb",
   "metadata": {},
   "source": [
    "Or, you can construct a secret with a non-default path, and Runhouse will extract out the values."
   ]
  },
  {
   "cell_type": "code",
   "execution_count": 8,
   "id": "bd60a546-7536-498e-8fda-398c95933e22",
   "metadata": {},
   "outputs": [
    {
     "name": "stdout",
     "output_type": "stream",
     "text": [
      "[default]\n",
      "aws_access_key_id = ABCD_KEY_CUSTOM\n",
      "aws_secret_access_key = 1234_KEY_CUSTOM\n"
     ]
    }
   ],
   "source": [
    "!cat ~/.aws/credentials_custom"
   ]
  },
  {
   "cell_type": "code",
   "execution_count": 3,
   "id": "a9162fd2-3c93-4037-ae4d-779bb68d5416",
   "metadata": {},
   "outputs": [
    {
     "name": "stdout",
     "output_type": "stream",
     "text": [
      "path: ~/.aws/credentials_custom\n",
      "values: {'access_key': 'ABCD_KEY_CUSTOM', 'secret_key': '1234_KEY_CUSTOM'}\n"
     ]
    }
   ],
   "source": [
    "aws_secret_custom = rh.provider_secret(\"aws\", path=\"~/.aws/credentials_custom\")\n",
    "\n",
    "print(f\"path: {aws_secret_custom.path}\")\n",
    "print(f\"values: {aws_secret_custom.values}\")"
   ]
  },
  {
   "cell_type": "markdown",
   "id": "58f9d534-48ce-4645-83e2-35a5d75e71b6",
   "metadata": {},
   "source": [
    "#### API Keys\n",
    "\n",
    "These provider secrets consist of a single API key, associated with a default environment variable key, often `PROVIDER_API_KEY`. They can be constructed by passing in a values dict mapping `api_key` to the value, or the value will be inferred from the environment variables. Calling `.write()` will set the environment variable in the current process."
   ]
  },
  {
   "cell_type": "markdown",
   "id": "8c635a13-1931-44c8-a5bc-349d245641a1",
   "metadata": {},
   "source": [
    "Secrets from inferred env value:"
   ]
  },
  {
   "cell_type": "code",
   "execution_count": 4,
   "id": "7732a5ff-27e9-4ea2-a0de-c3b6d92163a6",
   "metadata": {},
   "outputs": [],
   "source": [
    "import os\n",
    "os.environ[\"OPENAI_API_KEY\"] = \"openai_key\""
   ]
  },
  {
   "cell_type": "code",
   "execution_count": 5,
   "id": "a57acfaf-994f-4332-8beb-36b9f7ee779c",
   "metadata": {},
   "outputs": [
    {
     "data": {
      "text/plain": [
       "{'api_key': 'openai_key'}"
      ]
     },
     "execution_count": 5,
     "metadata": {},
     "output_type": "execute_result"
    }
   ],
   "source": [
    "openai_secret = rh.provider_secret(\"openai\")\n",
    "openai_secret.values"
   ]
  },
  {
   "cell_type": "markdown",
   "id": "3e31dc26-32a3-4ae6-af72-f8628d138fad",
   "metadata": {},
   "source": [
    "Passing in value to the constructor:"
   ]
  },
  {
   "cell_type": "code",
   "execution_count": 6,
   "id": "5ce686dd-9343-4836-98a1-8c881ab3d0ab",
   "metadata": {},
   "outputs": [
    {
     "data": {
      "text/plain": [
       "'ahthropic_key'"
      ]
     },
     "execution_count": 6,
     "metadata": {},
     "output_type": "execute_result"
    }
   ],
   "source": [
    "anthropic_secret = rh.provider_secret(\"anthropic\", values={\"api_key\": \"ahthropic_key\"})\n",
    "anthropic_secret.write()\n",
    "\n",
    "os.environ[\"ANTHROPIC_API_KEY\"]"
   ]
  },
  {
   "cell_type": "markdown",
   "id": "ee80c1f3-9db6-41a3-a107-c022247aad09",
   "metadata": {},
   "source": [
    "#### SSH Keys\n",
    "\n",
    "SSH public and private key pairs are another type of supported builtin provider type. Simply pass in `provider=\"ssh\"` and `name=<key>`."
   ]
  },
  {
   "cell_type": "code",
   "execution_count": 20,
   "id": "932f5d52-08ad-41b9-be9b-7b229f629f86",
   "metadata": {},
   "outputs": [
    {
     "name": "stdout",
     "output_type": "stream",
     "text": [
      "**private key values**\n"
     ]
    }
   ],
   "source": [
    "!cat ~/.ssh/example"
   ]
  },
  {
   "cell_type": "code",
   "execution_count": 21,
   "id": "b46a2748-4115-4260-a720-400f3ce8a86c",
   "metadata": {},
   "outputs": [
    {
     "name": "stdout",
     "output_type": "stream",
     "text": [
      "**public key values**\n"
     ]
    }
   ],
   "source": [
    "!cat ~/.ssh/example.pub"
   ]
  },
  {
   "cell_type": "code",
   "execution_count": 22,
   "id": "1eef7c14-148d-43d5-be19-df7988d643eb",
   "metadata": {},
   "outputs": [
    {
     "data": {
      "text/plain": [
       "{'public_key': '**public key values**\\n',\n",
       " 'private_key': '**private key values**\\n'}"
      ]
     },
     "execution_count": 22,
     "metadata": {},
     "output_type": "execute_result"
    }
   ],
   "source": [
    "ssh_secret = rh.provider_secret(provider=\"ssh\", name=\"example\")\n",
    "ssh_secret.values"
   ]
  },
  {
   "cell_type": "markdown",
   "id": "ea33e610-e3fe-4893-b14d-5433c0110491",
   "metadata": {},
   "source": [
    "## Sending Secrets\n",
    "\n",
    "You can directly send secrets to a cluster using the `secret.to()` API, bulk sync secrets using `cluster.sync_secrets()`, or by including them as part of a `rh.env()`."
   ]
  },
  {
   "cell_type": "code",
   "execution_count": 10,
   "id": "2c97c4e2-cff5-4faf-bb46-db17cea67701",
   "metadata": {},
   "outputs": [],
   "source": [
    "cluster = rh.ondemand_cluster(\"example-cluster\")"
   ]
  },
  {
   "cell_type": "markdown",
   "id": "632b422f-4119-45b3-80c3-8e2294a00bbf",
   "metadata": {},
   "source": [
    "#### `secret.to(system, env)`"
   ]
  },
  {
   "cell_type": "code",
   "execution_count": 8,
   "id": "a6c82982-2479-463f-b61a-0d08588bb20b",
   "metadata": {},
   "outputs": [
    {
     "data": {
      "text/plain": [
       "'~/.lambda_cloud/lambda_keys'"
      ]
     },
     "execution_count": 8,
     "metadata": {},
     "output_type": "execute_result"
    }
   ],
   "source": [
    "lambda_secret.path"
   ]
  },
  {
   "cell_type": "code",
   "execution_count": 11,
   "id": "df729d47-1eb7-4451-9a78-de44b7298e1d",
   "metadata": {},
   "outputs": [
    {
     "name": "stderr",
     "output_type": "stream",
     "text": [
      "INFO | 2023-12-20 17:43:02.929930 | Connected (version 2.0, client OpenSSH_8.2p1)\n",
      "INFO | 2023-12-20 17:43:03.168593 | Authentication (publickey) successful!\n",
      "INFO | 2023-12-20 17:43:03.171218 | Connecting to server via SSH, port forwarding via port 32300.\n",
      "INFO | 2023-12-20 17:43:03.172050 | Checking server example-cluster\n",
      "INFO | 2023-12-20 17:43:03.677092 | Server example-cluster is up.\n",
      "INFO | 2023-12-20 17:43:03.820783 | Calling lambda._write_to_file\n"
     ]
    },
    {
     "name": "stdout",
     "output_type": "stream",
     "text": [
      "base servlet: Calling method _write_to_file on module lambda\n"
     ]
    },
    {
     "name": "stderr",
     "output_type": "stream",
     "text": [
      "INFO | 2023-12-20 17:43:04.110755 | Time to call lambda._write_to_file: 0.29 seconds\n",
      "INFO | 2023-12-20 17:43:04.523570 | Getting file_20231220_124304\n",
      "INFO | 2023-12-20 17:43:04.633602 | Time to get file_20231220_124304: 0.11 seconds\n"
     ]
    },
    {
     "data": {
      "application/vnd.jupyter.widget-view+json": {
       "model_id": "",
       "version_major": 2,
       "version_minor": 0
      },
      "text/plain": [
       "Output()"
      ]
     },
     "metadata": {},
     "output_type": "display_data"
    },
    {
     "data": {
      "text/html": [
       "<pre style=\"white-space:pre;overflow-x:auto;line-height:normal;font-family:Menlo,'DejaVu Sans Mono',consolas,'Courier New',monospace\"></pre>\n"
      ],
      "text/plain": []
     },
     "metadata": {},
     "output_type": "display_data"
    },
    {
     "data": {
      "text/html": [
       "<pre style=\"white-space:pre;overflow-x:auto;line-height:normal;font-family:Menlo,'DejaVu Sans Mono',consolas,'Courier New',monospace\">\n",
       "</pre>\n"
      ],
      "text/plain": [
       "\n"
      ]
     },
     "metadata": {},
     "output_type": "display_data"
    },
    {
     "data": {
      "text/plain": [
       "'api_key = lambda_key\\n'"
      ]
     },
     "execution_count": 11,
     "metadata": {},
     "output_type": "execute_result"
    }
   ],
   "source": [
    "# path secret\n",
    "lambda_secret.to(cluster)\n",
    "rh.file(path=lambda_secret.path, system=cluster).fetch(mode=\"r\", deserialize=False)"
   ]
  },
  {
   "cell_type": "code",
   "execution_count": 12,
   "id": "e8509875-4082-4514-ad3f-f7d4e6352fe5",
   "metadata": {},
   "outputs": [
    {
     "name": "stderr",
     "output_type": "stream",
     "text": [
      "INFO | 2023-12-20 17:43:11.602308 | Getting base_env\n",
      "INFO | 2023-12-20 17:43:13.070980 | Calling base_env._set_env_vars\n"
     ]
    },
    {
     "name": "stdout",
     "output_type": "stream",
     "text": [
      "base_env servlet: Calling method _set_env_vars on module base_env\n"
     ]
    },
    {
     "name": "stderr",
     "output_type": "stream",
     "text": [
      "INFO | 2023-12-20 17:43:13.432078 | Time to call base_env._set_env_vars: 0.36 seconds\n"
     ]
    },
    {
     "data": {
      "text/plain": [
       "<runhouse.resources.secrets.provider_secrets.openai_secret.OpenAISecret at 0x17fe7f1f0>"
      ]
     },
     "execution_count": 12,
     "metadata": {},
     "output_type": "execute_result"
    }
   ],
   "source": [
    "env = rh.env()\n",
    "openai_secret.to(cluster, env=env)"
   ]
  },
  {
   "cell_type": "code",
   "execution_count": 13,
   "id": "c35ab79b-7a76-4f69-b92b-a6f2422e4f93",
   "metadata": {},
   "outputs": [
    {
     "name": "stderr",
     "output_type": "stream",
     "text": [
      "INFO | 2023-12-20 17:43:16.529605 | Writing out function to /Users/caroline/Documents/runhouse/runhouse/docs/notebooks/api/_get_env_var_fn.py. Please make sure the function does not rely on any local variables, including imports (which should be moved inside the function body).\n",
      "INFO | 2023-12-20 17:43:16.540215 | Setting up Function on cluster.\n",
      "INFO | 2023-12-20 17:43:16.543037 | Copying package from file:///Users/caroline/Documents/runhouse/runhouse to: example-cluster\n",
      "INFO | 2023-12-20 17:43:16.544655 | Running command: ssh -T -i ~/.ssh/sky-key -o Port=22 -o StrictHostKeyChecking=no -o UserKnownHostsFile=/dev/null -o IdentitiesOnly=yes -o ExitOnForwardFailure=yes -o ServerAliveInterval=5 -o ServerAliveCountMax=3 -o ConnectTimeout=30s -o ForwardAgent=yes -o ControlMaster=auto -o ControlPath=/tmp/skypilot_ssh_caroline/41014bb4d3/%C -o ControlPersist=300s ubuntu@44.201.245.202 'bash --login -c -i '\"'\"'true && source ~/.bashrc && export OMP_NUM_THREADS=1 PYTHONWARNINGS=ignore && (mkdir -p ~/runhouse/)'\"'\"' 2>&1'\n",
      "INFO | 2023-12-20 17:43:22.149570 | Calling base_env.install\n"
     ]
    },
    {
     "name": "stdout",
     "output_type": "stream",
     "text": [
      "base_env servlet: Calling method install on module base_env\n",
      "Installing package: Package: runhouse\n",
      "Installing Package: runhouse with method reqs.\n",
      "reqs path: runhouse/requirements.txt\n",
      "pip installing requirements from runhouse/requirements.txt with: -r runhouse/requirements.txt\n",
      "Running: /opt/conda/bin/python3.10 -m pip install -r runhouse/requirements.txt\n"
     ]
    },
    {
     "name": "stderr",
     "output_type": "stream",
     "text": [
      "INFO | 2023-12-20 17:43:26.164394 | Time to call base_env.install: 4.01 seconds\n",
      "INFO | 2023-12-20 17:43:26.420370 | Function setup complete.\n",
      "INFO | 2023-12-20 17:43:26.427886 | Calling _get_env_var.call\n"
     ]
    },
    {
     "name": "stdout",
     "output_type": "stream",
     "text": [
      "base_env servlet: Calling method call on module _get_env_var\n"
     ]
    },
    {
     "name": "stderr",
     "output_type": "stream",
     "text": [
      "INFO | 2023-12-20 17:43:26.686193 | Time to call _get_env_var.call: 0.26 seconds\n"
     ]
    },
    {
     "data": {
      "text/plain": [
       "'openai_key'"
      ]
     },
     "execution_count": 13,
     "metadata": {},
     "output_type": "execute_result"
    }
   ],
   "source": [
    "def _get_env_var(var):\n",
    "    import os\n",
    "    return os.environ[var]\n",
    "\n",
    "get_env_var = rh.function(_get_env_var, system=cluster, env=env)\n",
    "get_env_var(\"OPENAI_API_KEY\")"
   ]
  },
  {
   "cell_type": "markdown",
   "id": "9e2a240e-46cc-4fce-bb32-770fb7f66baa",
   "metadata": {},
   "source": [
    "#### cluster.sync_secrets()\n",
    "\n",
    "You can pass in a list of secrets along with an env into `cluster.sync_secrets` to be synced over from local to a cluster. The list can consist of secrets resources or the string corresponding to the provider/name."
   ]
  },
  {
   "cell_type": "code",
   "execution_count": 14,
   "id": "0e57653f-0740-4bde-a501-6ef6339c1cd8",
   "metadata": {},
   "outputs": [
    {
     "name": "stderr",
     "output_type": "stream",
     "text": [
      "INFO | 2023-12-20 17:43:32.041330 | Calling aws._write_to_file\n"
     ]
    },
    {
     "name": "stdout",
     "output_type": "stream",
     "text": [
      "base servlet: Calling method _write_to_file on module aws\n",
      "Secrets already exist in ~/.aws/credentials.\n"
     ]
    },
    {
     "name": "stderr",
     "output_type": "stream",
     "text": [
      "INFO | 2023-12-20 17:43:32.293934 | Time to call aws._write_to_file: 0.25 seconds\n",
      "INFO | 2023-12-20 17:43:32.676000 | Calling gcp._write_to_file\n"
     ]
    },
    {
     "name": "stdout",
     "output_type": "stream",
     "text": [
      "base servlet: Calling method _write_to_file on module gcp\n",
      "Secrets already exist in ~/.config/gcloud/application_default_credentials.json.\n"
     ]
    },
    {
     "name": "stderr",
     "output_type": "stream",
     "text": [
      "INFO | 2023-12-20 17:43:32.936027 | Time to call gcp._write_to_file: 0.26 seconds\n",
      "INFO | 2023-12-20 17:43:33.315656 | Getting None\n",
      "INFO | 2023-12-20 17:43:33.551578 | Calling env_20231220_174256._set_env_vars\n"
     ]
    },
    {
     "name": "stdout",
     "output_type": "stream",
     "text": [
      "base servlet: Calling method _set_env_vars on module env_20231220_174256\n"
     ]
    },
    {
     "name": "stderr",
     "output_type": "stream",
     "text": [
      "INFO | 2023-12-20 17:43:33.790339 | Time to call env_20231220_174256._set_env_vars: 0.24 seconds\n"
     ]
    }
   ],
   "source": [
    "cluster.sync_secrets([\"aws\", \"gcp\", openai_secret])"
   ]
  },
  {
   "cell_type": "markdown",
   "id": "1ec7e2e4-539f-4b43-90ac-2b330d25c60f",
   "metadata": {},
   "source": [
    "#### rh.env\n",
    "\n",
    "You can also include a list of secrets in a Runhouse env object. When the env is then sent to a cluster, as part of a function or directly, the secrets will be synced onto the environment as well, and accessible from function and system calls running in the environment."
   ]
  },
  {
   "cell_type": "code",
   "execution_count": 16,
   "id": "18c7e379-a817-41d3-a88e-3ae56bcc43e8",
   "metadata": {},
   "outputs": [
    {
     "name": "stderr",
     "output_type": "stream",
     "text": [
      "INFO | 2023-12-20 17:48:29.631094 | Writing out function to /Users/caroline/Documents/runhouse/runhouse/docs/notebooks/api/_get_env_var_fn.py. Please make sure the function does not rely on any local variables, including imports (which should be moved inside the function body).\n",
      "INFO | 2023-12-20 17:48:29.662722 | Setting up Function on cluster.\n",
      "INFO | 2023-12-20 17:48:29.664560 | Copying package from file:///Users/caroline/Documents/runhouse/runhouse to: example-cluster\n",
      "INFO | 2023-12-20 17:48:29.665912 | Running command: ssh -T -i ~/.ssh/sky-key -o Port=22 -o StrictHostKeyChecking=no -o UserKnownHostsFile=/dev/null -o IdentitiesOnly=yes -o ExitOnForwardFailure=yes -o ServerAliveInterval=5 -o ServerAliveCountMax=3 -o ConnectTimeout=30s -o ForwardAgent=yes -o ControlMaster=auto -o ControlPath=/tmp/skypilot_ssh_caroline/41014bb4d3/%C -o ControlPersist=300s ubuntu@44.201.245.202 'bash --login -c -i '\"'\"'true && source ~/.bashrc && export OMP_NUM_THREADS=1 PYTHONWARNINGS=ignore && (mkdir -p ~/runhouse/)'\"'\"' 2>&1'\n",
      "INFO | 2023-12-20 17:48:31.562203 | Calling aws._write_to_file\n"
     ]
    },
    {
     "name": "stdout",
     "output_type": "stream",
     "text": [
      "base servlet: Calling method _write_to_file on module aws\n",
      "Secrets already exist in ~/.aws/credentials.\n"
     ]
    },
    {
     "name": "stderr",
     "output_type": "stream",
     "text": [
      "INFO | 2023-12-20 17:48:31.783056 | Time to call aws._write_to_file: 0.22 seconds\n",
      "INFO | 2023-12-20 17:48:32.119017 | Getting base_env\n",
      "INFO | 2023-12-20 17:48:32.227256 | Time to get base_env: 0.11 seconds\n",
      "INFO | 2023-12-20 17:48:32.229612 | Calling base_env._set_env_vars\n"
     ]
    },
    {
     "name": "stdout",
     "output_type": "stream",
     "text": [
      "base_env servlet: Calling method _set_env_vars on module base_env\n"
     ]
    },
    {
     "name": "stderr",
     "output_type": "stream",
     "text": [
      "INFO | 2023-12-20 17:48:32.474858 | Time to call base_env._set_env_vars: 0.25 seconds\n",
      "INFO | 2023-12-20 17:48:32.678774 | Calling base_env.install\n"
     ]
    },
    {
     "name": "stdout",
     "output_type": "stream",
     "text": [
      "base_env servlet: Calling method install on module base_env\n",
      "Env already installed, skipping\n"
     ]
    },
    {
     "name": "stderr",
     "output_type": "stream",
     "text": [
      "INFO | 2023-12-20 17:48:32.917056 | Time to call base_env.install: 0.24 seconds\n",
      "INFO | 2023-12-20 17:48:33.114583 | Function setup complete.\n",
      "INFO | 2023-12-20 17:48:33.122322 | Calling _get_env_var.call\n"
     ]
    },
    {
     "name": "stdout",
     "output_type": "stream",
     "text": [
      "base_env servlet: Calling method call on module _get_env_var\n"
     ]
    },
    {
     "name": "stderr",
     "output_type": "stream",
     "text": [
      "INFO | 2023-12-20 17:48:33.352872 | Time to call _get_env_var.call: 0.23 seconds\n"
     ]
    },
    {
     "data": {
      "text/plain": [
       "'openai_key'"
      ]
     },
     "execution_count": 16,
     "metadata": {},
     "output_type": "execute_result"
    }
   ],
   "source": [
    "secrets_env = rh.env(secrets=[\"aws\", openai_secret])\n",
    "\n",
    "get_env_var = rh.function(_get_env_var, system=cluster, env=secrets_env)\n",
    "get_env_var(\"OPENAI_API_KEY\")"
   ]
  },
  {
   "cell_type": "markdown",
   "id": "51d1c1cd-2333-4d86-b0dc-352bb5a27c76",
   "metadata": {},
   "source": [
    "## Saving and Loading Secrets\n",
    "\n",
    "You can save a secret using the `.save()` API, and reload a saved secret by calling `rh.secret(<name>)`.\n",
    "\n",
    "If you are not logged in to your Runhouse account, the secret config will be saved locally.\n",
    "\n",
    "If you have a Runhouse account, which you can create [here](https://www.run.house/login) or by calling either the `runhouse login` CLI command or `rh.login()` Python command, calling `.save()` will save the resource metadata on Runhouse servers, and the secret values to Hashicorp Vault."
   ]
  },
  {
   "cell_type": "markdown",
   "id": "c4a21959-d95d-4901-9df5-fa57cc602543",
   "metadata": {},
   "source": [
    "### Local Secret"
   ]
  },
  {
   "cell_type": "code",
   "execution_count": 20,
   "id": "d2711a18-aff3-42e5-b03d-7f969134cf1c",
   "metadata": {},
   "outputs": [
    {
     "name": "stderr",
     "output_type": "stream",
     "text": [
      "INFO | 2023-12-20 06:03:31.257864 | Saving config for ~/lambda_key to: /Users/caroline/.rh/secrets/lambda_key.json\n"
     ]
    }
   ],
   "source": [
    "local_secret = rh.provider_secret(provider=\"lambda\", name=\"lambda_key\")\n",
    "local_secret.save()\n",
    "del local_secret"
   ]
  },
  {
   "cell_type": "code",
   "execution_count": 22,
   "id": "24a59771-6950-4b1f-920b-a87f4d9aa5da",
   "metadata": {},
   "outputs": [
    {
     "name": "stderr",
     "output_type": "stream",
     "text": [
      "INFO | 2023-12-20 06:03:46.371170 | Loading config from local file /Users/caroline/.rh/secrets/lambda_key.json\n"
     ]
    },
    {
     "data": {
      "text/plain": [
       "{'api_key': 'lambda_key'}"
      ]
     },
     "execution_count": 22,
     "metadata": {},
     "output_type": "execute_result"
    }
   ],
   "source": [
    "reloaded_secret = rh.provider_secret(\"lambda_key\")\n",
    "reloaded_secret.values"
   ]
  },
  {
   "cell_type": "markdown",
   "id": "a488791f-413e-4ccd-a97e-d2d3de5e7154",
   "metadata": {},
   "source": [
    "### Den Secret\n",
    "\n",
    "If you have a Runhouse account, which you can create [here](https://www.run.house/login) or by calling either the `runhouse login` CLI command or `rh.login()` Python command, you can save secret to your dashboard. The metadata for the Secret resource, such as the provider, any path or env vars, etc, will be saved into Runhouse Den servers, while the secrets values themselves will be stored securely in Hashicorp Vault."
   ]
  },
  {
   "cell_type": "code",
   "execution_count": 29,
   "id": "adb8b8fd-09ed-465c-87e1-c526725ec52e",
   "metadata": {},
   "outputs": [],
   "source": [
    "runhouse login()"
   ]
  },
  {
   "cell_type": "code",
   "execution_count": 5,
   "id": "edad9ca8-8483-45cf-b0a0-e263a3a45ddf",
   "metadata": {},
   "outputs": [
    {
     "name": "stderr",
     "output_type": "stream",
     "text": [
      "INFO | 2023-12-20 06:09:17.712653 | Saving config for gcp_secret to Den\n",
      "INFO | 2023-12-20 06:09:18.184111 | Saving secrets for gcp_secret to Vault\n"
     ]
    },
    {
     "data": {
      "text/plain": [
       "<runhouse.resources.secrets.provider_secrets.gcp_secret.GCPSecret at 0x1650c7fd0>"
      ]
     },
     "execution_count": 5,
     "metadata": {},
     "output_type": "execute_result"
    }
   ],
   "source": [
    "rh.provider_secret(\"gcp\", name=\"gcp_secret\").save()"
   ]
  },
  {
   "cell_type": "code",
   "execution_count": 8,
   "id": "3a28adcf-522b-4961-a3aa-d8a2a19391a6",
   "metadata": {},
   "outputs": [
    {
     "data": {
      "text/plain": [
       "<runhouse.resources.secrets.provider_secrets.provider_secret.ProviderSecret at 0x10545efd0>"
      ]
     },
     "execution_count": 8,
     "metadata": {},
     "output_type": "execute_result"
    }
   ],
   "source": [
    "rh.provider_secret(\"gcp_secret\")"
   ]
  },
  {
   "cell_type": "markdown",
   "id": "b117c629-d273-4c3f-9c14-144c0451da0f",
   "metadata": {},
   "source": [
    "### Login and Logout\n",
    "\n",
    "The login flow gives you the option to upload locally detected builtin provider secrets, or load down saved-down Vault secrets into your local environment. If loading down new secrets, the location (file or env var) of the new secrets will be logged in your runhouse config yaml at `~/.rh/config.yaml` as well. There are some useful APIs as well for seeing which secrets you have locally configured or stored in Vault."
   ]
  },
  {
   "cell_type": "code",
   "execution_count": null,
   "id": "87d2ff2f-5de0-4768-9b42-42c27b3f134c",
   "metadata": {},
   "outputs": [],
   "source": [
    "runhouse.login()"
   ]
  },
  {
   "cell_type": "code",
   "execution_count": 12,
   "id": "8906b7c7-fd8b-4468-92a9-5d8d9063fc1a",
   "metadata": {},
   "outputs": [
    {
     "data": {
      "text/plain": [
       "{'aws': <runhouse.resources.secrets.provider_secrets.aws_secret.AWSSecret at 0x1631ccd90>,\n",
       " 'gcp': <runhouse.resources.secrets.provider_secrets.gcp_secret.GCPSecret at 0x105f16fd0>,\n",
       " 'github': <runhouse.resources.secrets.provider_secrets.github_secret.GitHubSecret at 0x1631c3d60>,\n",
       " 'lambda': <runhouse.resources.secrets.provider_secrets.lambda_secret.LambdaSecret at 0x1631c3ac0>,\n",
       " 'sky': <runhouse.resources.secrets.provider_secrets.sky_secret.SkySecret at 0x1631c3850>,\n",
       " 'ssh-sagemaker-ssh-gw': <runhouse.resources.secrets.provider_secrets.ssh_secret.SSHSecret at 0x105f495e0>,\n",
       " 'ssh-id_rsa': <runhouse.resources.secrets.provider_secrets.ssh_secret.SSHSecret at 0x105f49190>,\n",
       " 'ssh-id_rsa_tmp': <runhouse.resources.secrets.provider_secrets.ssh_secret.SSHSecret at 0x105f492e0>}"
      ]
     },
     "execution_count": 12,
     "metadata": {},
     "output_type": "execute_result"
    }
   ],
   "source": [
    "# list of my locally configured secrets\n",
    "locally_configued_secrets = rh.Secret.extract_provider_secrets()\n",
    "locally_configued_secrets"
   ]
  },
  {
   "cell_type": "code",
   "execution_count": 2,
   "id": "300c0de0-edb9-4d77-a7df-864d9bde5f2b",
   "metadata": {},
   "outputs": [
    {
     "data": {
      "text/plain": [
       "['aws', 'gcp', 'github', 'huggingface', 'lambda', 'ssh-id_rsa']"
      ]
     },
     "execution_count": 2,
     "metadata": {},
     "output_type": "execute_result"
    }
   ],
   "source": [
    "# if previously logged in and saved secrets to vault, can load down the secrets\n",
    "vault_secrets = rh.Secret.vault_secrets()\n",
    "vault_secrets"
   ]
  },
  {
   "cell_type": "markdown",
   "id": "1654066d-dbc6-451a-8325-c53663ba3044",
   "metadata": {},
   "source": [
    "To save a secret to Vault, simply call `.save()` on the resource. This will save both the values themselves, and relevant metadata such as the path where it is locally stored. \n",
    "\n",
    "You can manually construct and save a resource, or iterate through one of the lists above."
   ]
  },
  {
   "cell_type": "code",
   "execution_count": 6,
   "id": "0cbe2e0f-90e1-427f-a195-f4e049bdcadb",
   "metadata": {},
   "outputs": [
    {
     "name": "stderr",
     "output_type": "stream",
     "text": [
      "INFO | 2023-12-11 17:50:58.715913 | Saving config for aws to Den\n",
      "INFO | 2023-12-11 17:50:58.748314 | Saving secrets for aws to Vault\n",
      "INFO | 2023-12-11 17:50:59.565812 | Saving config for gcp to Den\n",
      "INFO | 2023-12-11 17:50:59.597261 | Saving secrets for gcp to Vault\n"
     ]
    }
   ],
   "source": [
    "aws_secret_custom.save()\n",
    "locally_configued_secrets[\"gcp\"].save()"
   ]
  },
  {
   "cell_type": "markdown",
   "id": "ec420213-f124-41a5-8b02-7ac14931729a",
   "metadata": {},
   "source": [
    "Logout will prompt you one by one the secrets that have been saved locally, whether or not you'd like to remove the associated file or env vars."
   ]
  },
  {
   "cell_type": "code",
   "execution_count": 17,
   "id": "d1deac07-def3-47ec-8c79-23bfe7b0fd88",
   "metadata": {},
   "outputs": [
    {
     "name": "stdout",
     "output_type": "stream",
     "text": [
      "Delete credentials in ['ANTHROPIC_API_KEY'] for anthropic? [y/N]:"
     ]
    },
    {
     "name": "stdout",
     "output_type": "stream",
     "text": [
      "  y\n"
     ]
    },
    {
     "name": "stdout",
     "output_type": "stream",
     "text": [
      "Delete your local Runhouse config file? [y/N]:"
     ]
    },
    {
     "name": "stdout",
     "output_type": "stream",
     "text": [
      "  n\n"
     ]
    },
    {
     "name": "stderr",
     "output_type": "stream",
     "text": [
      "INFO | 2023-12-20 17:56:54.337915 | Successfully logged out of Runhouse.\n"
     ]
    }
   ],
   "source": [
    "rh.logout()"
   ]
  },
  {
   "cell_type": "code",
   "execution_count": null,
   "id": "0e95b521-7f58-4b25-8243-5f68e7cff359",
   "metadata": {},
   "outputs": [],
   "source": []
  }
 ],
 "metadata": {
  "kernelspec": {
   "display_name": "Python 3 (ipykernel)",
   "language": "python",
   "name": "python3"
  },
  "language_info": {
   "codemirror_mode": {
    "name": "ipython",
    "version": 3
   },
   "file_extension": ".py",
   "mimetype": "text/x-python",
   "name": "python",
   "nbconvert_exporter": "python",
   "pygments_lexer": "ipython3",
   "version": "3.9.18"
  }
 },
 "nbformat": 4,
 "nbformat_minor": 5
}
