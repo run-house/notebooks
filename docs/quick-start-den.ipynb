{
 "cells": [
  {
   "cell_type": "markdown",
   "id": "a90905f7-8daa-4036-acd8-5c7334fbf1ac",
   "metadata": {},
   "source": [
    "# Den Quick Start"
   ]
  },
  {
   "cell_type": "markdown",
   "id": "ecfd8022-1ee4-4755-bbb7-98b45f5dd04c",
   "metadata": {},
   "source": [
    "[Runhouse Den](https://www.run.house/dashboard) lets you manage and track your infra, services, and resources (clusters, functions, secrets, etc). These resources can be easily reloaded from any environment, are ready to be used without additional setup, and can even be shared with another user or teammate. Then, in the Den Web UI, you can access, visualize, and manage your resources along with version history. "
   ]
  },
  {
   "cell_type": "markdown",
   "id": "2c2edfb7",
   "metadata": {},
   "source": [
    "## Installing Runhouse\n",
    "\n",
    "To use Runhouse to launch on-demand clusters, run the following installation command. This includes [SkyPilot](https://github.com/skypilot-org/skypilot), which is used for launching fresh VMs through various cloud providers."
   ]
  },
  {
   "cell_type": "code",
   "execution_count": null,
   "id": "32ea6e83",
   "metadata": {},
   "outputs": [],
   "source": [
    "!pip install \"runhouse[sky]\""
   ]
  },
  {
   "cell_type": "markdown",
   "id": "879f2369-256d-491c-87ce-5837892d530a",
   "metadata": {},
   "source": [
    "## Account Creation & Login\n",
    "\n",
    "You can create an account on the [run.house](https://www.run.house) website or by calling the login command in Python or CLI.\n",
    "\n",
    "To login on your dev environment, call ``rh.login()`` in Python or ``runhouse login`` in CLI."
   ]
  },
  {
   "cell_type": "code",
   "execution_count": null,
   "id": "09cb7d93-d67b-497b-840d-e52cbf11c992",
   "metadata": {},
   "outputs": [],
   "source": [
    "import runhouse as rh"
   ]
  },
  {
   "cell_type": "code",
   "execution_count": null,
   "id": "35217614-94fa-4038-89db-ac2e12b10c38",
   "metadata": {},
   "outputs": [],
   "source": [
    "rh.login()"
   ]
  },
  {
   "cell_type": "markdown",
   "id": "71e28127-9f47-4b95-ad34-1cc28b5186cb",
   "metadata": {},
   "source": [
    "As you'll see in the login prompts, Runhouse also optionally offers secrets management, where it can automatically detect local AI provider secrets (e.g. clouds, Hugging Face, OpenAI, etc.), and gives you the option to upload them securely into your account to use on remote clusters or in other environments. For more information on Secrets management, refer to the [Secrets Tutorial](https://www.run.house/docs/tutorials/api-secrets)."
   ]
  },
  {
   "cell_type": "markdown",
   "id": "9987d59e-2571-4c5a-98fc-61345bf159c2",
   "metadata": {},
   "source": [
    "## Saving"
   ]
  },
  {
   "cell_type": "markdown",
   "id": "7ec1cf1a-808c-4f5b-915f-1f34fe913141",
   "metadata": {},
   "source": [
    "Let's start by constructing some runhouse resources that we'd like to save down. These resources were first defined in our [Cloud Quick Start Tutorial](https://www.run.house/docs/tutorials/quick-start-cloud). As a reminder, you may need to confirm that your cloud credentials are properly configured by running `sky check`."
   ]
  },
  {
   "cell_type": "markdown",
   "id": "509cc294",
   "metadata": {},
   "source": [
    "<div class=\"note\">\n",
    "  Make sure that any code in your Python file that’s meant to only run locally is placed within a ``if __name__ == \"__main__\":`` block. Otherwise, that code will run when Runhouse attempts to import your code remotely. For example, you wouldn't  want `function.to(cluster)` to run again on the cluster. This is not necessary when using a notebook. Please see our [examples directory](https://github.com/run-house/runhouse/tree/main/examples) for implementation details.\n",
    "</div>"
   ]
  },
  {
   "cell_type": "code",
   "execution_count": null,
   "id": "a2eda1a7-f07f-4f12-bef1-58a2b954cf50",
   "metadata": {},
   "outputs": [],
   "source": [
    "cluster = rh.ondemand_cluster(\n",
    "    name=\"rh-cluster\",\n",
    "    instance_type=\"CPU:2+\",\n",
    "    provider=\"aws\"\n",
    ")"
   ]
  },
  {
   "cell_type": "code",
   "execution_count": 3,
   "id": "39e26339-d538-4d42-9112-73240d20666b",
   "metadata": {},
   "outputs": [
    {
     "name": "stderr",
     "output_type": "stream",
     "text": [
      "INFO | 2024-05-16 03:51:58.483032 | Because this function is defined in a notebook, writing it out to /Users/donny/code/notebooks/docs/get_platform_fn.py to make it importable. Please make sure the function does not rely on any local variables, including imports (which should be moved inside the function body). This restriction does not apply to functions defined in normal Python files.\n",
      "INFO | 2024-05-16 03:51:58.493093 | Port 32300 is already in use. Trying next port.\n",
      "INFO | 2024-05-16 03:51:58.494347 | Forwarding port 32301 to port 32300 on localhost.\n",
      "INFO | 2024-05-16 03:51:59.587613 | Server rh-cluster is up.\n",
      "INFO | 2024-05-16 03:51:59.595752 | Copying package from file:///Users/donny/code/notebooks to: rh-cluster\n",
      "INFO | 2024-05-16 03:52:00.716693 | Calling _cluster_default_env.install\n",
      "INFO | 2024-05-16 03:52:01.235732 | Time to call _cluster_default_env.install: 0.52 seconds\n",
      "INFO | 2024-05-16 03:52:01.252665 | Sending module get_platform of type <class 'runhouse.resources.functions.function.Function'> to rh-cluster\n"
     ]
    }
   ],
   "source": [
    "def get_platform(a = 0):\n",
    "        import platform\n",
    "        return platform.platform()\n",
    "\n",
    "remote_get_platform = rh.function(get_platform).to(cluster)"
   ]
  },
  {
   "cell_type": "markdown",
   "id": "152bb53e-36c9-4205-bc6d-8630e57abd71",
   "metadata": {},
   "source": [
    "You can save the resources we created above to your Den account with the `save` method:"
   ]
  },
  {
   "cell_type": "code",
   "execution_count": null,
   "id": "4bdaf4f2-6aee-4a6a-bb36-fe8185f426e2",
   "metadata": {},
   "outputs": [],
   "source": [
    "cluster.save()\n",
    "remote_get_platform.save()"
   ]
  },
  {
   "cell_type": "markdown",
   "id": "cf9555c2-0846-4624-8b8c-c71160f20dd3",
   "metadata": {},
   "source": [
    "## Reloading\n",
    "\n",
    "Once saved, resources can be reloaded from any environment in which you are logged into. For instance, if you are running this in a Colab notebook, you can jump into your terminal, call `runhouse login`, and then reconstruct and run the function on the cluster with the following Python script:"
   ]
  },
  {
   "cell_type": "markdown",
   "id": "26264682-b68b-4a0f-a12f-6f0daf746330",
   "metadata": {},
   "source": [
    "```python\n",
    "import runhouse as rh\n",
    "\n",
    "if __name__ == \"__main__\":\n",
    "    reloaded_fn = rh.function(name=\"get_platform\")\n",
    "    print(reloaded_fn())\n",
    "```"
   ]
  },
  {
   "cell_type": "markdown",
   "id": "64c1256f",
   "metadata": {},
   "source": [
    "The `name` used to reload the function is the method name by default. You can customize a function name using the following syntax:"
   ]
  },
  {
   "cell_type": "markdown",
   "id": "61c90fc4",
   "metadata": {},
   "source": [
    "```python\n",
    "remote_get_platform = rh.function(fn=get_platform, name=\"my_function\").to(cluster)\n",
    "```"
   ]
  },
  {
   "cell_type": "markdown",
   "id": "448c3fdf-9eea-4822-bcee-fe82a0bff5ca",
   "metadata": {},
   "source": [
    "## Sharing"
   ]
  },
  {
   "cell_type": "markdown",
   "id": "a2bcbe60-5055-4ff6-9f35-6f690bfac314",
   "metadata": {},
   "source": [
    "You can also share your resource with collaborators, and choose which level of access to give. Once shared, they will be able to see the resource in their dashboard as well, and be able to load and use the shared resource. They'll need to load the resource using its full name, which includes your username (`/your_username/get_platform`)."
   ]
  },
  {
   "cell_type": "code",
   "execution_count": null,
   "id": "93148b1d-a24f-4681-a4f0-7ebc2ba79b6a",
   "metadata": {},
   "outputs": [],
   "source": [
    "remote_get_platform.share(\n",
    "    users=[\"teammate1@email.com\"],\n",
    "    access_level=\"write\",\n",
    ")"
   ]
  },
  {
   "cell_type": "markdown",
   "id": "9b297e53-3fc2-4e7c-8bb3-402547daddee",
   "metadata": {},
   "source": [
    "## Web UI\n",
    "\n",
    "After saving your resources, you can log in and see them on your [Den dashboard](https://www.run.house/dashboard), labeled as `/<username>/rh-cluster` and `/<username>/get_platform`. \n",
    "\n",
    "Clicking into the resource provides information about your resource. You can view the resource metadata, previous versions, and activity, or add a description to the resource."
   ]
  },
  {
   "cell_type": "markdown",
   "id": "a828aa36-315b-4338-ba2f-0337cbfd1ff5",
   "metadata": {},
   "source": [
    "## Dive Deeper\n",
    "\n",
    "Check on more in-depth tutorials on:\n",
    "\n",
    "* Resource Management https://www.run.house/docs/tutorials/api-resources\n",
    "* Secrets Management https://www.run.house/docs/tutorials/api-secrets\n"
   ]
  }
 ],
 "metadata": {
  "kernelspec": {
   "display_name": "Python 3 (ipykernel)",
   "language": "python",
   "name": "python3"
  },
  "language_info": {
   "codemirror_mode": {
    "name": "ipython",
    "version": 3
   },
   "file_extension": ".py",
   "mimetype": "text/x-python",
   "name": "python",
   "nbconvert_exporter": "python",
   "pygments_lexer": "ipython3",
   "version": "3.10.13"
  }
 },
 "nbformat": 4,
 "nbformat_minor": 5
}
