{
 "cells": [
  {
   "cell_type": "markdown",
   "id": "a90905f7-8daa-4036-acd8-5c7334fbf1ac",
   "metadata": {},
   "source": [
    "# Den Quick Start"
   ]
  },
  {
   "cell_type": "markdown",
   "id": "ecfd8022-1ee4-4755-bbb7-98b45f5dd04c",
   "metadata": {},
   "source": [
    "[Runhouse Den](https://www.run.house/dashboard) let's you save and keep track of your Runhouse resources (cluster, function, data, etc). These resources can be easily reloaded from any environment, and ready to be used without additional setup, or even shared with another user or teammate. Then, in the Web UI, access, visualize, and manage your resources, along with version history. "
   ]
  },
  {
   "cell_type": "markdown",
   "id": "879f2369-256d-491c-87ce-5837892d530a",
   "metadata": {},
   "source": [
    "## Account Creation & Login\n",
    "\n",
    "You can create an account on the [run.house](https://www.run.house) website, or by calling the login command in Python or CLI.\n",
    "\n",
    "To login on your dev environment, call ``rh.login()`` in Python or ``runhouse login`` in CLI."
   ]
  },
  {
   "cell_type": "code",
   "execution_count": null,
   "id": "35217614-94fa-4038-89db-ac2e12b10c38",
   "metadata": {},
   "outputs": [],
   "source": [
    "rh.login()"
   ]
  },
  {
   "cell_type": "markdown",
   "id": "71e28127-9f47-4b95-ad34-1cc28b5186cb",
   "metadata": {},
   "source": [
    "As part of logging in, Runhouse also optionally offers secrets management, where it can automatically detect locally set up provider secrets, and gives you the option to upload them securely into your account. For more information on Secrets management, refer to the [Secrets Tutorial](https://www.run.house/docs/tutorials/api-secrets)."
   ]
  },
  {
   "cell_type": "markdown",
   "id": "9987d59e-2571-4c5a-98fc-61345bf159c2",
   "metadata": {},
   "source": [
    "## Saving"
   ]
  },
  {
   "cell_type": "markdown",
   "id": "7ec1cf1a-808c-4f5b-915f-1f34fe913141",
   "metadata": {},
   "source": [
    "Let's start by constructing some runhouse resources that we'd like to save down. These resources are taking from our [Cloud Quick Start Tutorial](https://www.run.house/docs/tutorials/quick-start-cloud)."
   ]
  },
  {
   "cell_type": "code",
   "execution_count": null,
   "id": "09cb7d93-d67b-497b-840d-e52cbf11c992",
   "metadata": {},
   "outputs": [],
   "source": [
    "import runhouse as rh"
   ]
  },
  {
   "cell_type": "code",
   "execution_count": 4,
   "id": "a2eda1a7-f07f-4f12-bef1-58a2b954cf50",
   "metadata": {},
   "outputs": [],
   "source": [
    "cluster = rh.ondemand_cluster(\n",
    "    name=\"rh-cluster\",\n",
    "    instance_type=\"CPU:2+\",\n",
    "    provider=\"aws\"\n",
    ")"
   ]
  },
  {
   "cell_type": "code",
   "execution_count": null,
   "id": "39e26339-d538-4d42-9112-73240d20666b",
   "metadata": {},
   "outputs": [],
   "source": [
    "def get_pid(a = 0):\n",
    "    import os\n",
    "    return os.getpid()\n",
    "\n",
    "remote_fn = rh.function(get_pid).to(cluster)"
   ]
  },
  {
   "cell_type": "markdown",
   "id": "152bb53e-36c9-4205-bc6d-8630e57abd71",
   "metadata": {},
   "source": [
    "You can save the resources we created above with:"
   ]
  },
  {
   "cell_type": "code",
   "execution_count": null,
   "id": "4bdaf4f2-6aee-4a6a-bb36-fe8185f426e2",
   "metadata": {},
   "outputs": [],
   "source": [
    "cluster.save()\n",
    "remote_fn.save()"
   ]
  },
  {
   "cell_type": "markdown",
   "id": "cf9555c2-0846-4624-8b8c-c71160f20dd3",
   "metadata": {},
   "source": [
    "## Reloading\n",
    "\n",
    "Once saved, resources can be reloaded from any environment in which you are logged into. For instance, if you are running this in a Colab notebook, you can jump into your terminal, call `runhouse login`, and then reconstruct and run the function on the cluster with the following Python script:"
   ]
  },
  {
   "cell_type": "markdown",
   "id": "26264682-b68b-4a0f-a12f-6f0daf746330",
   "metadata": {},
   "source": [
    "```\n",
    "\"\"\"\n",
    "import runhouse as rh\n",
    "\n",
    "if __name__ == \"__main__\":\n",
    "    reloaded_fn = rh.function(name=\"get_pid\")\n",
    "    print(reloaded_fn())\n",
    "\"\"\"\n",
    "```"
   ]
  },
  {
   "cell_type": "markdown",
   "id": "448c3fdf-9eea-4822-bcee-fe82a0bff5ca",
   "metadata": {},
   "source": [
    "## Sharing"
   ]
  },
  {
   "cell_type": "markdown",
   "id": "a2bcbe60-5055-4ff6-9f35-6f690bfac314",
   "metadata": {},
   "source": [
    "You can also share your resource with another user, and choose which level of access to give. Once shared, they will be able to see the resource in their dashboard as well, and be able to load and use the shared resource."
   ]
  },
  {
   "cell_type": "code",
   "execution_count": null,
   "id": "93148b1d-a24f-4681-a4f0-7ebc2ba79b6a",
   "metadata": {},
   "outputs": [],
   "source": [
    "remote_fn.share(\n",
    "    users=[\"teammate1@email.com\"],\n",
    "    access_level=\"write\",\n",
    ")"
   ]
  },
  {
   "cell_type": "markdown",
   "id": "9b297e53-3fc2-4e7c-8bb3-402547daddee",
   "metadata": {},
   "source": [
    "## Web UI\n",
    "\n",
    "After saving your resources, you can log in and see them on your [Den dashboard](https://www.run.house/dashboard), labeled as `<username>/rh-cluster` and `<username>/get_pid`. \n",
    "\n",
    "Clicking into the resource provides information about your resource. You can view the resource metadata, previous versions, and activity, or add a description to the resource."
   ]
  },
  {
   "cell_type": "markdown",
   "id": "a828aa36-315b-4338-ba2f-0337cbfd1ff5",
   "metadata": {},
   "source": [
    "## Dive Deeper\n",
    "\n",
    "Check on more in-depth tutorials on:\n",
    "\n",
    "* Resource Management https://www.run.house/docs/tutorials/api-resources\n",
    "* Secrets Management https://www.run.house/docs/tutorials/api-secrets\n"
   ]
  },
  {
   "cell_type": "code",
   "execution_count": null,
   "id": "369c832d-57ac-4fab-addd-e4deb5496faf",
   "metadata": {},
   "outputs": [],
   "source": []
  }
 ],
 "metadata": {
  "kernelspec": {
   "display_name": "Python 3 (ipykernel)",
   "language": "python",
   "name": "python3"
  },
  "language_info": {
   "codemirror_mode": {
    "name": "ipython",
    "version": 3
   },
   "file_extension": ".py",
   "mimetype": "text/x-python",
   "name": "python",
   "nbconvert_exporter": "python",
   "pygments_lexer": "ipython3",
   "version": "3.9.18"
  }
 },
 "nbformat": 4,
 "nbformat_minor": 5
}
