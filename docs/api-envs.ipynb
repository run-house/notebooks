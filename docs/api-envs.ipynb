{
 "cells": [
  {
   "cell_type": "markdown",
   "id": "bfe48637-3f28-4d42-8d7a-7e2038b00e12",
   "metadata": {},
   "source": [
    "# Envs and Packages\n",
    "\n",
    "The Runhouse Env and Package abstractions help to provide convenient dependency isolation and management across your dev environments and applications. By specifying the runtime environment associated with each of your Runhouse functions and apps, ensure consistency and reproducibility no matter where you deploy your code from/to."
   ]
  },
  {
   "cell_type": "markdown",
   "id": "c49046c2-4e1e-4052-8f2a-d4a7ce769082",
   "metadata": {},
   "source": [
    "## Packages\n",
    "\n",
    "A Runhouse package represents a package or dependency that can be shared between environments/clusters or file storage, and is core to the Runhouse environment. This can be the standard PyPI or Conda package, a requirements.txt file, a custom local package, or even a Git package."
   ]
  },
  {
   "cell_type": "code",
   "execution_count": null,
   "id": "9994a4a7-6945-45df-bc00-5eac4d4a1410",
   "metadata": {},
   "outputs": [],
   "source": [
    "import runhouse as rh"
   ]
  },
  {
   "cell_type": "code",
   "execution_count": null,
   "id": "f8d07f9a-e118-42df-b172-50cbf5b0b41e",
   "metadata": {},
   "outputs": [],
   "source": [
    "pip_package = rh.Package.from_string(\"pip:numpy\")\n",
    "conda_package = rh.Package.from_string(\"conda:torch\")\n",
    "reqs_package = rh.Package.from_string(\"reqs:./\")\n",
    "git_package = rh.GitPackage(git_url='https://github.com/huggingface/diffusers.git',\n",
    "                            install_method='pip',\n",
    "                            revision='v0.11.1')"
   ]
  },
  {
   "cell_type": "markdown",
   "id": "906a9af1-62d8-4726-ba68-aca304fd3128",
   "metadata": {},
   "source": [
    "## Envs\n",
    "\n",
    "The Runhouse environment represents a whole compute environment, consisting of packages, environment variables, the working directory, and any secrets necessary for performing tasks within the environment. It defines the environment on which Runhouse functions and modules run.\n",
    "\n",
    "Currently, both bare metal environments and Conda environments are supported. Docker environment support is planned."
   ]
  },
  {
   "cell_type": "markdown",
   "id": "2fdd663a-f834-42ce-8862-487745acdbd9",
   "metadata": {},
   "source": [
    "### Bare Metal Envs\n",
    "\n",
    "Envs can be constructed with the `rh.env()` factory function, optionally taking in a name, requirements (packages), environment variables, secrets, and working directory."
   ]
  },
  {
   "cell_type": "code",
   "execution_count": null,
   "id": "0a977627-b551-464e-8fd5-9d255a91b1da",
   "metadata": {},
   "outputs": [],
   "source": [
    "env = rh.env(\n",
    "        name=\"fn_env\",\n",
    "        reqs=[\"numpy\", \"torch\"],\n",
    "        working_dir=\"./\",  # current working dir\n",
    "        env_vars={\"USER\": \"*****\"},\n",
    "        secrets=[\"aws\"],\n",
    ")"
   ]
  },
  {
   "cell_type": "markdown",
   "id": "4c0769eb-aefd-4d2b-a734-99bd8c7f70b5",
   "metadata": {},
   "source": [
    "If no environment name is provided, when the environment is sent to a cluster,\n",
    "the dependencies and variables of the environment will be installed and synced\n",
    "on top of the cluster's default env. However, Without a name, the env resource\n",
    "itself can not be accessed and does not live in the cluster's object store."
   ]
  },
  {
   "cell_type": "markdown",
   "id": "c4faa866-8efa-4e0a-a932-64a738daa1f9",
   "metadata": {},
   "source": [
    "### Conda Envs\n",
    "\n",
    "Conda Envs can be created using `rh.conda_env`. There are a couple of ways to construct a Conda Env:\n",
    "\n",
    "- `.yml` file corresponding to conda config\n",
    "- dict corresponding to conda config\n",
    "- name of already set up local conda env\n",
    "- passing in reqs as a list\n",
    "\n",
    "Additional package dependencies can be passed in through the `reqs` argument, and env vars, secrets, and working dir is supported just as in the bare metal env."
   ]
  },
  {
   "cell_type": "code",
   "execution_count": null,
   "id": "ee6e67d5-7698-4c3d-a3f2-b966e432f54b",
   "metadata": {},
   "outputs": [],
   "source": [
    "conda_env = rh.conda_env(conda_env=\"conda_env.yml\", reqs=[\"numpy\", \"diffusers\"], name=\"yaml_env\")\n",
    "\n",
    "conda_dict = {\"name\": \"conda_env\", \"channels\": [\"conda-forge\"], \"dependencies\": [\"python=3.10.0\"]}\n",
    "conda_env = rh.env(conda_env=conda_dict, name=\"dict_env\")\n",
    "\n",
    "conda_env = rh.conda_env(conda_env=\"local_conda_env\", name=\"from_local_env\")\n",
    "\n",
    "conda_env = rh.conda_env(reqs=[\"numpy\", \"diffusers\"], name=\"new_env\")"
   ]
  },
  {
   "cell_type": "markdown",
   "id": "2676c78b-6e68-46ad-98cd-2a52992df6cd",
   "metadata": {},
   "source": [
    "### Envs on the Cluster\n",
    "\n",
    "Runhouse environments are generic environments, and the object itself is not associated with a cluster. However, it is a core component of Runhouse services, like functions and modules, which are associated with a cluster. As such, it is set up remotely when these services are sent over to the cluster -- packags are installed, working directory and env vars/secrets synced over, and cached on the cluster."
   ]
  },
  {
   "cell_type": "code",
   "execution_count": null,
   "id": "e0ead743-2f9f-4a26-8c00-ff9faba325bd",
   "metadata": {},
   "outputs": [],
   "source": [
    "# Function, cluster, and env setup\n",
    "def np_sum(a, b):\n",
    "    import numpy as np\n",
    "    return np.sum([a, b])\n",
    "\n",
    "cluster = rh.ondemand_cluster(\"rh-cluster\", instance_type=\"CPU:2+\").up_if_not()\n",
    "env = rh.env(name=\"np_env\", reqs=[\"numpy\"])"
   ]
  },
  {
   "cell_type": "code",
   "execution_count": 8,
   "id": "837d18e8-0f7c-4112-aa2b-de30deb1743f",
   "metadata": {},
   "outputs": [
    {
     "name": "stderr",
     "output_type": "stream",
     "text": [
      "INFO | 2024-02-28 21:24:52.915177 | Writing out function to /Users/caroline/Documents/runhouse/notebooks/docs/np_sum_fn.py. Please make sure the function does not rely on any local variables, including imports (which should be moved inside the function body).\n",
      "INFO | 2024-02-28 21:25:03.923658 | SSH tunnel on to server's port 32300 via server's ssh port 22 already created with the cluster.\n",
      "INFO | 2024-02-28 21:25:04.162828 | Server rh-cluster is up.\n",
      "INFO | 2024-02-28 21:25:04.166104 | Copying package from file:///Users/caroline/Documents/runhouse/notebooks to: rh-cluster\n"
     ]
    },
    {
     "name": "stderr",
     "output_type": "stream",
     "text": [
      "INFO | 2024-02-28 21:25:07.356780 | Calling np_env.install\n"
     ]
    },
    {
     "name": "stdout",
     "output_type": "stream",
     "text": [
      "----------\n",
      "\u001b[36mrh-cluster\u001b[0m\n",
      "----------\n",
      "\u001b[36mInstalling Package: numpy with method pip.\n",
      "\u001b[0m\u001b[36mRunning: pip install numpy\n",
      "\u001b[0m\u001b[36mInstalling Package: notebooks with method reqs.\n",
      "\u001b[0m\u001b[36mreqs path: notebooks/requirements.txt\n",
      "\u001b[0m\u001b[36mnotebooks/requirements.txt not found, skipping\n",
      "\u001b[0m"
     ]
    },
    {
     "name": "stderr",
     "output_type": "stream",
     "text": [
      "INFO | 2024-02-28 21:25:09.601131 | Time to call np_env.install: 2.24 seconds\n"
     ]
    },
    {
     "name": "stderr",
     "output_type": "stream",
     "text": [
      "INFO | 2024-02-28 21:25:16.987243 | Sending module np_sum to rh-cluster\n"
     ]
    }
   ],
   "source": [
    "remote_np_sum = rh.function(np_sum).to(cluster, env=env)"
   ]
  },
  {
   "cell_type": "code",
   "execution_count": 12,
   "id": "09658aef-a5cf-404d-a44b-c4c91cd05f1f",
   "metadata": {},
   "outputs": [
    {
     "name": "stderr",
     "output_type": "stream",
     "text": [
      "INFO | 2024-02-28 21:38:18.997808 | Calling np_sum.call\n",
      "INFO | 2024-02-28 21:38:20.047907 | Time to call np_sum.call: 1.05 seconds\n"
     ]
    },
    {
     "data": {
      "text/plain": [
       "5"
      ]
     },
     "execution_count": 12,
     "metadata": {},
     "output_type": "execute_result"
    }
   ],
   "source": [
    "remote_np_sum(2, 3)"
   ]
  },
  {
   "attachments": {},
   "cell_type": "markdown",
   "id": "c263dca8-e746-4234-8747-4da480989a63",
   "metadata": {},
   "source": [
    "On the cluster, each environment is associated with its own Ray Actor servlet, which handles all the activities within the environment (installing packages, getting or putting objects, calling functions, etc). Each env servlet has its own local object store where objects persist in Python, and lives in its own process, reducing interprocess overhead and eliminating launch overhead for calls made in the same env."
   ]
  }
 ],
 "metadata": {
  "kernelspec": {
   "display_name": "Python 3 (ipykernel)",
   "language": "python",
   "name": "python3"
  },
  "language_info": {
   "codemirror_mode": {
    "name": "ipython",
    "version": 3
   },
   "file_extension": ".py",
   "mimetype": "text/x-python",
   "name": "python",
   "nbconvert_exporter": "python",
   "pygments_lexer": "ipython3",
   "version": "3.9.18"
  }
 },
 "nbformat": 4,
 "nbformat_minor": 5
}
