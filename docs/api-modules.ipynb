{
 "cells": [
  {
   "cell_type": "markdown",
   "id": "8c135083-46d0-4bec-8e22-cc19270e3723",
   "metadata": {},
   "source": [
    "# Functions and Modules\n",
    "\n",
    "Runhouse makes Python functions and modules portable. Runhouse functions and modules are wrappers around Python code for functions and classes, that can live on remote compute and be run remotely. Once constructed, they can be called natively in Python from your local environment, and they come with a suite of built-in, ready-to-use features like logging, streaming, and mapping."
   ]
  },
  {
   "cell_type": "markdown",
   "id": "b8823289-9875-4b7f-939f-01385e3e961c",
   "metadata": {},
   "source": [
    "## Setup\n",
    "\n",
    "We first construct a Runhouse Cluster resource, which is the compute to which we will be sending and running our remote Python code on. You can read more in the [Cluster tutorial](https://www.run.house/docs/tutorials/api-clusters)."
   ]
  },
  {
   "cell_type": "code",
   "execution_count": 3,
   "id": "26279b4a-37a0-4c7f-b614-faef7e3b46bb",
   "metadata": {},
   "outputs": [],
   "source": [
    "import runhouse as rh"
   ]
  },
  {
   "cell_type": "code",
   "execution_count": null,
   "id": "06c5a188-c99a-4cd6-b148-36ff5781b9ea",
   "metadata": {
    "scrolled": true
   },
   "outputs": [],
   "source": [
    "cluster = rh.cluster(\n",
    "    name=\"rh-cluster\",\n",
    "    instance_type=\"CPU:2+\",\n",
    "    provider=\"aws\",\n",
    ")\n",
    "cluster.up_if_not()"
   ]
  },
  {
   "cell_type": "markdown",
   "id": "a14bfed1-14c1-4a75-a79d-cb9557df60a3",
   "metadata": {},
   "source": [
    "## Runhouse Functions\n",
    "\n",
    "A Runhouse Function wraps a function, and can be send to remote hardware to be run as a subroutine or service. "
   ]
  },
  {
   "cell_type": "markdown",
   "id": "a6f9a8b5-9a9f-41c2-a27b-3f06c88f4422",
   "metadata": {},
   "source": [
    "Let's start by defining a Python function locally. This function uses the `numpy` package to return the sum of the two input arguments."
   ]
  },
  {
   "cell_type": "code",
   "execution_count": 10,
   "id": "0f15bbd5-4147-45c6-88a7-10cc60baf250",
   "metadata": {},
   "outputs": [],
   "source": [
    "def np_sum(a, b):\n",
    "    import numpy as np\n",
    "    return np.sum([a, b])"
   ]
  },
  {
   "cell_type": "markdown",
   "id": "69728ff2-a10a-4b00-9ec6-8814fa5321ec",
   "metadata": {},
   "source": [
    "We set up the function on the cluster by\n",
    "\n",
    "- wrapping it with `rh.function(np_env)`\n",
    "- sending it `.to(cluster)`\n",
    "- specifying dependencies with `env=[\"numpy\"]`\n",
    "\n",
    "When this is called, the underlying code is synced over and dependencies are set up."
   ]
  },
  {
   "cell_type": "code",
   "execution_count": 8,
   "id": "562803e8-4136-4143-ae91-707af30030b7",
   "metadata": {},
   "outputs": [
    {
     "name": "stderr",
     "output_type": "stream",
     "text": [
      "INFO | 2024-02-27 20:21:54.329646 | Writing out function to /Users/caroline/Documents/runhouse/notebooks/docs/np_sum_fn.py. Please make sure the function does not rely on any local variables, including imports (which should be moved inside the function body).\n",
      "INFO | 2024-02-27 20:21:55.378194 | Server rh-cluster is up.\n",
      "INFO | 2024-02-27 20:21:55.384844 | Copying package from file:///Users/caroline/Documents/runhouse/notebooks to: rh-cluster\n"
     ]
    },
    {
     "name": "stderr",
     "output_type": "stream",
     "text": [
      "INFO | 2024-02-27 20:22:06.614361 | Calling base_env.install\n"
     ]
    },
    {
     "name": "stdout",
     "output_type": "stream",
     "text": [
      "----------\n",
      "\u001b[36mrh-cluster\u001b[0m\n",
      "----------\n",
      "\u001b[36mInstalling Package: numpy with method pip.\n",
      "\u001b[0m\u001b[36mRunning: pip install numpy\n",
      "\u001b[0m\u001b[36mInstalling Package: notebooks with method reqs.\n",
      "\u001b[0m\u001b[36mreqs path: notebooks/requirements.txt\n",
      "\u001b[0m\u001b[36mnotebooks/requirements.txt not found, skipping\n",
      "\u001b[0m"
     ]
    },
    {
     "name": "stderr",
     "output_type": "stream",
     "text": [
      "INFO | 2024-02-27 20:22:09.486367 | Time to call base_env.install: 2.87 seconds\n"
     ]
    },
    {
     "name": "stderr",
     "output_type": "stream",
     "text": [
      "INFO | 2024-02-27 20:22:18.091062 | Sending module np_sum to rh-cluster\n"
     ]
    }
   ],
   "source": [
    "remote_np_sum = rh.function(np_sum).to(cluster, env=[\"numpy\"])"
   ]
  },
  {
   "cell_type": "markdown",
   "id": "e1b86321-2bec-4fbf-b6bf-1469fc0e88e8",
   "metadata": {},
   "source": [
    "Running the function remotely is as simple as if you were running it locally. Below, the function runs remotely on the cluster, and returns the results to your local environment."
   ]
  },
  {
   "cell_type": "code",
   "execution_count": 12,
   "id": "de14af10-5b2a-41bf-aa69-714e91bfcb5c",
   "metadata": {},
   "outputs": [
    {
     "name": "stderr",
     "output_type": "stream",
     "text": [
      "INFO | 2024-02-27 20:49:41.688705 | Calling np_sum.call\n",
      "INFO | 2024-02-27 20:49:42.944473 | Time to call np_sum.call: 1.26 seconds\n"
     ]
    },
    {
     "data": {
      "text/plain": [
       "6"
      ]
     },
     "execution_count": 12,
     "metadata": {},
     "output_type": "execute_result"
    }
   ],
   "source": [
    "remote_np_sum(1, 5)"
   ]
  },
  {
   "cell_type": "markdown",
   "id": "0cbbc729-8571-48a6-b768-831fb92ae324",
   "metadata": {},
   "source": [
    "## Runhouse Modules\n",
    "\n",
    "A Function is a subclass of a more generic Runhouse concept called a Module, which represents the class analogue to a function. Like a Function, you can send a Module to a remote cluster and interact with it natively by calling its methods, but it can also persist and utilize live state via instance methods.\n",
    "\n",
    "Introducing state into a service means being able to spin up, connect, and secure auxiliary services like Redis, Celery, etc. In Runhouse, state is built in, and lives natively in-memory in Python so it’s ridiculously fast."
   ]
  },
  {
   "cell_type": "markdown",
   "id": "6a229490-e28d-47e4-ba77-2fb7c3eb2d43",
   "metadata": {},
   "source": [
    "### Converting Existing Class to Runhouse Module\n",
    "\n",
    "If you have a native Python class that you would like to run remotely, you can directly convert it into a Runhouse Module via the `rh.module` factory function.\n",
    "\n",
    "- Pass in the Python class to `rh.module()`\n",
    "- Call `.to(cluster)` to sync the class across to the cluster\n",
    "- Create a class instance and call their functions just as you would a locally defined class. The function runs remotely, and returns the result locally."
   ]
  },
  {
   "cell_type": "code",
   "execution_count": null,
   "id": "463d792f-b592-492f-90e2-e0aca8c2a763",
   "metadata": {},
   "outputs": [],
   "source": [
    "from transformers import AutoModel\n",
    "\n",
    "RemoteModel = rh.module(AutoModel).to(my_gpu)\n",
    "remote_model = AutoModel.from_pretrained(\"google-bert/bert-base-uncased\")\n",
    "remote_model.predict()"
   ]
  },
  {
   "cell_type": "markdown",
   "id": "1587745c-abce-4637-8d53-be8802bb75bc",
   "metadata": {},
   "source": [
    "### Constructing your own rh.Module Class\n",
    "\n",
    "You can also construct a Module from scratch by subclassing `rh.Module`.\n",
    "\n",
    "Note that the class is constructed locally prior to sending it to a remote cluster. If there is a computationally heavy operation such as loading a dataset or model that you only want to take place remotely, you probably want to wrap that operation in an instance method and call it only after it's sent to remote compute. One such way is through lazy initialization, as in the data property of the module below."
   ]
  },
  {
   "cell_type": "markdown",
   "id": "8e7ffef3-3d37-449a-9115-3720acf2bcb1",
   "metadata": {},
   "source": [
    "When working in a notebook setting, we define the class in another file, `pid_module.py`, because module code is synced to the cluster and there isn’t a robust standard for extracting code from notebooks. In normal Python, you can use any Module as you would a normal Python class."
   ]
  },
  {
   "cell_type": "code",
   "execution_count": 16,
   "id": "d1969096-57c7-4f2a-987c-d9eb076dbdac",
   "metadata": {},
   "outputs": [
    {
     "name": "stdout",
     "output_type": "stream",
     "text": [
      "Writing pid_module.py\n"
     ]
    }
   ],
   "source": [
    "%%writefile pid_module.py\n",
    "\n",
    "import os\n",
    "import runhouse as rh\n",
    "\n",
    "class PIDModule(rh.Module):\n",
    "    def __init__(self, a: int=0):\n",
    "        super().__init__()\n",
    "        self.a = a\n",
    "\n",
    "    @property\n",
    "    def data(self):\n",
    "        if not hasattr(self, '_data'):\n",
    "            self._data = load_dataset()\n",
    "        return self._data\n",
    "\n",
    "    def getpid(self):\n",
    "        return os.getpid() + self.a"
   ]
  },
  {
   "cell_type": "markdown",
   "id": "5cb52dc2-c683-4e40-854f-f50aaaa739d1",
   "metadata": {},
   "source": [
    "We can directly import the Module, and call `.to(cluster)` on it. Then use it as you would with any local Python class, except that this it is being run on the cluster."
   ]
  },
  {
   "cell_type": "code",
   "execution_count": 17,
   "id": "8b0ea326-9065-43b2-b62a-ba3862b04b96",
   "metadata": {},
   "outputs": [
    {
     "name": "stderr",
     "output_type": "stream",
     "text": [
      "INFO | 2024-02-27 20:56:19.187985 | Copying package from file:///Users/caroline/Documents/runhouse/notebooks to: rh-cluster\n"
     ]
    },
    {
     "name": "stderr",
     "output_type": "stream",
     "text": [
      "INFO | 2024-02-27 20:56:24.220264 | Calling base_env.install\n"
     ]
    },
    {
     "name": "stdout",
     "output_type": "stream",
     "text": [
      "\u001b[36mInstalling Package: notebooks with method reqs.\n",
      "\u001b[0m\u001b[36mreqs path: notebooks/requirements.txt\n",
      "\u001b[0m\u001b[36mnotebooks/requirements.txt not found, skipping\n",
      "\u001b[0m"
     ]
    },
    {
     "name": "stderr",
     "output_type": "stream",
     "text": [
      "INFO | 2024-02-27 20:56:25.343078 | Time to call base_env.install: 1.12 seconds\n"
     ]
    },
    {
     "name": "stderr",
     "output_type": "stream",
     "text": [
      "INFO | 2024-02-27 20:56:35.126382 | Sending module PIDModule to rh-cluster\n"
     ]
    },
    {
     "name": "stderr",
     "output_type": "stream",
     "text": [
      "INFO | 2024-02-27 20:56:44.887485 | Calling PIDModule.getpid\n",
      "INFO | 2024-02-27 20:56:45.938380 | Time to call PIDModule.getpid: 1.05 seconds\n"
     ]
    },
    {
     "data": {
      "text/plain": [
       "31607"
      ]
     },
     "execution_count": 17,
     "metadata": {},
     "output_type": "execute_result"
    }
   ],
   "source": [
    "from pid_module import PIDModule\n",
    "\n",
    "remote_module = PIDModule(a=5).to(cluster)\n",
    "remote_module.getpid()"
   ]
  },
  {
   "cell_type": "code",
   "execution_count": null,
   "id": "821cb151-be1b-4bb0-b562-7765f199cdc4",
   "metadata": {},
   "outputs": [],
   "source": []
  }
 ],
 "metadata": {
  "kernelspec": {
   "display_name": "Python 3 (ipykernel)",
   "language": "python",
   "name": "python3"
  },
  "language_info": {
   "codemirror_mode": {
    "name": "ipython",
    "version": 3
   },
   "file_extension": ".py",
   "mimetype": "text/x-python",
   "name": "python",
   "nbconvert_exporter": "python",
   "pygments_lexer": "ipython3",
   "version": "3.9.18"
  }
 },
 "nbformat": 4,
 "nbformat_minor": 5
}
