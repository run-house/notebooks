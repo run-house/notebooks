{
  "cells": [
    {
      "attachments": {},
      "cell_type": "markdown",
      "metadata": {
        "id": "VmxMLJk8Bf9H"
      },
      "source": [
        "# Training: Transformers"
      ]
    },
    {
      "attachments": {},
      "cell_type": "markdown",
      "metadata": {
        "id": "I_jIflpefIYX"
      },
      "source": [
        "This tutorial demonstrates how to use Runhouse to facilitate model training on **your own GPU**. With Runhouse, easily run your local code or training script on a remote cluster, and reproducibly set up your remote training environment.\n",
        "\n",
        "You can run this on your own cluster, or through a standard cloud account (AWS, GCP, Azure, LambdaLabs). If you do not have any compute or cloud accounts set up, we recommend creating a [LambdaLabs](https://cloud.lambdalabs.com/) account for the easiest setup path."
      ]
    },
    {
      "attachments": {},
      "cell_type": "markdown",
      "metadata": {
        "id": "fPg8_v7Wiq4l"
      },
      "source": [
        "## Table of Contents\n",
        "\n",
        "- Hardware Setup\n",
        "- Dataloading and Preprocessing\n",
        "- Model Training"
      ]
    },
    {
      "attachments": {},
      "cell_type": "markdown",
      "metadata": {
        "id": "GqOibqZrN_dR"
      },
      "source": [
        "## Install Runhouse"
      ]
    },
    {
      "cell_type": "code",
      "execution_count": null,
      "metadata": {
        "id": "1fSThfWeffHi"
      },
      "outputs": [],
      "source": [
        "!pip install runhouse[sky]"
      ]
    },
    {
      "cell_type": "code",
      "execution_count": 2,
      "metadata": {
        "colab": {
          "base_uri": "https://localhost:8080/"
        },
        "id": "p4j_cPvcic4R",
        "outputId": "bc76a6bd-14b8-416d-a30d-ddef1ee76dba"
      },
      "outputs": [
        {
          "name": "stdout",
          "output_type": "stream",
          "text": [
            "INFO | 2023-06-08 18:12:34,980 | No auth token provided, so not using RNS API to save and load configs\n",
            "INFO | 2023-06-08 18:12:36,499 | NumExpr defaulting to 2 threads.\n"
          ]
        }
      ],
      "source": [
        "import runhouse as rh"
      ]
    },
    {
      "attachments": {},
      "cell_type": "markdown",
      "metadata": {
        "id": "4odn_v2kfgdJ"
      },
      "source": [
        "## Hardware Setup\n",
        "\n",
        "If you're not already familiar with setting up a Runhouse cluster, please first refer to [Cluster Setup](https://www.run.house/docs/tutorials/quick_start#cluster-setup) for a more introductory and in-depth walkthrough."
      ]
    },
    {
      "cell_type": "code",
      "execution_count": 3,
      "metadata": {
        "colab": {
          "base_uri": "https://localhost:8080/"
        },
        "id": "wNRnEWV7ifBD",
        "outputId": "d6c3ebe2-5d14-4830-9928-6396094b20e7"
      },
      "outputs": [
        {
          "name": "stdout",
          "output_type": "stream",
          "text": [
            "INFO | 2023-06-08 18:12:39,041 | No auth token provided, so not using RNS API to save and load configs\n",
            "INFO | 2023-06-08 18:12:40,116 | NumExpr defaulting to 2 threads.\n",
            "\n",
            "            ____              __                             @ @ @\n",
            "           \u001b[35m/\u001b[0m __ \\__  ______  \u001b[35m/\u001b[0m \u001b[35m/\u001b[0m\u001b[95m_\u001b[0m  ____  __  __________     \u001b[1m[\u001b[0m\u001b[1m]\u001b[0m___\n",
            "          \u001b[35m/\u001b[0m \u001b[35m/_/\u001b[0m \u001b[35m/\u001b[0m \u001b[35m/\u001b[0m \u001b[35m/\u001b[0m \u001b[35m/\u001b[0m __ \\\u001b[35m/\u001b[0m __ \\\u001b[35m/\u001b[0m __ \\\u001b[35m/\u001b[0m \u001b[35m/\u001b[0m \u001b[35m/\u001b[0m \u001b[35m/\u001b[0m ___/ _ \\   \u001b[35m/\u001b[0m    \u001b[35m/\u001b[0m\\____    @@\n",
            "         \u001b[35m/\u001b[0m _, _/ \u001b[35m/_/\u001b[0m \u001b[35m/\u001b[0m \u001b[35m/\u001b[0m \u001b[35m/\u001b[0m \u001b[35m/\u001b[0m \u001b[35m/\u001b[0m \u001b[35m/\u001b[0m \u001b[35m/\u001b[0m \u001b[35m/_/\u001b[0m \u001b[35m/\u001b[0m \u001b[35m/_/\u001b[0m \u001b[1m(\u001b[0m__  \u001b[1m)\u001b[0m  __/  \u001b[35m/_/\u001b[0m\\_/\u001b[35m/____/\u001b[0m\\  @@@@\n",
            "        \u001b[35m/_/\u001b[0m |_|\\__,_/_/ \u001b[35m/_/_/\u001b[0m \u001b[35m/_/\u001b[0m\\____/\\__,_/____/\\___/   | || |||__|||   ||\n",
            "        \n",
            "\u001b[1;33mRetrieve your token 🔑 here to use 🏃 🏠 Runhouse for secrets and artifact \u001b[0m\n",
            "\u001b[1;33mmanagement: \u001b[0m\u001b[4;94mhttps://run.house/account#\u001b[0m\u001b[4;94mtoken\u001b[0m\n",
            "Token: \n",
            "INFO | 2023-06-08 18:12:49,216 | Getting secrets from Vault.\n",
            "INFO | 2023-06-08 18:12:51,329 | Found credentials in shared credentials file: ~/.aws/credentials\n",
            "\u001b[2K\u001b[32m⠸\u001b[0m Updating AWS catalog: aws/vms.csv (every 7 hours)\n",
            "\u001b[2K\u001b[32m⠴\u001b[0m Updating AWS catalog: aws/images.csv (every 7 hours)\n",
            "\u001b[1A\u001b[2KI 06-08 18:12:52 aws_catalog.py:120] \u001b[2mFetching availability zones mapping for AWS...\u001b[0m\n",
            "WARNING | 2023-06-08 18:12:58,242 | Received secrets ['gcp', 'lambda'] which Runhouse did not auto-detect as configured. For cloud providers, you may want to run `sky check` to double check that they're enabled and to see instructions on how to enable them.\n",
            "INFO | 2023-06-08 18:12:58,242 | Saved secrets from Vault to local config files\n",
            "INFO | 2023-06-08 18:12:58,413 | Found credentials in shared credentials file: ~/.aws/credentials\n",
            "INFO | 2023-06-08 18:12:59,293 | Uploaded secrets for to Vault for: ['aws', 'sky', 'ssh', 'github']\n",
            "INFO | 2023-06-08 18:12:59,294 | Successfully logged into Runhouse.\n",
            "\u001b[0m"
          ]
        }
      ],
      "source": [
        "# Optional, to sync over any hardware credentials and configs from your Runhouse account\n",
        "!runhouse login --yes\n",
        "\n",
        "# alternatively, to set up credentials locally, run `!sky check` and follow the instructions for your cloud provider(s)\n",
        "# !sky check"
      ]
    },
    {
      "cell_type": "code",
      "execution_count": 7,
      "metadata": {
        "colab": {
          "base_uri": "https://localhost:8080/",
          "height": 35,
          "referenced_widgets": [
            "dd026ccb4fe8409f8bdbf166409373c8",
            "9102ec126e764a24a911a697f05ce1ed"
          ]
        },
        "id": "bHRTjEv7RqcY",
        "outputId": "ff9ffa25-84f7-4a39-9408-fd93a3ab6bd1"
      },
      "outputs": [
        {
          "name": "stdout",
          "output_type": "stream",
          "text": [
            "INFO | 2023-06-08 18:30:56,926 | Attempting to load config for /carolineechen/rh-a10x from RNS.\n"
          ]
        },
        {
          "data": {
            "application/vnd.jupyter.widget-view+json": {
              "model_id": "dd026ccb4fe8409f8bdbf166409373c8",
              "version_major": 2,
              "version_minor": 0
            },
            "text/plain": [
              "Output()"
            ]
          },
          "metadata": {},
          "output_type": "display_data"
        },
        {
          "data": {
            "text/html": [
              "<pre style=\"white-space:pre;overflow-x:auto;line-height:normal;font-family:Menlo,'DejaVu Sans Mono',consolas,'Courier New',monospace\"></pre>\n"
            ],
            "text/plain": []
          },
          "metadata": {},
          "output_type": "display_data"
        },
        {
          "data": {
            "text/html": [
              "<pre style=\"white-space:pre;overflow-x:auto;line-height:normal;font-family:Menlo,'DejaVu Sans Mono',consolas,'Courier New',monospace\">\n",
              "</pre>\n"
            ],
            "text/plain": [
              "\n"
            ]
          },
          "metadata": {},
          "output_type": "display_data"
        }
      ],
      "source": [
        "# sample on-demand cluster, launched through Runhouse/SkyPilot\n",
        "gpu = rh.cluster(name='rh-a10x', instance_type='g5.2xlarge', provider='aws').up_if_not()\n",
        "\n",
        "# or for your own dedicated cluster\n",
        "# gpu = rh.cluster(\n",
        "#            name=\"cpu-cluster\",\n",
        "#            ips=['<ip of the cluster>'],\n",
        "#            ssh_creds={'ssh_user': '<user>', 'ssh_private_key':'<path_to_key>'},\n",
        "#       )"
      ]
    },
    {
      "attachments": {},
      "cell_type": "markdown",
      "metadata": {
        "id": "WN8rbfGVkC39"
      },
      "source": [
        "## Dataloading and Preprocessing\n",
        "\n",
        "Here, we briefly demonstrate how to \n",
        "\n",
        "Steps:\n",
        "- take our preprocessing code, wrap it in a function called load_and_preprocess\n",
        "- create a runhouse function, send it along w/ dependencies to the cluster, auto set up is handled\n",
        "- call the function (which runs remotely on the cluster!)\n",
        "\n",
        "Note that all the code inside the function runs on our gpu cluster, which means there's no need to install anything locally either.\n",
        "\n",
        "For a more in-depth walkthrough of Runhouse's function and env APIs, please refer to the [Compute API Tutorial](https://www.run.house/docs/tutorials/api_compute)."
      ]
    },
    {
      "cell_type": "code",
      "execution_count": 11,
      "metadata": {
        "id": "moRia4JUfH1y"
      },
      "outputs": [],
      "source": [
        "def load_and_preprocess():\n",
        "    from datasets import load_dataset\n",
        "\n",
        "    dataset = load_dataset(\"yelp_review_full\")\n",
        "    dataset[\"train\"][100]\n",
        "\n",
        "    from transformers import AutoTokenizer\n",
        "    tokenizer = AutoTokenizer.from_pretrained(\"bert-base-cased\")\n",
        "\n",
        "    def tokenize_function(examples):\n",
        "        return tokenizer(examples[\"text\"], padding=\"max_length\", truncation=True)\n",
        "    \n",
        "    tokenized_datasets = dataset.map(tokenize_function, batched=True)\n",
        "\n",
        "    small_train_dataset = tokenized_datasets[\"train\"].shuffle(seed=42).select(range(1000))\n",
        "    small_eval_dataset = tokenized_datasets[\"test\"].shuffle(seed=42).select(range(1000))\n",
        "    return [small_train_dataset, small_eval_dataset]"
      ]
    },
    {
      "cell_type": "code",
      "execution_count": 12,
      "metadata": {
        "colab": {
          "base_uri": "https://localhost:8080/"
        },
        "id": "teGyjKRmk2N0",
        "outputId": "6cffdf80-87df-4c2d-f7c6-9aaec499ef2e"
      },
      "outputs": [
        {
          "name": "stdout",
          "output_type": "stream",
          "text": [
            "INFO | 2023-06-08 18:43:59,993 | Writing out function function to /content/load_and_preprocess_fn.py. Please make sure the function does not rely on any local variables, including imports (which should be moved inside the function body).\n",
            "INFO | 2023-06-08 18:44:00,000 | Setting up Function on cluster.\n",
            "INFO | 2023-06-08 18:44:00,478 | Connected (version 2.0, client OpenSSH_8.2p1)\n",
            "INFO | 2023-06-08 18:44:00,684 | Authentication (publickey) successful!\n",
            "INFO | 2023-06-08 18:44:07,003 | Installing packages on cluster rh-a10x: ['transformers', 'datasets', 'torch', 'Package: content']\n",
            "INFO | 2023-06-08 18:46:10,042 | Function setup complete.\n"
          ]
        }
      ],
      "source": [
        "reqs = [\"transformers\", \"datasets\", \"torch\"]\n",
        "\n",
        "load_and_preprocess = rh.function(fn=load_and_preprocess).to(gpu, env=reqs)"
      ]
    },
    {
      "attachments": {},
      "cell_type": "markdown",
      "metadata": {
        "id": "sa4xYfH6s4lD"
      },
      "source": [
        "Runhouse functions work so that you call them as you would with a local function (e.g. `data = load_and_preprocess()`) -- the code runs remotely and returns the object locally.\n",
        "\n",
        "However, in this case, as we are running training on the same cluster and it's not useful to have the dataset sent back to local, we can simply call `.remote()` on the function to have it run async, returning an object reference to our dataset rather than the actual data. This dataset ref can be passed into later functions as if they were the actual object.\n",
        "\n",
        "If you'd like to save down your data to file storage (e.g. `s3`, `gcs`), Runhouse also has API support for that. Please refer to our Data API Tutorial <insert link> for more information on that."
      ]
    },
    {
      "cell_type": "code",
      "execution_count": 19,
      "metadata": {
        "colab": {
          "base_uri": "https://localhost:8080/"
        },
        "id": "nsja33fTs3aV",
        "outputId": "ea92d068-210c-4c14-b367-33efc2f83c45"
      },
      "outputs": [
        {
          "name": "stdout",
          "output_type": "stream",
          "text": [
            "INFO | 2023-06-08 18:52:55,092 | Running load_and_preprocess via HTTP\n",
            "INFO | 2023-06-08 18:52:55,191 | Time to call remote function: 0.1 seconds\n",
            "INFO | 2023-06-08 18:52:55,193 | Submitted remote call to cluster. Result or logs can be retrieved\n",
            " with run_key \"load_and_preprocess_20230608_185255\", e.g. \n",
            "`rh.cluster(name=\"/carolineechen/rh-a10x\").get(\"load_and_preprocess_20230608_185255\", stream_logs=True)` in python \n",
            "`runhouse logs \"rh-a10x\" load_and_preprocess_20230608_185255` from the command line.\n",
            " or cancelled with \n",
            "`rh.cluster(name=\"/carolineechen/rh-a10x\").cancel(\"load_and_preprocess_20230608_185255\")` in python or \n",
            "`runhouse cancel \"rh-a10x\" load_and_preprocess_20230608_185255` from the command line.\n"
          ]
        }
      ],
      "source": [
        "datasets_ref = load_and_preprocess.remote()"
      ]
    },
    {
      "attachments": {},
      "cell_type": "markdown",
      "metadata": {
        "id": "T2ISzjBlfG_4"
      },
      "source": [
        "## Training\n",
        "\n",
        "Now that we have the dataset ready, it's time to train!\n",
        "\n",
        "In a similar flow as above:\n",
        "- take our training code, wrap it in a `train` function\n",
        "- specify the function and relevant dependencies to be synced and installed on the remote cluster\n",
        "- call the function from local, passing in your dataset reference, and watch it train remotely\n",
        "\n",
        "Later on, we also demonstrate how you can run training from an existing script."
      ]
    },
    {
      "attachments": {},
      "cell_type": "markdown",
      "metadata": {
        "id": "4YgAjfsabCoJ"
      },
      "source": [
        "### Training from locally defined functions"
      ]
    },
    {
      "cell_type": "code",
      "execution_count": 20,
      "metadata": {
        "id": "zFkqR46XfHRd"
      },
      "outputs": [],
      "source": [
        "def train(hf_datasets):\n",
        "    [small_train_dataset, small_eval_dataset] = hf_datasets\n",
        "    \n",
        "    from transformers import AutoModelForSequenceClassification\n",
        "\n",
        "    model = AutoModelForSequenceClassification.from_pretrained(\"bert-base-cased\", num_labels=5)\n",
        "\n",
        "    import numpy as np\n",
        "    import evaluate\n",
        "\n",
        "    metric = evaluate.load(\"accuracy\")  # Requires scikit-learn\n",
        "\n",
        "    def compute_metrics(eval_pred):\n",
        "        logits, labels = eval_pred\n",
        "        predictions = np.argmax(logits, axis=-1)\n",
        "        return metric.compute(predictions=predictions, references=labels)\n",
        "\n",
        "    from transformers import TrainingArguments, Trainer\n",
        "\n",
        "    training_args = TrainingArguments(output_dir=\"test_trainer\", evaluation_strategy=\"epoch\")\n",
        "\n",
        "    trainer = Trainer(\n",
        "        model=model,\n",
        "        args=training_args,\n",
        "        train_dataset=small_train_dataset,\n",
        "        eval_dataset=small_eval_dataset,\n",
        "        compute_metrics=compute_metrics,\n",
        "    )\n",
        "\n",
        "    trainer.train()"
      ]
    },
    {
      "cell_type": "code",
      "execution_count": 21,
      "metadata": {
        "colab": {
          "base_uri": "https://localhost:8080/"
        },
        "id": "j2qZrwFiwi1k",
        "outputId": "14abeae6-ab2a-4b5f-fb61-dfa6f5a760e3"
      },
      "outputs": [
        {
          "name": "stdout",
          "output_type": "stream",
          "text": [
            "INFO | 2023-06-08 18:53:03,726 | Writing out function function to /content/train_fn.py. Please make sure the function does not rely on any local variables, including imports (which should be moved inside the function body).\n",
            "INFO | 2023-06-08 18:53:03,730 | Setting up Function on cluster.\n",
            "INFO | 2023-06-08 18:53:05,568 | Installing packages on cluster rh-a10x: ['evaluate', 'scikit-learn', 'accelerate', 'Package: content']\n",
            "INFO | 2023-06-08 18:53:17,394 | Function setup complete.\n"
          ]
        }
      ],
      "source": [
        "extra_reqs = ['evaluate', 'scikit-learn', 'accelerate']\n",
        "\n",
        "train = rh.function(fn=train).to(gpu, env=extra_reqs)"
      ]
    },
    {
      "attachments": {},
      "cell_type": "markdown",
      "metadata": {
        "id": "Mknhgstm7FWA"
      },
      "source": [
        "To run the function, call it as you would any Python function. Pass in the dataset reference, and optionally add `stream_logs=True` to see the logs locally."
      ]
    },
    {
      "cell_type": "code",
      "execution_count": 22,
      "metadata": {
        "colab": {
          "base_uri": "https://localhost:8080/"
        },
        "id": "QmA0TTZo6uNt",
        "outputId": "3d23a7a4-76de-4a90-e86e-f64daa5372de"
      },
      "outputs": [
        {
          "name": "stdout",
          "output_type": "stream",
          "text": [
            "INFO | 2023-06-08 18:53:21,114 | Running train via HTTP\n",
            "INFO | 2023-06-08 18:56:10,362 | Time to call remote function: 169.25 seconds\n",
            "INFO | 2023-06-08 18:56:10,365 | Submitted remote call to cluster. Result or logs can be retrieved\n",
            " with run_key \"train_20230608_185610\", e.g. \n",
            "`rh.cluster(name=\"/carolineechen/rh-a10x\").get(\"train_20230608_185610\", stream_logs=True)` in python \n",
            "`runhouse logs \"rh-a10x\" train_20230608_185610` from the command line.\n",
            " or cancelled with \n",
            "`rh.cluster(name=\"/carolineechen/rh-a10x\").cancel(\"train_20230608_185610\")` in python or \n",
            "`runhouse cancel \"rh-a10x\" train_20230608_185610` from the command line.\n",
            ":job_id:01000000\n",
            ":task_name:get_fn_from_pointers\n",
            ":job_id:01000000\n",
            "INFO | 2023-06-08 18:56:11,007 | Loaded Runhouse config from /home/ubuntu/.rh/config.yaml\n",
            ":task_name:get_fn_from_pointers\n",
            "INFO | 2023-06-08 18:56:11,821 | Writing logs on cluster to /home/ubuntu/.rh/logs/train_20230608_185610\n",
            "INFO | 2023-06-08 18:56:11,821 | Appending /home/ubuntu/content to sys.path\n",
            "INFO | 2023-06-08 18:56:11,821 | Importing module train_fn\n",
            "\n",
            "Downloading model.safetensors:   0%|          | 0.00/436M [00:00<?, ?B/s]\n",
            "Downloading model.safetensors:  12%|█▏        | 52.4M/436M [00:00<00:00, 468MB/s]\n",
            "Downloading model.safetensors:  24%|██▍       | 105M/436M [00:00<00:00, 490MB/s] \n",
            "Downloading model.safetensors:  36%|███▌      | 157M/436M [00:00<00:00, 447MB/s]\n",
            "Downloading model.safetensors:  48%|████▊     | 210M/436M [00:00<00:00, 446MB/s]\n",
            "Downloading model.safetensors:  60%|██████    | 262M/436M [00:00<00:00, 448MB/s]\n",
            "Downloading model.safetensors:  72%|███████▏  | 315M/436M [00:00<00:00, 456MB/s]\n",
            "Downloading model.safetensors:  84%|████████▍ | 367M/436M [00:00<00:00, 472MB/s]\n",
            "Downloading model.safetensors:  96%|█████████▋| 419M/436M [00:00<00:00, 480MB/s]\n",
            "Downloading model.safetensors: 100%|██████████| 436M/436M [00:00<00:00, 467MB/s]\n",
            "Some weights of the model checkpoint at bert-base-cased were not used when initializing BertForSequenceClassification: ['cls.predictions.bias', 'cls.seq_relationship.weight', 'cls.predictions.transform.dense.bias', 'cls.seq_relationship.bias', 'cls.predictions.transform.LayerNorm.weight', 'cls.predictions.transform.LayerNorm.bias', 'cls.predictions.transform.dense.weight']\n",
            "- This IS expected if you are initializing BertForSequenceClassification from the checkpoint of a model trained on another task or with another architecture (e.g. initializing a BertForSequenceClassification model from a BertForPreTraining model).\n",
            "- This IS NOT expected if you are initializing BertForSequenceClassification from the checkpoint of a model that you expect to be exactly identical (initializing a BertForSequenceClassification model from a BertForSequenceClassification model).\n",
            "Some weights of BertForSequenceClassification were not initialized from the model checkpoint at bert-base-cased and are newly initialized: ['classifier.bias', 'classifier.weight']\n",
            "You should probably TRAIN this model on a down-stream task to be able to use it for predictions and inference.\n",
            "\n",
            "Downloading builder script:   0%|          | 0.00/4.20k [00:00<?, ?B/s]\n",
            "Downloading builder script: 100%|██████████| 4.20k/4.20k [00:00<00:00, 7.13MB/s]\n",
            "\n",
            "  0%|          | 0/375 [00:00<?, ?it/s]\n",
            "  0%|          | 1/375 [01:11<7:28:39, 71.98s/it]\n",
            "  1%|          | 2/375 [01:12<3:05:04, 29.77s/it]\n",
            "  1%|          | 3/375 [01:12<1:40:56, 16.28s/it]\n",
            "  1%|          | 4/375 [01:12<1:01:29,  9.94s/it]\n",
            "  1%|▏         | 5/375 [01:12<39:42,  6.44s/it]  \n",
            "  2%|▏         | 6/375 [01:13<26:37,  4.33s/it]\n",
            "  2%|▏         | 7/375 [01:13<18:19,  2.99s/it]\n",
            "  2%|▏         | 8/375 [01:13<12:54,  2.11s/it]\n",
            "  2%|▏         | 9/375 [01:13<09:16,  1.52s/it]\n",
            "  3%|▎         | 10/375 [01:14<06:49,  1.12s/it]\n",
            "  3%|▎         | 11/375 [01:14<05:08,  1.18it/s]\n",
            "  3%|▎         | 12/375 [01:14<03:59,  1.52it/s]\n",
            "  3%|▎         | 13/375 [01:14<03:11,  1.89it/s]\n",
            "  4%|▎         | 14/375 [01:14<02:38,  2.28it/s]\n",
            "  4%|▍         | 15/375 [01:15<02:14,  2.67it/s]\n",
            "  4%|▍         | 16/375 [01:15<01:58,  3.02it/s]\n",
            "  5%|▍         | 17/375 [01:15<01:47,  3.34it/s]\n",
            "  5%|▍         | 18/375 [01:15<01:39,  3.59it/s]\n",
            "  5%|▌         | 19/375 [01:16<01:33,  3.80it/s]\n",
            "  5%|▌         | 20/375 [01:16<01:29,  3.96it/s]\n",
            "  6%|▌         | 21/375 [01:16<01:26,  4.08it/s]\n",
            "  6%|▌         | 22/375 [01:16<01:24,  4.16it/s]\n",
            "  6%|▌         | 23/375 [01:16<01:23,  4.22it/s]\n",
            "  6%|▋         | 24/375 [01:17<01:22,  4.27it/s]\n",
            "  7%|▋         | 25/375 [01:17<01:21,  4.30it/s]\n",
            "  7%|▋         | 26/375 [01:17<01:20,  4.32it/s]\n",
            "  7%|▋         | 27/375 [01:17<01:20,  4.34it/s]\n",
            "  7%|▋         | 28/375 [01:18<01:19,  4.35it/s]\n",
            "  8%|▊         | 29/375 [01:18<01:19,  4.36it/s]\n",
            "  8%|▊         | 30/375 [01:18<01:19,  4.36it/s]\n",
            "  8%|▊         | 31/375 [01:18<01:18,  4.37it/s]\n",
            "  9%|▊         | 32/375 [01:19<01:18,  4.37it/s]\n",
            "  9%|▉         | 33/375 [01:19<01:18,  4.37it/s]\n",
            "  9%|▉         | 34/375 [01:19<01:18,  4.37it/s]\n",
            "  9%|▉         | 35/375 [01:19<01:17,  4.38it/s]\n",
            " 10%|▉         | 36/375 [01:19<01:17,  4.37it/s]\n",
            " 10%|▉         | 37/375 [01:20<01:17,  4.37it/s]\n",
            " 10%|█         | 38/375 [01:20<01:17,  4.38it/s]\n",
            " 10%|█         | 39/375 [01:20<01:16,  4.37it/s]\n",
            " 11%|█         | 40/375 [01:20<01:16,  4.38it/s]\n",
            " 11%|█         | 41/375 [01:21<01:16,  4.38it/s]\n",
            " 11%|█         | 42/375 [01:21<01:16,  4.38it/s]\n",
            " 11%|█▏        | 43/375 [01:21<01:15,  4.38it/s]\n",
            " 12%|█▏        | 44/375 [01:21<01:15,  4.38it/s]\n",
            " 12%|█▏        | 45/375 [01:22<01:15,  4.38it/s]\n",
            " 12%|█▏        | 46/375 [01:22<01:15,  4.38it/s]\n",
            " 13%|█▎        | 47/375 [01:22<01:14,  4.38it/s]\n",
            " 13%|█▎        | 48/375 [01:22<01:14,  4.37it/s]\n",
            " 13%|█▎        | 49/375 [01:22<01:14,  4.38it/s]\n",
            " 13%|█▎        | 50/375 [01:23<01:14,  4.38it/s]\n",
            " 14%|█▎        | 51/375 [01:23<01:14,  4.38it/s]\n",
            " 14%|█▍        | 52/375 [01:23<01:13,  4.38it/s]\n",
            " 14%|█▍        | 53/375 [01:23<01:13,  4.37it/s]\n",
            " 14%|█▍        | 54/375 [01:24<01:13,  4.37it/s]\n",
            " 15%|█▍        | 55/375 [01:24<01:13,  4.37it/s]\n",
            " 15%|█▍        | 56/375 [01:24<01:12,  4.37it/s]\n",
            " 15%|█▌        | 57/375 [01:24<01:12,  4.37it/s]\n",
            " 15%|█▌        | 58/375 [01:24<01:12,  4.38it/s]\n",
            " 16%|█▌        | 59/375 [01:25<01:12,  4.38it/s]\n",
            " 16%|█▌        | 60/375 [01:25<01:11,  4.38it/s]\n",
            " 16%|█▋        | 61/375 [01:25<01:11,  4.38it/s]\n",
            " 17%|█▋        | 62/375 [01:25<01:11,  4.38it/s]\n",
            " 17%|█▋        | 63/375 [01:26<01:11,  4.38it/s]\n",
            " 17%|█▋        | 64/375 [01:26<01:11,  4.37it/s]\n",
            " 17%|█▋        | 65/375 [01:26<01:10,  4.38it/s]\n",
            " 18%|█▊        | 66/375 [01:26<01:10,  4.38it/s]\n",
            " 18%|█▊        | 67/375 [01:27<01:10,  4.38it/s]\n",
            " 18%|█▊        | 68/375 [01:27<01:10,  4.38it/s]\n",
            " 18%|█▊        | 69/375 [01:27<01:09,  4.39it/s]\n",
            " 19%|█▊        | 70/375 [01:27<01:09,  4.39it/s]\n",
            " 19%|█▉        | 71/375 [01:27<01:09,  4.39it/s]\n",
            " 19%|█▉        | 72/375 [01:28<01:09,  4.39it/s]\n",
            " 19%|█▉        | 73/375 [01:28<01:08,  4.39it/s]\n",
            " 20%|█▉        | 74/375 [01:28<01:08,  4.39it/s]\n",
            " 20%|██        | 75/375 [01:28<01:08,  4.39it/s]\n",
            " 20%|██        | 76/375 [01:29<01:08,  4.39it/s]\n",
            " 21%|██        | 77/375 [01:29<01:07,  4.39it/s]\n",
            " 21%|██        | 78/375 [01:29<01:07,  4.38it/s]\n",
            " 21%|██        | 79/375 [01:29<01:07,  4.39it/s]\n",
            " 21%|██▏       | 80/375 [01:30<01:07,  4.38it/s]\n",
            " 22%|██▏       | 81/375 [01:30<01:07,  4.38it/s]\n",
            " 22%|██▏       | 82/375 [01:30<01:06,  4.38it/s]\n",
            " 22%|██▏       | 83/375 [01:30<01:06,  4.38it/s]\n",
            " 22%|██▏       | 84/375 [01:30<01:06,  4.38it/s]\n",
            " 23%|██▎       | 85/375 [01:31<01:06,  4.39it/s]\n",
            " 23%|██▎       | 86/375 [01:31<01:05,  4.39it/s]\n",
            " 23%|██▎       | 87/375 [01:31<01:05,  4.39it/s]\n",
            " 23%|██▎       | 88/375 [01:31<01:05,  4.39it/s]\n",
            " 24%|██▎       | 89/375 [01:32<01:05,  4.39it/s]\n",
            " 24%|██▍       | 90/375 [01:32<01:05,  4.38it/s]\n",
            " 24%|██▍       | 91/375 [01:32<01:04,  4.38it/s]\n",
            " 25%|██▍       | 92/375 [01:32<01:04,  4.39it/s]\n",
            " 25%|██▍       | 93/375 [01:32<01:04,  4.39it/s]\n",
            " 25%|██▌       | 94/375 [01:33<01:04,  4.39it/s]\n",
            " 25%|██▌       | 95/375 [01:33<01:03,  4.39it/s]\n",
            " 26%|██▌       | 96/375 [01:33<01:03,  4.39it/s]\n",
            " 26%|██▌       | 97/375 [01:33<01:03,  4.39it/s]\n",
            " 26%|██▌       | 98/375 [01:34<01:03,  4.39it/s]\n",
            " 26%|██▋       | 99/375 [01:34<01:02,  4.39it/s]\n",
            " 27%|██▋       | 100/375 [01:34<01:02,  4.39it/s]\n",
            " 27%|██▋       | 101/375 [01:34<01:02,  4.38it/s]\n",
            " 27%|██▋       | 102/375 [01:35<01:02,  4.38it/s]\n",
            " 27%|██▋       | 103/375 [01:35<01:02,  4.39it/s]\n",
            " 28%|██▊       | 104/375 [01:35<01:01,  4.39it/s]\n",
            " 28%|██▊       | 105/375 [01:35<01:01,  4.39it/s]\n",
            " 28%|██▊       | 106/375 [01:35<01:01,  4.39it/s]\n",
            " 29%|██▊       | 107/375 [01:36<01:01,  4.39it/s]\n",
            " 29%|██▉       | 108/375 [01:36<01:00,  4.39it/s]\n",
            " 29%|██▉       | 109/375 [01:36<01:00,  4.39it/s]\n",
            " 29%|██▉       | 110/375 [01:36<01:00,  4.39it/s]\n",
            " 30%|██▉       | 111/375 [01:37<01:00,  4.39it/s]\n",
            " 30%|██▉       | 112/375 [01:37<00:59,  4.39it/s]\n",
            " 30%|███       | 113/375 [01:37<00:59,  4.38it/s]\n",
            " 30%|███       | 114/375 [01:37<00:59,  4.38it/s]\n",
            " 31%|███       | 115/375 [01:37<00:59,  4.38it/s]\n",
            " 31%|███       | 116/375 [01:38<00:59,  4.39it/s]\n",
            " 31%|███       | 117/375 [01:38<00:58,  4.38it/s]\n",
            " 31%|███▏      | 118/375 [01:38<00:58,  4.38it/s]\n",
            " 32%|███▏      | 119/375 [01:38<00:58,  4.38it/s]\n",
            " 32%|███▏      | 120/375 [01:39<00:58,  4.38it/s]\n",
            " 32%|███▏      | 121/375 [01:39<00:57,  4.38it/s]\n",
            " 33%|███▎      | 122/375 [01:39<00:57,  4.38it/s]\n",
            " 33%|███▎      | 123/375 [01:39<00:57,  4.38it/s]\n",
            " 33%|███▎      | 124/375 [01:40<00:57,  4.38it/s]\n",
            " 33%|███▎      | 125/375 [01:40<00:57,  4.38it/s]\n",
            "\n",
            "  0%|          | 0/125 [00:00<?, ?it/s]\u001b[A\n",
            "\n",
            "  2%|▏         | 3/125 [00:00<00:06, 19.31it/s]\u001b[A\n",
            "\n",
            "  4%|▍         | 5/125 [00:00<00:07, 15.52it/s]\u001b[A\n",
            "\n",
            "  6%|▌         | 7/125 [00:00<00:08, 14.32it/s]\u001b[A\n",
            "\n",
            "  7%|▋         | 9/125 [00:00<00:08, 13.75it/s]\u001b[A\n",
            "\n",
            "  9%|▉         | 11/125 [00:00<00:08, 13.42it/s]\u001b[A\n",
            "\n",
            " 10%|█         | 13/125 [00:00<00:08, 13.24it/s]\u001b[A\n",
            "\n",
            " 12%|█▏        | 15/125 [00:01<00:08, 13.12it/s]\u001b[A\n",
            "\n",
            " 14%|█▎        | 17/125 [00:01<00:08, 13.05it/s]\u001b[A\n",
            "\n",
            " 15%|█▌        | 19/125 [00:01<00:08, 13.00it/s]\u001b[A\n",
            "\n",
            " 17%|█▋        | 21/125 [00:01<00:08, 12.95it/s]\u001b[A\n",
            "\n",
            " 18%|█▊        | 23/125 [00:01<00:07, 12.91it/s]\u001b[A\n",
            "\n",
            " 20%|██        | 25/125 [00:01<00:07, 12.90it/s]\u001b[A\n",
            "\n",
            " 22%|██▏       | 27/125 [00:02<00:07, 12.89it/s]\u001b[A\n",
            "\n",
            " 23%|██▎       | 29/125 [00:02<00:07, 12.88it/s]\u001b[A\n",
            "\n",
            " 25%|██▍       | 31/125 [00:02<00:07, 12.86it/s]\u001b[A\n",
            "\n",
            " 26%|██▋       | 33/125 [00:02<00:07, 12.85it/s]\u001b[A\n",
            "\n",
            " 28%|██▊       | 35/125 [00:02<00:07, 12.85it/s]\u001b[A\n",
            "\n",
            " 30%|██▉       | 37/125 [00:02<00:06, 12.85it/s]\u001b[A\n",
            "\n",
            " 31%|███       | 39/125 [00:02<00:06, 12.86it/s]\u001b[A\n",
            "\n",
            " 33%|███▎      | 41/125 [00:03<00:06, 12.85it/s]\u001b[A\n",
            "\n",
            " 34%|███▍      | 43/125 [00:03<00:06, 12.86it/s]\u001b[A\n",
            "\n",
            " 36%|███▌      | 45/125 [00:03<00:06, 12.87it/s]\u001b[A\n",
            "\n",
            " 38%|███▊      | 47/125 [00:03<00:06, 12.84it/s]\u001b[A\n",
            "\n",
            " 39%|███▉      | 49/125 [00:03<00:05, 12.84it/s]\u001b[A\n",
            "\n",
            " 41%|████      | 51/125 [00:03<00:05, 12.85it/s]\u001b[A\n",
            "\n",
            " 42%|████▏     | 53/125 [00:04<00:05, 12.86it/s]\u001b[A\n",
            "\n",
            " 44%|████▍     | 55/125 [00:04<00:05, 12.86it/s]\u001b[A\n",
            "\n",
            " 46%|████▌     | 57/125 [00:04<00:05, 12.86it/s]\u001b[A\n",
            "\n",
            " 47%|████▋     | 59/125 [00:04<00:05, 12.86it/s]\u001b[A\n",
            "\n",
            " 49%|████▉     | 61/125 [00:04<00:04, 12.87it/s]\u001b[A\n",
            "\n",
            " 50%|█████     | 63/125 [00:04<00:04, 12.87it/s]\u001b[A\n",
            "\n",
            " 52%|█████▏    | 65/125 [00:04<00:04, 12.86it/s]\u001b[A\n",
            "\n",
            " 54%|█████▎    | 67/125 [00:05<00:04, 12.84it/s]\u001b[A\n",
            "\n",
            " 55%|█████▌    | 69/125 [00:05<00:04, 12.84it/s]\u001b[A\n",
            "\n",
            " 57%|█████▋    | 71/125 [00:05<00:04, 12.86it/s]\u001b[A\n",
            "\n",
            " 58%|█████▊    | 73/125 [00:05<00:04, 12.85it/s]\u001b[A\n",
            "\n",
            " 60%|██████    | 75/125 [00:05<00:03, 12.86it/s]\u001b[A\n",
            "\n",
            " 62%|██████▏   | 77/125 [00:05<00:03, 12.85it/s]\u001b[A\n",
            "\n",
            " 63%|██████▎   | 79/125 [00:06<00:03, 12.86it/s]\u001b[A\n",
            "\n",
            " 65%|██████▍   | 81/125 [00:06<00:03, 12.87it/s]\u001b[A\n",
            "\n",
            " 66%|██████▋   | 83/125 [00:06<00:03, 12.86it/s]\u001b[A\n",
            "\n",
            " 68%|██████▊   | 85/125 [00:06<00:03, 12.87it/s]\u001b[A\n",
            "\n",
            " 70%|██████▉   | 87/125 [00:06<00:02, 12.88it/s]\u001b[A\n",
            "\n",
            " 71%|███████   | 89/125 [00:06<00:02, 12.88it/s]\u001b[A\n",
            "\n",
            " 73%|███████▎  | 91/125 [00:06<00:02, 12.87it/s]\u001b[A\n",
            "\n",
            " 74%|███████▍  | 93/125 [00:07<00:02, 12.87it/s]\u001b[A\n",
            "\n",
            " 76%|███████▌  | 95/125 [00:07<00:02, 12.86it/s]\u001b[A\n",
            "\n",
            " 78%|███████▊  | 97/125 [00:07<00:02, 12.87it/s]\u001b[A\n",
            "\n",
            " 79%|███████▉  | 99/125 [00:07<00:02, 12.87it/s]\u001b[A\n",
            "\n",
            " 81%|████████  | 101/125 [00:07<00:01, 12.85it/s]\u001b[A\n",
            "\n",
            " 82%|████████▏ | 103/125 [00:07<00:01, 12.84it/s]\u001b[A\n",
            "\n",
            " 84%|████████▍ | 105/125 [00:08<00:01, 12.84it/s]\u001b[A\n",
            "\n",
            " 86%|████████▌ | 107/125 [00:08<00:01, 12.86it/s]\u001b[A\n",
            "\n",
            " 87%|████████▋ | 109/125 [00:08<00:01, 12.86it/s]\u001b[A\n",
            "\n",
            " 89%|████████▉ | 111/125 [00:08<00:01, 12.86it/s]\u001b[A\n",
            "\n",
            " 90%|█████████ | 113/125 [00:08<00:00, 12.87it/s]\u001b[A\n",
            "\n",
            " 92%|█████████▏| 115/125 [00:08<00:00, 12.87it/s]\u001b[A\n",
            "\n",
            " 94%|█████████▎| 117/125 [00:09<00:00, 12.87it/s]\u001b[A\n",
            "\n",
            " 95%|█████████▌| 119/125 [00:09<00:00, 12.86it/s]\u001b[A\n",
            "\n",
            " 97%|█████████▋| 121/125 [00:09<00:00, 12.86it/s]\u001b[A\n",
            "\n",
            " 98%|█████████▊| 123/125 [00:09<00:00, 12.86it/s]\u001b[A\n",
            "\n",
            "100%|██████████| 125/125 [00:09<00:00, 12.87it/s]\u001b[A\n",
            "                                                 \n",
            "\n",
            "                                                 \n",
            "\u001b[A\n",
            " 33%|███▎      | 125/375 [01:50<00:57,  4.38it/s]\n",
            "\n",
            "100%|██████████| 125/125 [00:09<00:00, 12.87it/s]\u001b[A\n",
            "\n",
            "                                                 \u001b[A\n",
            " 34%|███▎      | 126/375 [01:50<13:03,  3.15s/it]{'eval_loss': 1.1413816213607788, 'eval_accuracy': 0.518, 'eval_runtime': 9.7297, 'eval_samples_per_second': 102.778, 'eval_steps_per_second': 12.847, 'epoch': 1.0}\n",
            "\n",
            " 34%|███▍      | 127/375 [01:50<09:23,  2.27s/it]\n",
            " 34%|███▍      | 128/375 [01:50<06:49,  1.66s/it]\n",
            " 34%|███▍      | 129/375 [01:50<05:02,  1.23s/it]\n",
            " 35%|███▍      | 130/375 [01:51<03:47,  1.08it/s]\n",
            " 35%|███▍      | 131/375 [01:51<02:55,  1.39it/s]\n",
            " 35%|███▌      | 132/375 [01:51<02:18,  1.75it/s]\n",
            " 35%|███▌      | 133/375 [01:51<01:53,  2.13it/s]\n",
            " 36%|███▌      | 134/375 [01:52<01:35,  2.52it/s]\n",
            " 36%|███▌      | 135/375 [01:52<01:23,  2.89it/s]\n",
            " 36%|███▋      | 136/375 [01:52<01:14,  3.22it/s]\n",
            " 37%|███▋      | 137/375 [01:52<01:08,  3.50it/s]\n",
            " 37%|███▋      | 138/375 [01:52<01:03,  3.72it/s]\n",
            " 37%|███▋      | 139/375 [01:53<01:00,  3.90it/s]\n",
            " 37%|███▋      | 140/375 [01:53<00:58,  4.03it/s]\n",
            " 38%|███▊      | 141/375 [01:53<00:56,  4.13it/s]\n",
            " 38%|███▊      | 142/375 [01:53<00:55,  4.20it/s]\n",
            " 38%|███▊      | 143/375 [01:54<00:54,  4.25it/s]\n",
            " 38%|███▊      | 144/375 [01:54<00:53,  4.29it/s]\n",
            " 39%|███▊      | 145/375 [01:54<00:53,  4.32it/s]\n",
            " 39%|███▉      | 146/375 [01:54<00:52,  4.34it/s]\n",
            " 39%|███▉      | 147/375 [01:55<00:52,  4.35it/s]\n",
            " 39%|███▉      | 148/375 [01:55<00:52,  4.36it/s]\n",
            " 40%|███▉      | 149/375 [01:55<00:51,  4.37it/s]\n",
            " 40%|████      | 150/375 [01:55<00:51,  4.38it/s]\n",
            " 40%|████      | 151/375 [01:55<00:51,  4.38it/s]\n",
            " 41%|████      | 152/375 [01:56<00:50,  4.38it/s]\n",
            " 41%|████      | 153/375 [01:56<00:50,  4.38it/s]\n",
            " 41%|████      | 154/375 [01:56<00:50,  4.38it/s]\n",
            " 41%|████▏     | 155/375 [01:56<00:50,  4.38it/s]\n",
            " 42%|████▏     | 156/375 [01:57<00:50,  4.38it/s]\n",
            " 42%|████▏     | 157/375 [01:57<00:49,  4.38it/s]\n",
            " 42%|████▏     | 158/375 [01:57<00:49,  4.38it/s]\n",
            " 42%|████▏     | 159/375 [01:57<00:49,  4.38it/s]\n",
            " 43%|████▎     | 160/375 [01:57<00:49,  4.38it/s]\n",
            " 43%|████▎     | 161/375 [01:58<00:48,  4.38it/s]\n",
            " 43%|████▎     | 162/375 [01:58<00:48,  4.37it/s]\n",
            " 43%|████▎     | 163/375 [01:58<00:48,  4.37it/s]\n",
            " 44%|████▎     | 164/375 [01:58<00:48,  4.37it/s]\n",
            " 44%|████▍     | 165/375 [01:59<00:48,  4.37it/s]\n",
            " 44%|████▍     | 166/375 [01:59<00:47,  4.38it/s]\n",
            " 45%|████▍     | 167/375 [01:59<00:47,  4.38it/s]\n",
            " 45%|████▍     | 168/375 [01:59<00:47,  4.38it/s]\n",
            " 45%|████▌     | 169/375 [02:00<00:47,  4.38it/s]\n",
            " 45%|████▌     | 170/375 [02:00<00:46,  4.38it/s]\n",
            " 46%|████▌     | 171/375 [02:00<00:46,  4.38it/s]\n",
            " 46%|████▌     | 172/375 [02:00<00:46,  4.38it/s]\n",
            " 46%|████▌     | 173/375 [02:00<00:46,  4.38it/s]\n",
            " 46%|████▋     | 174/375 [02:01<00:45,  4.38it/s]\n",
            " 47%|████▋     | 175/375 [02:01<00:45,  4.38it/s]\n",
            " 47%|████▋     | 176/375 [02:01<00:45,  4.38it/s]\n",
            " 47%|████▋     | 177/375 [02:01<00:45,  4.38it/s]\n",
            " 47%|████▋     | 178/375 [02:02<00:45,  4.38it/s]\n",
            " 48%|████▊     | 179/375 [02:02<00:44,  4.37it/s]\n",
            " 48%|████▊     | 180/375 [02:02<00:44,  4.37it/s]\n",
            " 48%|████▊     | 181/375 [02:02<00:44,  4.38it/s]\n",
            " 49%|████▊     | 182/375 [02:03<00:44,  4.37it/s]\n",
            " 49%|████▉     | 183/375 [02:03<00:43,  4.38it/s]\n",
            " 49%|████▉     | 184/375 [02:03<00:43,  4.38it/s]\n",
            " 49%|████▉     | 185/375 [02:03<00:43,  4.38it/s]\n",
            " 50%|████▉     | 186/375 [02:03<00:43,  4.38it/s]\n",
            " 50%|████▉     | 187/375 [02:04<00:42,  4.37it/s]\n",
            " 50%|█████     | 188/375 [02:04<00:42,  4.37it/s]\n",
            " 50%|█████     | 189/375 [02:04<00:42,  4.37it/s]\n",
            " 51%|█████     | 190/375 [02:04<00:42,  4.37it/s]\n",
            " 51%|█████     | 191/375 [02:05<00:42,  4.38it/s]\n",
            " 51%|█████     | 192/375 [02:05<00:41,  4.38it/s]\n",
            " 51%|█████▏    | 193/375 [02:05<00:41,  4.38it/s]\n",
            " 52%|█████▏    | 194/375 [02:05<00:41,  4.38it/s]\n",
            " 52%|█████▏    | 195/375 [02:05<00:41,  4.38it/s]\n",
            " 52%|█████▏    | 196/375 [02:06<00:40,  4.38it/s]\n",
            " 53%|█████▎    | 197/375 [02:06<00:40,  4.38it/s]\n",
            " 53%|█████▎    | 198/375 [02:06<00:40,  4.38it/s]\n",
            " 53%|█████▎    | 199/375 [02:06<00:40,  4.38it/s]\n",
            " 53%|█████▎    | 200/375 [02:07<00:39,  4.38it/s]\n",
            " 54%|█████▎    | 201/375 [02:07<00:39,  4.38it/s]\n",
            " 54%|█████▍    | 202/375 [02:07<00:39,  4.38it/s]\n",
            " 54%|█████▍    | 203/375 [02:07<00:39,  4.38it/s]\n",
            " 54%|█████▍    | 204/375 [02:08<00:39,  4.38it/s]\n",
            " 55%|█████▍    | 205/375 [02:08<00:38,  4.38it/s]\n",
            " 55%|█████▍    | 206/375 [02:08<00:38,  4.38it/s]\n",
            " 55%|█████▌    | 207/375 [02:08<00:38,  4.38it/s]\n",
            " 55%|█████▌    | 208/375 [02:08<00:38,  4.38it/s]\n",
            " 56%|█████▌    | 209/375 [02:09<00:37,  4.38it/s]\n",
            " 56%|█████▌    | 210/375 [02:09<00:37,  4.37it/s]\n",
            " 56%|█████▋    | 211/375 [02:09<00:37,  4.37it/s]\n",
            " 57%|█████▋    | 212/375 [02:09<00:37,  4.38it/s]\n",
            " 57%|█████▋    | 213/375 [02:10<00:36,  4.38it/s]\n",
            " 57%|█████▋    | 214/375 [02:10<00:36,  4.38it/s]\n",
            " 57%|█████▋    | 215/375 [02:10<00:36,  4.38it/s]\n",
            " 58%|█████▊    | 216/375 [02:10<00:36,  4.38it/s]\n",
            " 58%|█████▊    | 217/375 [02:11<00:36,  4.38it/s]\n",
            " 58%|█████▊    | 218/375 [02:11<00:35,  4.38it/s]\n",
            " 58%|█████▊    | 219/375 [02:11<00:35,  4.38it/s]\n",
            " 59%|█████▊    | 220/375 [02:11<00:35,  4.38it/s]\n",
            " 59%|█████▉    | 221/375 [02:11<00:35,  4.37it/s]\n",
            " 59%|█████▉    | 222/375 [02:12<00:35,  4.36it/s]\n",
            " 59%|█████▉    | 223/375 [02:12<00:34,  4.37it/s]\n",
            " 60%|█████▉    | 224/375 [02:12<00:34,  4.37it/s]\n",
            " 60%|██████    | 225/375 [02:12<00:34,  4.37it/s]\n",
            " 60%|██████    | 226/375 [02:13<00:34,  4.37it/s]\n",
            " 61%|██████    | 227/375 [02:13<00:33,  4.37it/s]\n",
            " 61%|██████    | 228/375 [02:13<00:33,  4.37it/s]\n",
            " 61%|██████    | 229/375 [02:13<00:33,  4.37it/s]\n",
            " 61%|██████▏   | 230/375 [02:13<00:33,  4.38it/s]\n",
            " 62%|██████▏   | 231/375 [02:14<00:32,  4.37it/s]\n",
            " 62%|██████▏   | 232/375 [02:14<00:32,  4.37it/s]\n",
            " 62%|██████▏   | 233/375 [02:14<00:32,  4.37it/s]\n",
            " 62%|██████▏   | 234/375 [02:14<00:32,  4.37it/s]\n",
            " 63%|██████▎   | 235/375 [02:15<00:32,  4.37it/s]\n",
            " 63%|██████▎   | 236/375 [02:15<00:31,  4.38it/s]\n",
            " 63%|██████▎   | 237/375 [02:15<00:31,  4.38it/s]\n",
            " 63%|██████▎   | 238/375 [02:15<00:31,  4.38it/s]\n",
            " 64%|██████▎   | 239/375 [02:16<00:31,  4.38it/s]\n",
            " 64%|██████▍   | 240/375 [02:16<00:30,  4.38it/s]\n",
            " 64%|██████▍   | 241/375 [02:16<00:30,  4.38it/s]\n",
            " 65%|██████▍   | 242/375 [02:16<00:30,  4.37it/s]\n",
            " 65%|██████▍   | 243/375 [02:16<00:30,  4.38it/s]\n",
            " 65%|██████▌   | 244/375 [02:17<00:29,  4.38it/s]\n",
            " 65%|██████▌   | 245/375 [02:17<00:29,  4.37it/s]\n",
            " 66%|██████▌   | 246/375 [02:17<00:29,  4.38it/s]\n",
            " 66%|██████▌   | 247/375 [02:17<00:29,  4.38it/s]\n",
            " 66%|██████▌   | 248/375 [02:18<00:29,  4.37it/s]\n",
            " 66%|██████▋   | 249/375 [02:18<00:28,  4.38it/s]\n",
            " 67%|██████▋   | 250/375 [02:18<00:28,  4.38it/s]\n",
            "\n",
            "  0%|          | 0/125 [00:00<?, ?it/s]\u001b[A\n",
            "\n",
            "  2%|▏         | 3/125 [00:00<00:06, 19.24it/s]\u001b[A\n",
            "\n",
            "  4%|▍         | 5/125 [00:00<00:07, 15.45it/s]\u001b[A\n",
            "\n",
            "  6%|▌         | 7/125 [00:00<00:08, 14.28it/s]\u001b[A\n",
            "\n",
            "  7%|▋         | 9/125 [00:00<00:08, 13.72it/s]\u001b[A\n",
            "\n",
            "  9%|▉         | 11/125 [00:00<00:08, 13.39it/s]\u001b[A\n",
            "\n",
            " 10%|█         | 13/125 [00:00<00:08, 13.19it/s]\u001b[A\n",
            "\n",
            " 12%|█▏        | 15/125 [00:01<00:08, 13.08it/s]\u001b[A\n",
            "\n",
            " 14%|█▎        | 17/125 [00:01<00:08, 13.00it/s]\u001b[A\n",
            "\n",
            " 15%|█▌        | 19/125 [00:01<00:08, 12.92it/s]\u001b[A\n",
            "\n",
            " 17%|█▋        | 21/125 [00:01<00:08, 12.88it/s]\u001b[A\n",
            "\n",
            " 18%|█▊        | 23/125 [00:01<00:07, 12.86it/s]\u001b[A\n",
            "\n",
            " 20%|██        | 25/125 [00:01<00:07, 12.84it/s]\u001b[A\n",
            "\n",
            " 22%|██▏       | 27/125 [00:02<00:07, 12.85it/s]\u001b[A\n",
            "\n",
            " 23%|██▎       | 29/125 [00:02<00:07, 12.85it/s]\u001b[A\n",
            "\n",
            " 25%|██▍       | 31/125 [00:02<00:07, 12.84it/s]\u001b[A\n",
            "\n",
            " 26%|██▋       | 33/125 [00:02<00:07, 12.84it/s]\u001b[A\n",
            "\n",
            " 28%|██▊       | 35/125 [00:02<00:07, 12.84it/s]\u001b[A\n",
            "\n",
            " 30%|██▉       | 37/125 [00:02<00:06, 12.84it/s]\u001b[A\n",
            "\n",
            " 31%|███       | 39/125 [00:02<00:06, 12.85it/s]\u001b[A\n",
            "\n",
            " 33%|███▎      | 41/125 [00:03<00:06, 12.84it/s]\u001b[A\n",
            "\n",
            " 34%|███▍      | 43/125 [00:03<00:06, 12.84it/s]\u001b[A\n",
            "\n",
            " 36%|███▌      | 45/125 [00:03<00:06, 12.83it/s]\u001b[A\n",
            "\n",
            " 38%|███▊      | 47/125 [00:03<00:06, 12.84it/s]\u001b[A\n",
            "\n",
            " 39%|███▉      | 49/125 [00:03<00:05, 12.83it/s]\u001b[A\n",
            "\n",
            " 41%|████      | 51/125 [00:03<00:05, 12.84it/s]\u001b[A\n",
            "\n",
            " 42%|████▏     | 53/125 [00:04<00:05, 12.81it/s]\u001b[A\n",
            "\n",
            " 44%|████▍     | 55/125 [00:04<00:05, 12.81it/s]\u001b[A\n",
            "\n",
            " 46%|████▌     | 57/125 [00:04<00:05, 12.82it/s]\u001b[A\n",
            "\n",
            " 47%|████▋     | 59/125 [00:04<00:05, 12.83it/s]\u001b[A\n",
            "\n",
            " 49%|████▉     | 61/125 [00:04<00:04, 12.83it/s]\u001b[A\n",
            "\n",
            " 50%|█████     | 63/125 [00:04<00:04, 12.83it/s]\u001b[A\n",
            "\n",
            " 52%|█████▏    | 65/125 [00:04<00:04, 12.83it/s]\u001b[A\n",
            "\n",
            " 54%|█████▎    | 67/125 [00:05<00:04, 12.84it/s]\u001b[A\n",
            "\n",
            " 55%|█████▌    | 69/125 [00:05<00:04, 12.83it/s]\u001b[A\n",
            "\n",
            " 57%|█████▋    | 71/125 [00:05<00:04, 12.83it/s]\u001b[A\n",
            "\n",
            " 58%|█████▊    | 73/125 [00:05<00:04, 12.82it/s]\u001b[A\n",
            "\n",
            " 60%|██████    | 75/125 [00:05<00:03, 12.82it/s]\u001b[A\n",
            "\n",
            " 62%|██████▏   | 77/125 [00:05<00:03, 12.80it/s]\u001b[A\n",
            "\n",
            " 63%|██████▎   | 79/125 [00:06<00:03, 12.82it/s]\u001b[A\n",
            "\n",
            " 65%|██████▍   | 81/125 [00:06<00:03, 12.82it/s]\u001b[A\n",
            "\n",
            " 66%|██████▋   | 83/125 [00:06<00:03, 12.82it/s]\u001b[A\n",
            "\n",
            " 68%|██████▊   | 85/125 [00:06<00:03, 12.82it/s]\u001b[A\n",
            "\n",
            " 70%|██████▉   | 87/125 [00:06<00:02, 12.82it/s]\u001b[A\n",
            "\n",
            " 71%|███████   | 89/125 [00:06<00:02, 12.82it/s]\u001b[A\n",
            "\n",
            " 73%|███████▎  | 91/125 [00:07<00:02, 12.82it/s]\u001b[A\n",
            "\n",
            " 74%|███████▍  | 93/125 [00:07<00:02, 12.82it/s]\u001b[A\n",
            "\n",
            " 76%|███████▌  | 95/125 [00:07<00:02, 12.82it/s]\u001b[A\n",
            "\n",
            " 78%|███████▊  | 97/125 [00:07<00:02, 12.83it/s]\u001b[A\n",
            "\n",
            " 79%|███████▉  | 99/125 [00:07<00:02, 12.84it/s]\u001b[A\n",
            "\n",
            " 81%|████████  | 101/125 [00:07<00:01, 12.83it/s]\u001b[A\n",
            "\n",
            " 82%|████████▏ | 103/125 [00:07<00:01, 12.83it/s]\u001b[A\n",
            "\n",
            " 84%|████████▍ | 105/125 [00:08<00:01, 12.84it/s]\u001b[A\n",
            "\n",
            " 86%|████████▌ | 107/125 [00:08<00:01, 12.84it/s]\u001b[A\n",
            "\n",
            " 87%|████████▋ | 109/125 [00:08<00:01, 12.84it/s]\u001b[A\n",
            "\n",
            " 89%|████████▉ | 111/125 [00:08<00:01, 12.83it/s]\u001b[A\n",
            "\n",
            " 90%|█████████ | 113/125 [00:08<00:00, 12.83it/s]\u001b[A\n",
            "\n",
            " 92%|█████████▏| 115/125 [00:08<00:00, 12.83it/s]\u001b[A\n",
            "\n",
            " 94%|█████████▎| 117/125 [00:09<00:00, 12.84it/s]\u001b[A\n",
            "\n",
            " 95%|█████████▌| 119/125 [00:09<00:00, 12.83it/s]\u001b[A\n",
            "\n",
            " 97%|█████████▋| 121/125 [00:09<00:00, 12.82it/s]\u001b[A\n",
            "\n",
            " 98%|█████████▊| 123/125 [00:09<00:00, 12.81it/s]\u001b[A\n",
            "\n",
            "100%|██████████| 125/125 [00:09<00:00, 12.83it/s]\u001b[A\n",
            "                                                 \n",
            "\n",
            "                                                 \n",
            "\u001b[A\n",
            " 67%|██████▋   | 250/375 [02:28<00:28,  4.38it/s]\n",
            "\n",
            "100%|██████████| 125/125 [00:09<00:00, 12.83it/s]\u001b[A\n",
            "\n",
            "                                                 \u001b[A{'eval_loss': 1.0151797533035278, 'eval_accuracy': 0.576, 'eval_runtime': 9.7523, 'eval_samples_per_second': 102.539, 'eval_steps_per_second': 12.817, 'epoch': 2.0}\n",
            "\n",
            " 67%|██████▋   | 251/375 [02:28<06:34,  3.18s/it]\n",
            " 67%|██████▋   | 252/375 [02:28<04:42,  2.29s/it]\n",
            " 67%|██████▋   | 253/375 [02:29<03:24,  1.67s/it]\n",
            " 68%|██████▊   | 254/375 [02:29<02:30,  1.24s/it]\n",
            " 68%|██████▊   | 255/375 [02:29<01:52,  1.07it/s]\n",
            " 68%|██████▊   | 256/375 [02:29<01:26,  1.38it/s]\n",
            " 69%|██████▊   | 257/375 [02:29<01:07,  1.74it/s]\n",
            " 69%|██████▉   | 258/375 [02:30<00:55,  2.12it/s]\n",
            " 69%|██████▉   | 259/375 [02:30<00:46,  2.51it/s]\n",
            " 69%|██████▉   | 260/375 [02:30<00:40,  2.87it/s]\n",
            " 70%|██████▉   | 261/375 [02:30<00:35,  3.20it/s]\n",
            " 70%|██████▉   | 262/375 [02:31<00:32,  3.48it/s]\n",
            " 70%|███████   | 263/375 [02:31<00:30,  3.71it/s]\n",
            " 70%|███████   | 264/375 [02:31<00:28,  3.89it/s]\n",
            " 71%|███████   | 265/375 [02:31<00:27,  4.02it/s]\n",
            " 71%|███████   | 266/375 [02:32<00:26,  4.12it/s]\n",
            " 71%|███████   | 267/375 [02:32<00:25,  4.20it/s]\n",
            " 71%|███████▏  | 268/375 [02:32<00:25,  4.25it/s]\n",
            " 72%|███████▏  | 269/375 [02:32<00:24,  4.28it/s]\n",
            " 72%|███████▏  | 270/375 [02:32<00:24,  4.31it/s]\n",
            " 72%|███████▏  | 271/375 [02:33<00:24,  4.33it/s]\n",
            " 73%|███████▎  | 272/375 [02:33<00:23,  4.34it/s]\n",
            " 73%|███████▎  | 273/375 [02:33<00:23,  4.35it/s]\n",
            " 73%|███████▎  | 274/375 [02:33<00:23,  4.36it/s]\n",
            " 73%|███████▎  | 275/375 [02:34<00:22,  4.36it/s]\n",
            " 74%|███████▎  | 276/375 [02:34<00:22,  4.37it/s]\n",
            " 74%|███████▍  | 277/375 [02:34<00:22,  4.37it/s]\n",
            " 74%|███████▍  | 278/375 [02:34<00:22,  4.37it/s]\n",
            " 74%|███████▍  | 279/375 [02:35<00:21,  4.38it/s]\n",
            " 75%|███████▍  | 280/375 [02:35<00:21,  4.38it/s]\n",
            " 75%|███████▍  | 281/375 [02:35<00:21,  4.38it/s]\n",
            " 75%|███████▌  | 282/375 [02:35<00:21,  4.38it/s]\n",
            " 75%|███████▌  | 283/375 [02:35<00:21,  4.38it/s]\n",
            " 76%|███████▌  | 284/375 [02:36<00:20,  4.38it/s]\n",
            " 76%|███████▌  | 285/375 [02:36<00:20,  4.38it/s]\n",
            " 76%|███████▋  | 286/375 [02:36<00:20,  4.38it/s]\n",
            " 77%|███████▋  | 287/375 [02:36<00:20,  4.38it/s]\n",
            " 77%|███████▋  | 288/375 [02:37<00:19,  4.38it/s]\n",
            " 77%|███████▋  | 289/375 [02:37<00:19,  4.37it/s]\n",
            " 77%|███████▋  | 290/375 [02:37<00:19,  4.38it/s]\n",
            " 78%|███████▊  | 291/375 [02:37<00:19,  4.37it/s]\n",
            " 78%|███████▊  | 292/375 [02:37<00:18,  4.37it/s]\n",
            " 78%|███████▊  | 293/375 [02:38<00:18,  4.38it/s]\n",
            " 78%|███████▊  | 294/375 [02:38<00:18,  4.38it/s]\n",
            " 79%|███████▊  | 295/375 [02:38<00:18,  4.37it/s]\n",
            " 79%|███████▉  | 296/375 [02:38<00:18,  4.38it/s]\n",
            " 79%|███████▉  | 297/375 [02:39<00:17,  4.38it/s]\n",
            " 79%|███████▉  | 298/375 [02:39<00:17,  4.37it/s]\n",
            " 80%|███████▉  | 299/375 [02:39<00:17,  4.37it/s]\n",
            " 80%|████████  | 300/375 [02:39<00:17,  4.37it/s]\n",
            " 80%|████████  | 301/375 [02:40<00:16,  4.37it/s]\n",
            " 81%|████████  | 302/375 [02:40<00:16,  4.38it/s]\n",
            " 81%|████████  | 303/375 [02:40<00:16,  4.38it/s]\n",
            " 81%|████████  | 304/375 [02:40<00:16,  4.38it/s]\n",
            " 81%|████████▏ | 305/375 [02:40<00:15,  4.38it/s]\n",
            " 82%|████████▏ | 306/375 [02:41<00:15,  4.37it/s]\n",
            " 82%|████████▏ | 307/375 [02:41<00:15,  4.37it/s]\n",
            " 82%|████████▏ | 308/375 [02:41<00:15,  4.37it/s]\n",
            " 82%|████████▏ | 309/375 [02:41<00:15,  4.37it/s]\n",
            " 83%|████████▎ | 310/375 [02:42<00:14,  4.37it/s]\n",
            " 83%|████████▎ | 311/375 [02:42<00:14,  4.37it/s]\n",
            " 83%|████████▎ | 312/375 [02:42<00:14,  4.37it/s]\n",
            " 83%|████████▎ | 313/375 [02:42<00:14,  4.38it/s]\n",
            " 84%|████████▎ | 314/375 [02:43<00:13,  4.38it/s]\n",
            " 84%|████████▍ | 315/375 [02:43<00:13,  4.38it/s]\n",
            " 84%|████████▍ | 316/375 [02:43<00:13,  4.38it/s]\n",
            " 85%|████████▍ | 317/375 [02:43<00:13,  4.38it/s]\n",
            " 85%|████████▍ | 318/375 [02:43<00:13,  4.37it/s]\n",
            " 85%|████████▌ | 319/375 [02:44<00:12,  4.37it/s]\n",
            " 85%|████████▌ | 320/375 [02:44<00:12,  4.37it/s]\n",
            " 86%|████████▌ | 321/375 [02:44<00:12,  4.37it/s]\n",
            " 86%|████████▌ | 322/375 [02:44<00:12,  4.37it/s]\n",
            " 86%|████████▌ | 323/375 [02:45<00:11,  4.38it/s]\n",
            " 86%|████████▋ | 324/375 [02:45<00:11,  4.37it/s]\n",
            " 87%|████████▋ | 325/375 [02:45<00:11,  4.37it/s]\n",
            " 87%|████████▋ | 326/375 [02:45<00:11,  4.37it/s]\n",
            " 87%|████████▋ | 327/375 [02:45<00:10,  4.38it/s]\n",
            " 87%|████████▋ | 328/375 [02:46<00:10,  4.38it/s]\n",
            " 88%|████████▊ | 329/375 [02:46<00:10,  4.38it/s]\n",
            " 88%|████████▊ | 330/375 [02:46<00:10,  4.37it/s]\n",
            " 88%|████████▊ | 331/375 [02:46<00:10,  4.37it/s]\n",
            " 89%|████████▊ | 332/375 [02:47<00:09,  4.37it/s]\n",
            " 89%|████████▉ | 333/375 [02:47<00:09,  4.37it/s]\n",
            " 89%|████████▉ | 334/375 [02:47<00:09,  4.37it/s]\n",
            " 89%|████████▉ | 335/375 [02:47<00:09,  4.38it/s]\n",
            " 90%|████████▉ | 336/375 [02:48<00:08,  4.38it/s]\n",
            " 90%|████████▉ | 337/375 [02:48<00:08,  4.38it/s]\n",
            " 90%|█████████ | 338/375 [02:48<00:08,  4.38it/s]\n",
            " 90%|█████████ | 339/375 [02:48<00:08,  4.38it/s]\n",
            " 91%|█████████ | 340/375 [02:48<00:07,  4.38it/s]\n",
            " 91%|█████████ | 341/375 [02:49<00:07,  4.37it/s]\n",
            " 91%|█████████ | 342/375 [02:49<00:07,  4.37it/s]\n",
            " 91%|█████████▏| 343/375 [02:49<00:07,  4.37it/s]\n",
            " 92%|█████████▏| 344/375 [02:49<00:07,  4.37it/s]\n",
            " 92%|█████████▏| 345/375 [02:50<00:06,  4.37it/s]\n",
            " 92%|█████████▏| 346/375 [02:50<00:06,  4.37it/s]\n",
            " 93%|█████████▎| 347/375 [02:50<00:06,  4.37it/s]\n",
            " 93%|█████████▎| 348/375 [02:50<00:06,  4.38it/s]\n",
            " 93%|█████████▎| 349/375 [02:51<00:05,  4.37it/s]\n",
            " 93%|█████████▎| 350/375 [02:51<00:05,  4.38it/s]\n",
            " 94%|█████████▎| 351/375 [02:51<00:05,  4.37it/s]\n",
            " 94%|█████████▍| 352/375 [02:51<00:05,  4.38it/s]\n",
            " 94%|█████████▍| 353/375 [02:51<00:05,  4.37it/s]\n",
            " 94%|█████████▍| 354/375 [02:52<00:04,  4.37it/s]\n",
            " 95%|█████████▍| 355/375 [02:52<00:04,  4.37it/s]\n",
            " 95%|█████████▍| 356/375 [02:52<00:04,  4.38it/s]\n",
            " 95%|█████████▌| 357/375 [02:52<00:04,  4.38it/s]\n",
            " 95%|█████████▌| 358/375 [02:53<00:03,  4.37it/s]\n",
            " 96%|█████████▌| 359/375 [02:53<00:03,  4.37it/s]\n",
            " 96%|█████████▌| 360/375 [02:53<00:03,  4.37it/s]\n",
            " 96%|█████████▋| 361/375 [02:53<00:03,  4.37it/s]\n",
            " 97%|█████████▋| 362/375 [02:53<00:02,  4.38it/s]\n",
            " 97%|█████████▋| 363/375 [02:54<00:02,  4.38it/s]\n",
            " 97%|█████████▋| 364/375 [02:54<00:02,  4.37it/s]\n",
            " 97%|█████████▋| 365/375 [02:54<00:02,  4.37it/s]\n",
            " 98%|█████████▊| 366/375 [02:54<00:02,  4.37it/s]\n",
            " 98%|█████████▊| 367/375 [02:55<00:01,  4.37it/s]\n",
            " 98%|█████████▊| 368/375 [02:55<00:01,  4.37it/s]\n",
            " 98%|█████████▊| 369/375 [02:55<00:01,  4.38it/s]\n",
            " 99%|█████████▊| 370/375 [02:55<00:01,  4.37it/s]\n",
            " 99%|█████████▉| 371/375 [02:56<00:00,  4.37it/s]\n",
            " 99%|█████████▉| 372/375 [02:56<00:00,  4.37it/s]\n",
            " 99%|█████████▉| 373/375 [02:56<00:00,  4.37it/s]\n",
            "100%|█████████▉| 374/375 [02:56<00:00,  4.37it/s]\n",
            "100%|██████████| 375/375 [02:56<00:00,  4.38it/s]\n",
            "\n",
            "  0%|          | 0/125 [00:00<?, ?it/s]\u001b[A\n",
            "\n",
            "  2%|▏         | 3/125 [00:00<00:06, 19.19it/s]\u001b[A\n",
            "\n",
            "  4%|▍         | 5/125 [00:00<00:07, 15.41it/s]\u001b[A\n",
            "\n",
            "  6%|▌         | 7/125 [00:00<00:08, 14.22it/s]\u001b[A\n",
            "\n",
            "  7%|▋         | 9/125 [00:00<00:08, 13.69it/s]\u001b[A\n",
            "\n",
            "  9%|▉         | 11/125 [00:00<00:08, 13.37it/s]\u001b[A\n",
            "\n",
            " 10%|█         | 13/125 [00:00<00:08, 13.18it/s]\u001b[A\n",
            "\n",
            " 12%|█▏        | 15/125 [00:01<00:08, 13.06it/s]\u001b[A\n",
            "\n",
            " 14%|█▎        | 17/125 [00:01<00:08, 12.99it/s]\u001b[A\n",
            "\n",
            " 15%|█▌        | 19/125 [00:01<00:08, 12.94it/s]\u001b[A\n",
            "\n",
            " 17%|█▋        | 21/125 [00:01<00:08, 12.90it/s]\u001b[A\n",
            "\n",
            " 18%|█▊        | 23/125 [00:01<00:07, 12.88it/s]\u001b[A\n",
            "\n",
            " 20%|██        | 25/125 [00:01<00:07, 12.86it/s]\u001b[A\n",
            "\n",
            " 22%|██▏       | 27/125 [00:02<00:07, 12.85it/s]\u001b[A\n",
            "\n",
            " 23%|██▎       | 29/125 [00:02<00:07, 12.85it/s]\u001b[A\n",
            "\n",
            " 25%|██▍       | 31/125 [00:02<00:07, 12.83it/s]\u001b[A\n",
            "\n",
            " 26%|██▋       | 33/125 [00:02<00:07, 12.82it/s]\u001b[A\n",
            "\n",
            " 28%|██▊       | 35/125 [00:02<00:07, 12.82it/s]\u001b[A\n",
            "\n",
            " 30%|██▉       | 37/125 [00:02<00:06, 12.82it/s]\u001b[A\n",
            "\n",
            " 31%|███       | 39/125 [00:02<00:06, 12.82it/s]\u001b[A\n",
            "\n",
            " 33%|███▎      | 41/125 [00:03<00:06, 12.81it/s]\u001b[A\n",
            "\n",
            " 34%|███▍      | 43/125 [00:03<00:06, 12.81it/s]\u001b[A\n",
            "\n",
            " 36%|███▌      | 45/125 [00:03<00:06, 12.80it/s]\u001b[A\n",
            "\n",
            " 38%|███▊      | 47/125 [00:03<00:06, 12.82it/s]\u001b[A\n",
            "\n",
            " 39%|███▉      | 49/125 [00:03<00:05, 12.83it/s]\u001b[A\n",
            "\n",
            " 41%|████      | 51/125 [00:03<00:05, 12.83it/s]\u001b[A\n",
            "\n",
            " 42%|████▏     | 53/125 [00:04<00:05, 12.83it/s]\u001b[A\n",
            "\n",
            " 44%|████▍     | 55/125 [00:04<00:05, 12.83it/s]\u001b[A\n",
            "\n",
            " 46%|████▌     | 57/125 [00:04<00:05, 12.82it/s]\u001b[A\n",
            "\n",
            " 47%|████▋     | 59/125 [00:04<00:05, 12.84it/s]\u001b[A\n",
            "\n",
            " 49%|████▉     | 61/125 [00:04<00:04, 12.83it/s]\u001b[A\n",
            "\n",
            " 50%|█████     | 63/125 [00:04<00:04, 12.83it/s]\u001b[A\n",
            "\n",
            " 52%|█████▏    | 65/125 [00:04<00:04, 12.82it/s]\u001b[A\n",
            "\n",
            " 54%|█████▎    | 67/125 [00:05<00:04, 12.82it/s]\u001b[A\n",
            "\n",
            " 55%|█████▌    | 69/125 [00:05<00:04, 12.83it/s]\u001b[A\n",
            "\n",
            " 57%|█████▋    | 71/125 [00:05<00:04, 12.82it/s]\u001b[A\n",
            "\n",
            " 58%|█████▊    | 73/125 [00:05<00:04, 12.80it/s]\u001b[A\n",
            "\n",
            " 60%|██████    | 75/125 [00:05<00:03, 12.80it/s]\u001b[A\n",
            "\n",
            " 62%|██████▏   | 77/125 [00:05<00:03, 12.81it/s]\u001b[A\n",
            "\n",
            " 63%|██████▎   | 79/125 [00:06<00:03, 12.83it/s]\u001b[A\n",
            "\n",
            " 65%|██████▍   | 81/125 [00:06<00:03, 12.83it/s]\u001b[A\n",
            "\n",
            " 66%|██████▋   | 83/125 [00:06<00:03, 12.82it/s]\u001b[A\n",
            "\n",
            " 68%|██████▊   | 85/125 [00:06<00:03, 12.83it/s]\u001b[A\n",
            "\n",
            " 70%|██████▉   | 87/125 [00:06<00:02, 12.83it/s]\u001b[A\n",
            "\n",
            " 71%|███████   | 89/125 [00:06<00:02, 12.84it/s]\u001b[A\n",
            "\n",
            " 73%|███████▎  | 91/125 [00:07<00:02, 12.83it/s]\u001b[A\n",
            "\n",
            " 74%|███████▍  | 93/125 [00:07<00:02, 12.82it/s]\u001b[A\n",
            "\n",
            " 76%|███████▌  | 95/125 [00:07<00:02, 12.82it/s]\u001b[A\n",
            "\n",
            " 78%|███████▊  | 97/125 [00:07<00:02, 12.82it/s]\u001b[A\n",
            "\n",
            " 79%|███████▉  | 99/125 [00:07<00:02, 12.84it/s]\u001b[A\n",
            "\n",
            " 81%|████████  | 101/125 [00:07<00:01, 12.83it/s]\u001b[A\n",
            "\n",
            " 82%|████████▏ | 103/125 [00:07<00:01, 12.80it/s]\u001b[A\n",
            "\n",
            " 84%|████████▍ | 105/125 [00:08<00:01, 12.80it/s]\u001b[A\n",
            "\n",
            " 86%|████████▌ | 107/125 [00:08<00:01, 12.79it/s]\u001b[A\n",
            "\n",
            " 87%|████████▋ | 109/125 [00:08<00:01, 12.81it/s]\u001b[A\n",
            "\n",
            " 89%|████████▉ | 111/125 [00:08<00:01, 12.82it/s]\u001b[A\n",
            "\n",
            " 90%|█████████ | 113/125 [00:08<00:00, 12.83it/s]\u001b[A\n",
            "\n",
            " 92%|█████████▏| 115/125 [00:08<00:00, 12.82it/s]\u001b[A\n",
            "\n",
            " 94%|█████████▎| 117/125 [00:09<00:00, 12.82it/s]\u001b[A\n",
            "\n",
            " 95%|█████████▌| 119/125 [00:09<00:00, 12.83it/s]\u001b[A\n",
            "\n",
            " 97%|█████████▋| 121/125 [00:09<00:00, 12.83it/s]\u001b[A\n",
            "\n",
            " 98%|█████████▊| 123/125 [00:09<00:00, 12.83it/s]\u001b[A\n",
            "\n",
            "100%|██████████| 125/125 [00:09<00:00, 12.83it/s]\u001b[A\n",
            "                                                 \n",
            "\n",
            "                                                 \n",
            "\u001b[A\n",
            "100%|██████████| 375/375 [03:06<00:00,  4.38it/s]\n",
            "\n",
            "100%|██████████| 125/125 [00:09<00:00, 12.83it/s]\u001b[A\n",
            "\n",
            "                                                 \u001b[A\n",
            "                                                 \n",
            "\n",
            "100%|██████████| 375/375 [03:06<00:00,  4.38it/s]\n",
            "100%|██████████| 375/375 [03:06<00:00,  2.01it/s]\n",
            "{'eval_loss': 1.0775768756866455, 'eval_accuracy': 0.568, 'eval_runtime': 9.7574, 'eval_samples_per_second': 102.486, 'eval_steps_per_second': 12.811, 'epoch': 3.0}\n",
            "{'train_runtime': 186.7323, 'train_samples_per_second': 16.066, 'train_steps_per_second': 2.008, 'train_loss': 0.98061328125, 'epoch': 3.0}\n"
          ]
        }
      ],
      "source": [
        "train(datasets_ref, stream_logs=True)"
      ]
    },
    {
      "attachments": {},
      "cell_type": "markdown",
      "metadata": {
        "id": "cdFk6f-K8VcD"
      },
      "source": [
        "### Training from existing script\n",
        "\n",
        "Runhouse also makes it easy to run scripts and commands on your remote cluster, so if you have an existing training script, you can easily directly run that on your remote compute as well.\n",
        "\n",
        "- Sync over your working directory with the training script to the cluster\n",
        "- Set up environment and package installations on the cluster\n",
        "- Run the script with a simple command\n"
      ]
    },
    {
      "attachments": {},
      "cell_type": "markdown",
      "metadata": {
        "id": "YSs1xxktei9k"
      },
      "source": [
        "To sync over the working directory, you can create a Runhouse folder resource and send it over to the cluster.\n",
        "\n"
      ]
    },
    {
      "cell_type": "code",
      "execution_count": null,
      "metadata": {
        "id": "TdI0k-wwfSE0"
      },
      "outputs": [],
      "source": [
        "# rh.folder(path=\"local_folder_path\", dest_path=\"remote_folder_path\").to(gpu)"
      ]
    },
    {
      "attachments": {},
      "cell_type": "markdown",
      "metadata": {
        "id": "cEUV-aKifPaj"
      },
      "source": [
        "Alternatively, if the script lives inside a GitHub repo, you could also directly clone and install the GitHub repo remotely with the GitPackage API.\n",
        "\n",
        "In this case, let's say we're trying to access and run [examples/nlp_example.py](https://github.com/huggingface/accelerate/blob/v0.15.0/examples/nlp_example.py) from the [accelerate GitHub repo](https://github.com/huggingface/accelerate)."
      ]
    },
    {
      "cell_type": "code",
      "execution_count": 35,
      "metadata": {
        "colab": {
          "base_uri": "https://localhost:8080/"
        },
        "id": "_qna3veVeirc",
        "outputId": "e046998b-0b61-48c8-a7b7-00df177a181a"
      },
      "outputs": [
        {
          "name": "stdout",
          "output_type": "stream",
          "text": [
            "INFO | 2023-06-08 19:57:11,991 | Installing packages on cluster rh-a10x: ['GitPackage: https://github.com/huggingface/accelerate.git@v0.18.0']\n"
          ]
        }
      ],
      "source": [
        "git_package = rh.git_package(git_url='https://github.com/huggingface/accelerate.git',\n",
        "                            install_method='pip',\n",
        "                            revision='v0.18.0')\n",
        "gpu.install_packages([git_package])"
      ]
    },
    {
      "attachments": {},
      "cell_type": "markdown",
      "metadata": {
        "id": "_FpkT0RrkAcg"
      },
      "source": [
        "Additionally install any other necessary requirements to run the script."
      ]
    },
    {
      "cell_type": "code",
      "execution_count": null,
      "metadata": {
        "id": "U-r7oTrsm3gs"
      },
      "outputs": [],
      "source": [
        "reqs = ['evaluate', 'transformers', 'datasets==2.3.2', 'scipy', 'scikit-learn', 'tqdm', 'tensorboard', 'torch==1.12.0']\n",
        "\n",
        "env = rh.env(reqs=reqs)\n",
        "env.to(gpu)\n",
        "\n",
        "# or\n",
        "# gpu.install_packages(reqs)"
      ]
    },
    {
      "attachments": {},
      "cell_type": "markdown",
      "metadata": {
        "id": "ektIAk3Vkg9w"
      },
      "source": [
        "Now that we have the script and dependencies on the cluster, we can run the script using `gpu.run([command])`"
      ]
    },
    {
      "cell_type": "code",
      "execution_count": null,
      "metadata": {
        "id": "cmXgX89vmm6q"
      },
      "outputs": [],
      "source": [
        "gpu.run(['python accelerate/examples/nlp_example.py'])"
      ]
    },
    {
      "attachments": {},
      "cell_type": "markdown",
      "metadata": {
        "id": "HgRXv6ZAZv82"
      },
      "source": [
        "## Terminate Cluster\n",
        "\n",
        "To terminate the cluster after you're done using it, you can either use the `sky down cluster-name` CLI command or `cluster_var.down()` Python API.\n",
        "\n",
        "If you set up autostop for the cluster or in your configs (default to 30 min), the cluster will automatically terminate after that period of inactivity."
      ]
    },
    {
      "cell_type": "code",
      "execution_count": 37,
      "metadata": {
        "colab": {
          "base_uri": "https://localhost:8080/"
        },
        "id": "r7CsBIgDvSn1",
        "outputId": "a2df7f74-a357-4634-a958-0ffae822ad72"
      },
      "outputs": [
        {
          "name": "stdout",
          "output_type": "stream",
          "text": [
            "Terminating 1 cluster: rh-a10x. Proceed? [Y/n]: y\n",
            "\u001b[2K\u001b[1;36mTerminating 1 cluster\u001b[0m \u001b[90m━━━━━━━━━━━━━━━━━━━━━━━━━━━━━━━━━━━━━━━━\u001b[0m \u001b[35m  0%\u001b[0m \u001b[36m-:--:--\u001b[0m"
          ]
        },
        {
          "name": "stderr",
          "output_type": "stream",
          "text": [
            "2023-06-08 17:09:58,834| ERROR   | Socket exception: Connection reset by peer (104)\n"
          ]
        },
        {
          "name": "stdout",
          "output_type": "stream",
          "text": [
            "\u001b[2K\u001b[1;36mTerminating 1 cluster\u001b[0m \u001b[90m━━━━━━━━━━━━━━━━━━━━━━━━━━━━━━━━━━━━━━━━\u001b[0m \u001b[35m  0%\u001b[0m \u001b[36m-:--:--\u001b[0mERROR | 2023-06-08 17:09:58,834 | Socket exception: Connection reset by peer (104)\n",
            "\u001b[2K\u001b[1;36mTerminating 1 cluster\u001b[0m \u001b[90m━━━━━━━━━━━━━━━━━━━━━━━━━━━━━━━━━━━━━━━━\u001b[0m \u001b[35m  0%\u001b[0m \u001b[36m-:--:--\u001b[0m\n",
            "\u001b[1A\u001b[2K\u001b[32mTerminating cluster rh-a10x...done.\u001b[0m\n",
            "\u001b[2K\u001b[1;36mTerminating 1 cluster\u001b[0m \u001b[90m━━━━━━━━━━━━━━━━━━━━━━━━━━━━━━━━━━━━━━━━\u001b[0m \u001b[35m100%\u001b[0m \u001b[36m0:00:00\u001b[0m\n",
            "\u001b[?25h\u001b[0m"
          ]
        }
      ],
      "source": [
        "# cli\n",
        "!sky down rh-a10x\n",
        "\n",
        "# python\n",
        "# gpu.down()"
      ]
    },
    {
      "cell_type": "code",
      "execution_count": null,
      "metadata": {
        "id": "eAtmi0c8-__U"
      },
      "outputs": [],
      "source": []
    }
  ],
  "metadata": {
    "colab": {
      "provenance": []
    },
    "kernelspec": {
      "display_name": "Python 3",
      "language": "python",
      "name": "python3"
    },
    "language_info": {
      "name": "python",
      "version": "3.11.4"
    },
    "vscode": {
      "interpreter": {
        "hash": "b0fa6594d8f4cbf19f97940f81e996739fb7646882a419484c72d19e05852a7e"
      }
    },
    "widgets": {
      "application/vnd.jupyter.widget-state+json": {
        "9102ec126e764a24a911a697f05ce1ed": {
          "model_module": "@jupyter-widgets/base",
          "model_module_version": "1.2.0",
          "model_name": "LayoutModel",
          "state": {
            "_model_module": "@jupyter-widgets/base",
            "_model_module_version": "1.2.0",
            "_model_name": "LayoutModel",
            "_view_count": null,
            "_view_module": "@jupyter-widgets/base",
            "_view_module_version": "1.2.0",
            "_view_name": "LayoutView",
            "align_content": null,
            "align_items": null,
            "align_self": null,
            "border": null,
            "bottom": null,
            "display": null,
            "flex": null,
            "flex_flow": null,
            "grid_area": null,
            "grid_auto_columns": null,
            "grid_auto_flow": null,
            "grid_auto_rows": null,
            "grid_column": null,
            "grid_gap": null,
            "grid_row": null,
            "grid_template_areas": null,
            "grid_template_columns": null,
            "grid_template_rows": null,
            "height": null,
            "justify_content": null,
            "justify_items": null,
            "left": null,
            "margin": null,
            "max_height": null,
            "max_width": null,
            "min_height": null,
            "min_width": null,
            "object_fit": null,
            "object_position": null,
            "order": null,
            "overflow": null,
            "overflow_x": null,
            "overflow_y": null,
            "padding": null,
            "right": null,
            "top": null,
            "visibility": null,
            "width": null
          }
        },
        "dd026ccb4fe8409f8bdbf166409373c8": {
          "model_module": "@jupyter-widgets/output",
          "model_module_version": "1.0.0",
          "model_name": "OutputModel",
          "state": {
            "_dom_classes": [],
            "_model_module": "@jupyter-widgets/output",
            "_model_module_version": "1.0.0",
            "_model_name": "OutputModel",
            "_view_count": null,
            "_view_module": "@jupyter-widgets/output",
            "_view_module_version": "1.0.0",
            "_view_name": "OutputView",
            "layout": "IPY_MODEL_9102ec126e764a24a911a697f05ce1ed",
            "msg_id": "",
            "outputs": [
              {
                "data": {
                  "text/html": "<pre style=\"white-space:pre;overflow-x:auto;line-height:normal;font-family:Menlo,'DejaVu Sans Mono',consolas,'Courier New',monospace\"><span style=\"color: #008080; text-decoration-color: #008080; font-weight: bold\">Refreshing status for 1 cluster</span> <span style=\"color: #3a3a3a; text-decoration-color: #3a3a3a\">━━━━━━━━━━━━━━━━━━━━━━━━━━━━━━━━━━━━━━━━</span> <span style=\"color: #800080; text-decoration-color: #800080\">  0%</span> <span style=\"color: #008080; text-decoration-color: #008080\">-:--:--</span>\n</pre>\n",
                  "text/plain": "\u001b[1;36mRefreshing status for 1 cluster\u001b[0m \u001b[38;5;237m━━━━━━━━━━━━━━━━━━━━━━━━━━━━━━━━━━━━━━━━\u001b[0m \u001b[35m  0%\u001b[0m \u001b[36m-:--:--\u001b[0m\n"
                },
                "metadata": {},
                "output_type": "display_data"
              }
            ]
          }
        }
      }
    }
  },
  "nbformat": 4,
  "nbformat_minor": 0
}
